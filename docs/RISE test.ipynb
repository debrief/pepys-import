{
 "cells": [
  {
   "cell_type": "markdown",
   "metadata": {
    "slideshow": {
     "slide_type": "slide"
    }
   },
   "source": [
    "# Welcome to the Pepys Training\n",
    "This interactive presentation is designed to be used alongside XYZ."
   ]
  },
  {
   "cell_type": "markdown",
   "metadata": {
    "slideshow": {
     "slide_type": "slide"
    }
   },
   "source": [
    "Each slide of this presentation will have an interactive terminal on it. To start the interactive terminal when you get to a slide, press Ctrl-Enter. Try this below, and you should get a message saying setup has been successful."
   ]
  },
  {
   "cell_type": "code",
   "execution_count": 1,
   "metadata": {
    "hidePrompt": false,
    "slideshow": {
     "slide_type": "-"
    }
   },
   "outputs": [
    {
     "name": "stdout",
     "output_type": "stream",
     "text": [
      "Current path /Users/robin/Documents/IanMayo/pepys-import\n",
      "Set up complete\n"
     ]
    }
   ],
   "source": [
    "from setup_rise import setup\n",
    "setup()"
   ]
  },
  {
   "cell_type": "markdown",
   "metadata": {
    "slideshow": {
     "slide_type": "slide"
    }
   },
   "source": [
    "##### Exercise 1 - Pepys Import"
   ]
  },
  {
   "cell_type": "code",
   "execution_count": 2,
   "metadata": {
    "hidePrompt": false,
    "scrolled": false,
    "slideshow": {
     "slide_type": "-"
    }
   },
   "outputs": [
    {
     "data": {
      "text/html": [
       "\n",
       "        <div id=\"notebook_xterm_e6d9c8d7-c90f-40cd-b596-6c30224b6ab8\"></div>\n",
       "        <script id=\"notebook_script\">var MAX_POLL_INTERVAL = 1500;\n",
       "var MIN_POLL_INTERVAL = 100;\n",
       "var BACKOFF_RATE = 1.8;\n",
       "var PY_XTERM_INSTANCE = 'get_ipython().find_magic(\"xterm\").__self__';\n",
       "var PY_TERMINAL_SERVER = PY_XTERM_INSTANCE + '.getTerminalServer()';\n",
       "\n",
       "// From https://stackoverflow.com/questions/30106476/using-javascripts-atob-to-decode-base64-doesnt-properly-decode-utf-8-strings\n",
       "var clz32 = Math.clz32 || (function (log, LN2) {\n",
       "    \"use strict\";\n",
       "    return function (x) {\n",
       "        return 31 - log(x >>> 0) / LN2 | 0\n",
       "    };\n",
       "})(Math.log, Math.LN2);\n",
       "var fromCharCode = String.fromCharCode;\n",
       "var atobUTF8 = (function (atob, replacer) {\n",
       "    \"use strict\";\n",
       "    return function (inputString, keepBOM) {\n",
       "        inputString = atob(inputString);\n",
       "        if (!keepBOM && inputString.substring(0, 3) === \"\\xEF\\xBB\\xBF\")\n",
       "            inputString = inputString.substring(3); // eradicate UTF-8 BOM\n",
       "        // 0xc0 => 0b11000000; 0xff => 0b11111111; 0xc0-0xff => 0b11xxxxxx\n",
       "        // 0x80 => 0b10000000; 0xbf => 0b10111111; 0x80-0xbf => 0b10xxxxxx\n",
       "        return inputString.replace(/[\\xc0-\\xff][\\x80-\\xbf]*/g, replacer);\n",
       "    }\n",
       "})(atob, function (encoded) {\n",
       "    \"use strict\";\n",
       "    var codePoint = encoded.charCodeAt(0) << 24;\n",
       "    var leadingOnes = clz32(~codePoint);\n",
       "    var endPos = 0,\n",
       "        stringLen = encoded.length;\n",
       "    var result = \"\";\n",
       "    if (leadingOnes < 5 && stringLen >= leadingOnes) {\n",
       "        codePoint = (codePoint << leadingOnes) >>> (24 + leadingOnes);\n",
       "        for (endPos = 1; endPos < leadingOnes; ++endPos)\n",
       "            codePoint = (codePoint << 6) | (encoded.charCodeAt(endPos) & 0x3f /*0b00111111*/ );\n",
       "        if (codePoint <= 0xFFFF) { // BMP code point\n",
       "            result += fromCharCode(codePoint);\n",
       "        } else if (codePoint <= 0x10FFFF) {\n",
       "            // https://mathiasbynens.be/notes/javascript-encoding#surrogate-formulae\n",
       "            codePoint -= 0x10000;\n",
       "            result += fromCharCode(\n",
       "                (codePoint >> 10) + 0xD800, // highSurrogate\n",
       "                (codePoint & 0x3ff) + 0xDC00 // lowSurrogate\n",
       "            );\n",
       "        } else endPos = 0; // to fill it in with INVALIDs\n",
       "    }\n",
       "    for (; endPos < stringLen; ++endPos) result += \"\\ufffd\"; // replacement character\n",
       "    return result;\n",
       "});\n",
       "\n",
       "\n",
       "function TerminalClient(elem) {\n",
       "    this.closed = false;\n",
       "    // require xterm.js\n",
       "    require.config({\n",
       "      paths: {\n",
       "          xterm: '//cdnjs.cloudflare.com/ajax/libs/xterm/2.9.2/xterm.min'\n",
       "      }\n",
       "    });\n",
       "\n",
       "    require(['xterm'], function(Terminal) {\n",
       "        this.div_id = elem.attr('id')\n",
       "        var termArea = this.create_ui(elem);\n",
       "        this.term = new Terminal({\n",
       "            rows: 15,\n",
       "            cols: 100\n",
       "        });\n",
       "        this.term.open(termArea[0]);\n",
       "\n",
       "        this.term.on('data', function(data) {\n",
       "            this.handle_transmit(data);\n",
       "        }.bind(this));\n",
       "\n",
       "        this.term.on('resize', function() {\n",
       "            this.handle_resize()\n",
       "        }.bind(this));\n",
       "\n",
       "        // set title\n",
       "        this.term.on('title', function(title) {\n",
       "            this.handle_title(title);\n",
       "        }.bind(this));\n",
       "\n",
       "        this.termArea.on('remove', function(ev) {\n",
       "            this.close();\n",
       "        }.bind(this))\n",
       "\n",
       "        // set the initial size correctly\n",
       "        this.handle_resize();\n",
       "\n",
       "        // reset the terminal\n",
       "        this.server_exec(PY_TERMINAL_SERVER + '.transmit(b\"' + btoa('\\r\\nreset\\r\\nclear\\r') + '\")');\n",
       "\n",
       "        // start polling\n",
       "        this.curPollInterval = MIN_POLL_INTERVAL;\n",
       "        this.poll_server();\n",
       "        console.log('Starting notebook_xterm.');\n",
       "\n",
       "        this.server_exec(PY_TERMINAL_SERVER + '.initial_transmit()');\n",
       "\n",
       "    }.bind(this));\n",
       "}\n",
       "\n",
       "TerminalClient.prototype.create_ui = function(elem) {\n",
       "    var INITIAL_TITLE = 'Interactive terminal'\n",
       "    // add xterm stylesheet for formatting\n",
       "    var xtermCssUrl = 'https://cdnjs.cloudflare.com/ajax/libs/xterm/2.9.2/xterm.min.css'\n",
       "    $('<link/>', {rel: 'stylesheet', href: xtermCssUrl}).appendTo('head');\n",
       "\n",
       "    this.wrap = $('<div>').appendTo(elem);\n",
       "    this.wrap.css({\n",
       "        padding: 10,\n",
       "        margin: 10,\n",
       "        marginTop: 5,\n",
       "        backgroundColor: 'black',\n",
       "        borderRadius: 5\n",
       "    });\n",
       "    this.titleBar = $('<div>').appendTo(this.wrap);\n",
       "    this.titleBar.css({\n",
       "        color: '#AAA',\n",
       "        margin: -10,\n",
       "        marginBottom: 5,\n",
       "        padding: 10,\n",
       "        overflow: 'hidden',\n",
       "        borderBottom: '1px solid #AAA'\n",
       "    })\n",
       "    this.titleBar.addClass('notebook_title');\n",
       "    this.titleText = $('<div>').html(INITIAL_TITLE).css({float: 'left'}).appendTo(this.titleBar);\n",
       "    this.comIndicator = $('<div>').html('&middot;').css({float: 'left', marginLeft: 10}).hide().appendTo(this.titleBar);\n",
       "    this.close_button = $('<div>').html('<a onclick=\"window.terminalClient.close()\">close</a>').css({float: 'right'}).appendTo(this.titleBar);\n",
       "    this.termArea = $('<div>').appendTo(this.wrap);\n",
       "    return this.termArea;\n",
       "}\n",
       "\n",
       "TerminalClient.prototype.update_com_indicator = function() {\n",
       "    this.comIndicator.show().fadeOut(400);\n",
       "}\n",
       "\n",
       "TerminalClient.prototype.server_exec = function(cmd) {\n",
       "    if (this.closed) {\n",
       "        return;\n",
       "    }\n",
       "\n",
       "    Jupyter.notebook.kernel.execute(cmd, {\n",
       "        iopub: {\n",
       "            output: function(data) {\n",
       "                this.receive_data_callback(data)\n",
       "            }.bind(this)\n",
       "        }\n",
       "    });\n",
       "}\n",
       "\n",
       "TerminalClient.prototype.poll_server = function() {\n",
       "    if (this.closed) {\n",
       "        return;\n",
       "    }\n",
       "\n",
       "    this.server_exec(PY_TERMINAL_SERVER + '.receive()');\n",
       "    clearTimeout(this.termPollTimer);\n",
       "    this.termPollTimer = setTimeout(function() {\n",
       "        this.poll_server();\n",
       "    }.bind(this), this.curPollInterval);\n",
       "    // gradually back off the polling interval\n",
       "    this.curPollInterval = Math.min(this.curPollInterval*BACKOFF_RATE, MAX_POLL_INTERVAL);\n",
       "\n",
       "    this.check_for_close();\n",
       "}\n",
       "TerminalClient.prototype.receive_data_callback = function(data) {\n",
       "    if (this.closed) {\n",
       "        return;\n",
       "    }\n",
       "\n",
       "    try {\n",
       "        var decoded = atobUTF8(data.content.text);\n",
       "        this.term.write(decoded);\n",
       "    }\n",
       "    catch(e) {\n",
       "        var message = \"\\u001b[31;1m~~~ notebook_xterm error ~~~\\u001b[0m\\r\\n\"\n",
       "        if (data.content.ename && data.content.evalue) {\n",
       "            message += data.content.ename + \": \" + data.content.evalue + \"\\r\\n\";\n",
       "            data.content.traceback.map(function(row){\n",
       "                row = row.replace('\\n', '\\r\\n')\n",
       "                message += row + '\\r\\n';\n",
       "            });\n",
       "        } else {\n",
       "            message += \"See browser console for more details.\\r\\n\";\n",
       "        }\n",
       "        console.log(data.content);\n",
       "        console.error(\"%O\", e)\n",
       "        this.handle_title('error');\n",
       "        this.term.write(message);    }\n",
       "}\n",
       "TerminalClient.prototype.handle_transmit = function(data) {\n",
       "    // we've had interaction, so reset the timer for the next poll\n",
       "    // to minPollInterval\n",
       "    this.curPollInterval = MIN_POLL_INTERVAL;\n",
       "\n",
       "    // transmit data to the server, but b64 encode it\n",
       "    this.server_exec(PY_TERMINAL_SERVER + '.transmit(b\"' + btoa(data) + '\")');\n",
       "}\n",
       "\n",
       "TerminalClient.prototype.handle_resize = function() {\n",
       "    this.server_exec(PY_TERMINAL_SERVER + '.update_window_size('+ this.term.rows + ', '+ this.term.cols + ')');\n",
       "}\n",
       "\n",
       "TerminalClient.prototype.handle_title = function(title) {\n",
       "    this.titleText.html(title);\n",
       "}\n",
       "TerminalClient.prototype.check_for_close = function() {\n",
       "    if (!this.termArea.length) {\n",
       "        this.close();\n",
       "    }\n",
       "}\n",
       "TerminalClient.prototype.close = function() {\n",
       "    if (this.closed) {\n",
       "        return;\n",
       "    }\n",
       "    this.closed = true;\n",
       "    console.log('Closing notebook_xterm.');\n",
       "    clearTimeout(this.termPollTimer);\n",
       "    this.server_exec(PY_XTERM_INSTANCE + '.deleteTerminalServer()');\n",
       "    $(\"#\" + this.div_id).remove()\n",
       "}\n",
       "// create the TerminalClient instance (only once!)\n",
       "if (window.terminalClient) {\n",
       "    console.log('Closing from if term client')\n",
       "    window.terminalClient.close()\n",
       "    delete window.terminalClient;\n",
       "}\n",
       "\n",
       "        window.terminalClient = new TerminalClient($('#notebook_xterm_e6d9c8d7-c90f-40cd-b596-6c30224b6ab8'))\n",
       "        </script>\n",
       "        "
      ],
      "text/plain": [
       "<IPython.core.display.HTML object>"
      ]
     },
     "metadata": {},
     "output_type": "display_data"
    }
   ],
   "source": [
    "_ = %xterm python -m pepys_import.cli --path tests/sample_data/track_files/gpx/gpx_1_0.gpx"
   ]
  },
  {
   "cell_type": "markdown",
   "metadata": {},
   "source": [
    "##### Exercise 2 - Pepys Admin"
   ]
  },
  {
   "cell_type": "code",
   "execution_count": null,
   "metadata": {},
   "outputs": [],
   "source": [
    "_ = %xterm python -m pepys_admin.cli"
   ]
  }
 ],
 "metadata": {
  "celltoolbar": "Hide code",
  "hide_input": false,
  "kernelspec": {
   "display_name": "Python 3",
   "language": "python",
   "name": "python3"
  },
  "language_info": {
   "codemirror_mode": {
    "name": "ipython",
    "version": 3
   },
   "file_extension": ".py",
   "mimetype": "text/x-python",
   "name": "python",
   "nbconvert_exporter": "python",
   "pygments_lexer": "ipython3",
   "version": "3.7.8"
  },
  "rise": {
   "autolaunch": true,
   "center": false,
   "height": "2047",
   "scroll": true
  }
 },
 "nbformat": 4,
 "nbformat_minor": 4
}
