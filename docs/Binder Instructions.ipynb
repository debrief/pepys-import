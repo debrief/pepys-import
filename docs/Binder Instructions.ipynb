{
 "cells": [
  {
   "cell_type": "markdown",
   "metadata": {},
   "source": [
    "# Pepys Demonstration Binder\n",
    "This 'Binder instance' has been set up to demonstrate the command-line interface to Pepys.\n",
    "\n",
    "To start, go to `File->New->Terminal`. A new tab will open displaying a Linux terminal. Come back here for further instructions once it opens.\n",
    "\n",
    "When running Pepys on Windows, shortcuts will be provided in the _Send To_ list and the _Start Menu_ to allow you to easily run different parts of Pepys. As we don't have access to this here, we have to run the Pepys commands manually on the command-line.\n",
    "\n",
    "To run Pepys Import, type `python -m pepys_import.cli` and press Enter. Similarly, to run Pepys Admin, type `python -m pepys_admin.cli`. Documentation on the command-line options can be found by appending ` --help` to the end of either of those commands.\n",
    "\n",
    "## Adapting the _Getting Started_ guide\n",
    "To run the steps of the [_Getting Started_](https://pepys-import.readthedocs.io/en/latest/getting_started.html) guide on this Binder, you'll need to combine the Getting Started guide instructions with instructions on this page.\n",
    "\n",
    "Start at [Step 4](https://pepys-import.readthedocs.io/en/latest/getting_started.html#run-an-import-using-pepys-import). Rather than using the _Send To_ menu, run this command in the terminal: `python -m pepys_import.cli --path tests/sample_data/track_files/gpx/gpx_1_0.gpx`. Follow the rest of this step as described.\n",
    "\n",
    "To run Pepys Admin in [Step 5](https://pepys-import.readthedocs.io/en/latest/getting_started.html#check-the-database-status-using-pepys-admin) run this command in the terminal `python -m pepys_admin.cli`. Follow the rest of this step 6 as described.\n",
    "\n",
    "For [Step 7](https://pepys-import.readthedocs.io/en/latest/getting_started.html#import-a-file-with-errors) you don't need to copy any files, as changes made on Binder are not permanent. Instead, just run this command: `python -m pepys_import.cli --path tests/sample_data/track_files/rep_data/rep_test1_bad.rep --resolver default --archive`.\n",
    "\n",
    "To view the errors, use the Linux `cat` command and copy the path to the errors log from the output at the end of the previous command. You'll end up running something like `cat archive/2020/04/20/15/06/51/reports/rep_test1_bad_errors.log`.\n",
    "\n",
    "On Binder you can edit files by navigating to the file in the panel on the left-hand side of the window, and then double-clicking the file. It will open in a new tab, and you can edit for [Step 8](https://pepys-import.readthedocs.io/en/latest/getting_started.html#fix-the-errors-and-re-import) as normal and then save. To re-run the import command, just use the same command we used above in Step 7.\n",
    "\n",
    "For Step 9, to download the SQLite file, navigate to the root folder in the left-hand panel and right-click `pepys_test.sqlite` and choose `Download`. You can then install a local SQLite viewer and view the file as described in Step 9."
   ]
  }
 ],
 "metadata": {
  "kernelspec": {
   "display_name": "Python 3",
   "language": "python",
   "name": "python3"
  },
  "language_info": {
   "codemirror_mode": {
    "name": "ipython",
    "version": 3
   },
   "file_extension": ".py",
   "mimetype": "text/x-python",
   "name": "python",
   "nbconvert_exporter": "python",
   "pygments_lexer": "ipython3",
   "version": "3.7.6"
  }
 },
 "nbformat": 4,
 "nbformat_minor": 4
}
