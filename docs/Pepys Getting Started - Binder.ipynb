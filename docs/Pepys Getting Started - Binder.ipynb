{
 "cells": [
  {
   "cell_type": "markdown",
   "metadata": {},
   "source": [
    "# Interactive Pepys _Getting Started_ guide"
   ]
  },
  {
   "cell_type": "markdown",
   "metadata": {},
   "source": [
    "### How this tutorial works\n",
    "\n",
    "(with modification)\n",
    "\n",
    "This notebook is designed to give you an introduction to Pepys without requiring you to install anything. It will mix paragraphs of explanation with interactive cells where you can run Python code or command-line interfaces to experiment with Pepys.\n",
    "\n",
    "If you haven't used Jupyter notebooks before, then all you need to know is that to run a cell you click on it and press Shift-Enter. Try this now with the cell below. You should see some output showing that setup has been completed."
   ]
  },
  {
   "cell_type": "code",
   "execution_count": 1,
   "metadata": {
    "scrolled": true
   },
   "outputs": [
    {
     "name": "stdout",
     "output_type": "stream",
     "text": [
      "Current path /home/ian/git/pepys-import\n",
      "Set up complete\n"
     ]
    }
   ],
   "source": [
    "%reload_ext notebook_xterm\n",
    "import os\n",
    "from glob import glob\n",
    "from IPython.display import HTML\n",
    "if os.path.basename(os.getcwd()) == 'docs':\n",
    "    os.chdir(\"..\")\n",
    "try:\n",
    "    del os.environ['PEPYS_CONFIG_FILE']\n",
    "except KeyError:\n",
    "    pass\n",
    "print(f'Current path {os.getcwd()}')\n",
    "print('Set up complete')"
   ]
  },
  {
   "cell_type": "markdown",
   "metadata": {},
   "source": [
    "Now we're going to introduce an interactive command-line within the notebook. The cell below starts with `%xterm` - that tells the notebook to create a command-line shell, and then run the command given after the `%xterm` bit. The cell below will run a command that prints out the current date and time. Once that command has run, you will be given a command-prompt at which you can run any valid Linux command. Try running `pwd` to see what directory we're in."
   ]
  },
  {
   "cell_type": "code",
   "execution_count": 2,
   "metadata": {},
   "outputs": [
    {
     "data": {
      "text/html": [
       "\n",
       "        <div id=\"notebook_xterm_dced9186-9213-49bb-91e6-65685a92a193\"></div>\n",
       "        <script id=\"notebook_script\">var MAX_POLL_INTERVAL = 1500;\n",
       "var MIN_POLL_INTERVAL = 100;\n",
       "var BACKOFF_RATE = 1.8;\n",
       "var PY_XTERM_INSTANCE = 'get_ipython().find_magic(\"xterm\").__self__';\n",
       "var PY_TERMINAL_SERVER = PY_XTERM_INSTANCE + '.getTerminalServer()';\n",
       "\n",
       "// From https://stackoverflow.com/questions/30106476/using-javascripts-atob-to-decode-base64-doesnt-properly-decode-utf-8-strings\n",
       "var clz32 = Math.clz32 || (function (log, LN2) {\n",
       "    \"use strict\";\n",
       "    return function (x) {\n",
       "        return 31 - log(x >>> 0) / LN2 | 0\n",
       "    };\n",
       "})(Math.log, Math.LN2);\n",
       "var fromCharCode = String.fromCharCode;\n",
       "var atobUTF8 = (function (atob, replacer) {\n",
       "    \"use strict\";\n",
       "    return function (inputString, keepBOM) {\n",
       "        inputString = atob(inputString);\n",
       "        if (!keepBOM && inputString.substring(0, 3) === \"\\xEF\\xBB\\xBF\")\n",
       "            inputString = inputString.substring(3); // eradicate UTF-8 BOM\n",
       "        // 0xc0 => 0b11000000; 0xff => 0b11111111; 0xc0-0xff => 0b11xxxxxx\n",
       "        // 0x80 => 0b10000000; 0xbf => 0b10111111; 0x80-0xbf => 0b10xxxxxx\n",
       "        return inputString.replace(/[\\xc0-\\xff][\\x80-\\xbf]*/g, replacer);\n",
       "    }\n",
       "})(atob, function (encoded) {\n",
       "    \"use strict\";\n",
       "    var codePoint = encoded.charCodeAt(0) << 24;\n",
       "    var leadingOnes = clz32(~codePoint);\n",
       "    var endPos = 0,\n",
       "        stringLen = encoded.length;\n",
       "    var result = \"\";\n",
       "    if (leadingOnes < 5 && stringLen >= leadingOnes) {\n",
       "        codePoint = (codePoint << leadingOnes) >>> (24 + leadingOnes);\n",
       "        for (endPos = 1; endPos < leadingOnes; ++endPos)\n",
       "            codePoint = (codePoint << 6) | (encoded.charCodeAt(endPos) & 0x3f /*0b00111111*/ );\n",
       "        if (codePoint <= 0xFFFF) { // BMP code point\n",
       "            result += fromCharCode(codePoint);\n",
       "        } else if (codePoint <= 0x10FFFF) {\n",
       "            // https://mathiasbynens.be/notes/javascript-encoding#surrogate-formulae\n",
       "            codePoint -= 0x10000;\n",
       "            result += fromCharCode(\n",
       "                (codePoint >> 10) + 0xD800, // highSurrogate\n",
       "                (codePoint & 0x3ff) + 0xDC00 // lowSurrogate\n",
       "            );\n",
       "        } else endPos = 0; // to fill it in with INVALIDs\n",
       "    }\n",
       "    for (; endPos < stringLen; ++endPos) result += \"\\ufffd\"; // replacement character\n",
       "    return result;\n",
       "});\n",
       "\n",
       "\n",
       "function TerminalClient(elem) {\n",
       "    this.closed = false;\n",
       "    // require xterm.js\n",
       "    require.config({\n",
       "      paths: {\n",
       "          xterm: '//cdnjs.cloudflare.com/ajax/libs/xterm/2.9.2/xterm.min'\n",
       "      }\n",
       "    });\n",
       "\n",
       "    require(['xterm'], function(Terminal) {\n",
       "        this.div_id = elem.attr('id')\n",
       "        var termArea = this.create_ui(elem);\n",
       "        this.term = new Terminal({\n",
       "            rows: 15,\n",
       "            cols: 100\n",
       "        });\n",
       "        this.term.open(termArea[0]);\n",
       "\n",
       "        this.term.on('data', function(data) {\n",
       "            this.handle_transmit(data);\n",
       "        }.bind(this));\n",
       "\n",
       "        this.term.on('resize', function() {\n",
       "            this.handle_resize()\n",
       "        }.bind(this));\n",
       "\n",
       "        // set title\n",
       "        this.term.on('title', function(title) {\n",
       "            this.handle_title(title);\n",
       "        }.bind(this));\n",
       "\n",
       "        this.termArea.on('remove', function(ev) {\n",
       "            this.close();\n",
       "        }.bind(this))\n",
       "\n",
       "        // set the initial size correctly\n",
       "        this.handle_resize();\n",
       "\n",
       "        // reset the terminal\n",
       "        this.server_exec(PY_TERMINAL_SERVER + '.transmit(b\"' + btoa('\\r\\nreset\\r\\nclear\\r') + '\")');\n",
       "\n",
       "        // start polling\n",
       "        this.curPollInterval = MIN_POLL_INTERVAL;\n",
       "        this.poll_server();\n",
       "        console.log('Starting notebook_xterm.');\n",
       "\n",
       "        this.server_exec(PY_TERMINAL_SERVER + '.initial_transmit()');\n",
       "\n",
       "    }.bind(this));\n",
       "}\n",
       "\n",
       "TerminalClient.prototype.create_ui = function(elem) {\n",
       "    var INITIAL_TITLE = 'notebook_xterm'\n",
       "    // add xterm stylesheet for formatting\n",
       "    var xtermCssUrl = 'https://cdnjs.cloudflare.com/ajax/libs/xterm/2.9.2/xterm.min.css'\n",
       "    $('<link/>', {rel: 'stylesheet', href: xtermCssUrl}).appendTo('head');\n",
       "\n",
       "    this.wrap = $('<div>').appendTo(elem);\n",
       "    this.wrap.css({\n",
       "        padding: 10,\n",
       "        margin: 10,\n",
       "        marginTop: 5,\n",
       "        backgroundColor: 'black',\n",
       "        borderRadius: 5\n",
       "    });\n",
       "    this.titleBar = $('<div>').appendTo(this.wrap);\n",
       "    this.titleBar.css({\n",
       "        color: '#AAA',\n",
       "        margin: -10,\n",
       "        marginBottom: 5,\n",
       "        padding: 10,\n",
       "        overflow: 'hidden',\n",
       "        borderBottom: '1px solid #AAA'\n",
       "    })\n",
       "    this.titleText = $('<div>').html(INITIAL_TITLE).css({float: 'left'}).appendTo(this.titleBar);\n",
       "    this.comIndicator = $('<div>').html('&middot;').css({float: 'left', marginLeft: 10}).hide().appendTo(this.titleBar);\n",
       "    this.close_button = $('<div>').html('<a onclick=\"window.terminalClient.close()\">close</a>').css({float: 'right'}).appendTo(this.titleBar);\n",
       "    this.termArea = $('<div>').appendTo(this.wrap);\n",
       "    return this.termArea;\n",
       "}\n",
       "\n",
       "TerminalClient.prototype.update_com_indicator = function() {\n",
       "    this.comIndicator.show().fadeOut(400);\n",
       "}\n",
       "\n",
       "TerminalClient.prototype.server_exec = function(cmd) {\n",
       "    if (this.closed) {\n",
       "        return;\n",
       "    }\n",
       "\n",
       "    Jupyter.notebook.kernel.execute(cmd, {\n",
       "        iopub: {\n",
       "            output: function(data) {\n",
       "                this.receive_data_callback(data)\n",
       "            }.bind(this)\n",
       "        }\n",
       "    });\n",
       "}\n",
       "\n",
       "TerminalClient.prototype.poll_server = function() {\n",
       "    if (this.closed) {\n",
       "        return;\n",
       "    }\n",
       "\n",
       "    this.server_exec(PY_TERMINAL_SERVER + '.receive()');\n",
       "    clearTimeout(this.termPollTimer);\n",
       "    this.termPollTimer = setTimeout(function() {\n",
       "        this.poll_server();\n",
       "    }.bind(this), this.curPollInterval);\n",
       "    // gradually back off the polling interval\n",
       "    this.curPollInterval = Math.min(this.curPollInterval*BACKOFF_RATE, MAX_POLL_INTERVAL);\n",
       "\n",
       "    this.check_for_close();\n",
       "}\n",
       "TerminalClient.prototype.receive_data_callback = function(data) {\n",
       "    if (this.closed) {\n",
       "        return;\n",
       "    }\n",
       "\n",
       "    try {\n",
       "        var decoded = atobUTF8(data.content.text);\n",
       "        this.term.write(decoded);\n",
       "    }\n",
       "    catch(e) {\n",
       "        var message = \"\\u001b[31;1m~~~ notebook_xterm error ~~~\\u001b[0m\\r\\n\"\n",
       "        if (data.content.ename && data.content.evalue) {\n",
       "            message += data.content.ename + \": \" + data.content.evalue + \"\\r\\n\";\n",
       "            data.content.traceback.map(function(row){\n",
       "                row = row.replace('\\n', '\\r\\n')\n",
       "                message += row + '\\r\\n';\n",
       "            });\n",
       "        } else {\n",
       "            message += \"See browser console for more details.\\r\\n\";\n",
       "        }\n",
       "        console.log(data.content);\n",
       "        console.error(\"%O\", e)\n",
       "        this.handle_title('error');\n",
       "        this.term.write(message);    }\n",
       "}\n",
       "TerminalClient.prototype.handle_transmit = function(data) {\n",
       "    // we've had interaction, so reset the timer for the next poll\n",
       "    // to minPollInterval\n",
       "    this.curPollInterval = MIN_POLL_INTERVAL;\n",
       "\n",
       "    // transmit data to the server, but b64 encode it\n",
       "    this.server_exec(PY_TERMINAL_SERVER + '.transmit(b\"' + btoa(data) + '\")');\n",
       "}\n",
       "\n",
       "TerminalClient.prototype.handle_resize = function() {\n",
       "    this.server_exec(PY_TERMINAL_SERVER + '.update_window_size('+ this.term.rows + ', '+ this.term.cols + ')');\n",
       "}\n",
       "\n",
       "TerminalClient.prototype.handle_title = function(title) {\n",
       "    this.titleText.html(title);\n",
       "}\n",
       "TerminalClient.prototype.check_for_close = function() {\n",
       "    if (!this.termArea.length) {\n",
       "        this.close();\n",
       "    }\n",
       "}\n",
       "TerminalClient.prototype.close = function() {\n",
       "    if (this.closed) {\n",
       "        return;\n",
       "    }\n",
       "    this.closed = true;\n",
       "    console.log('Closing notebook_xterm.');\n",
       "    clearTimeout(this.termPollTimer);\n",
       "    this.server_exec(PY_XTERM_INSTANCE + '.deleteTerminalServer()');\n",
       "    $(\"#\" + this.div_id).remove()\n",
       "}\n",
       "// create the TerminalClient instance (only once!)\n",
       "if (window.terminalClient) {\n",
       "    console.log('Closing from if term client')\n",
       "    window.terminalClient.close()\n",
       "    delete window.terminalClient;\n",
       "}\n",
       "\n",
       "        window.terminalClient = new TerminalClient($('#notebook_xterm_dced9186-9213-49bb-91e6-65685a92a193'))\n",
       "        </script>\n",
       "        "
      ],
      "text/plain": [
       "<IPython.core.display.HTML object>"
      ]
     },
     "metadata": {},
     "output_type": "display_data"
    },
    {
     "data": {
      "text/plain": [
       "<notebook_xterm.terminalserver.TerminalServer at 0x7f4c502375b0>"
      ]
     },
     "execution_count": 2,
     "metadata": {},
     "output_type": "execute_result"
    }
   ],
   "source": [
    "%xterm date"
   ]
  },
  {
   "cell_type": "markdown",
   "metadata": {},
   "source": [
    "The command-line window is deliberately kept relatively small, so that you can easily see these instructions too. If you're finished with a command-line window, then click the _close_ button on the top right to close it. If you run another cell with `%xterm` at the beginning then it will automatically close all previous terminals before opening a new one."
   ]
  },
  {
   "cell_type": "markdown",
   "metadata": {},
   "source": [
    "### 1. Your first import with Pepys\n",
    "We're going to be working with a sample data file called `gpx_1_0.gpx`. It's in the GPX file format that is commonly used by the handheld GPS trackers popularised by cyclists & walkers. The file contains some introductory metadata, followed by 5 position records. Pepys contains a series of importer modules, one of which can recognise and load `*.gpx` files.\n",
    "\n",
    "The Python code in the cell below will display the contents of the `gpx_1_0.gpx` file:"
   ]
  },
  {
   "cell_type": "code",
   "execution_count": 3,
   "metadata": {},
   "outputs": [
    {
     "name": "stdout",
     "output_type": "stream",
     "text": [
      "<?xml version=\"1.0\" encoding=\"UTF-8\"?>\n",
      "<p:gpx xmlns:xsi=\"http://www.w3.org/2001/XMLSchema-instance\"\n",
      "\txsi:schemaLocation=\"http://www.topografix.com/GPX/1/0 http://www.topografix.com/GPX/1/0/gpx.xsd\"\n",
      "\txmlns:p=\"http://www.topografix.com/GPX/1/0\" creator=\"test\" version=\"1.0\">\n",
      "\n",
      "\t<p:name>1285669575458</p:name>\n",
      "\t<p:desc>Saved with Debrief version dated Fri Apr 27 09:31:37 BST 2012</p:desc>\n",
      "\t<p:time>2012-04-27T16:29:38+01:00</p:time>\n",
      "\n",
      "\t<p:trk>\n",
      "\t\t<p:name>NELSON</p:name>\n",
      "\t\t<p:trkseg>\n",
      "\t\t\t<p:trkpt lat=\"22.1862861\" lon=\"-21.6978806\">\n",
      "\t\t\t\t<p:ele>0.000</p:ele>\n",
      "\t\t\t\t<p:time>2012-04-27T16:29:38+01:00</p:time>\n",
      "\t\t\t\t<p:course>268.7</p:course>\n",
      "\t\t\t\t<p:speed>4.5</p:speed>\n",
      "\t\t\t</p:trkpt>\n",
      "\t\t\t<p:trkpt lat=\"22.2862861\" lon=\"-21.7978806\">\n",
      "\t\t\t\t<p:ele>0.000</p:ele>\n",
      "\t\t\t\t<p:time>2012-04-27T16:30:38+01:00</p:time>\n",
      "\t\t\t\t<p:course>264.7</p:course>\n",
      "\t\t\t\t<p:speed>5.5</p:speed>\n",
      "\t\t\t</p:trkpt>\n",
      "\t\t\t<p:trkpt lat=\"22.4862861\" lon=\"-21.2978806\">\n",
      "\t\t\t\t<p:ele>0.000</p:ele>\n",
      "\t\t\t\t<p:time>2012-04-27T16:31:38+01:00</p:time>\n",
      "\t\t\t\t<p:course>263.7</p:course>\n",
      "\t\t\t\t<p:speed>7.5</p:speed>\n",
      "\t\t\t</p:trkpt>\n",
      "\t\t\t<p:trkpt lat=\"22.1862861\" lon=\"-21.5978806\">\n",
      "\t\t\t\t<p:ele>0.000</p:ele>\n",
      "\t\t\t\t<p:time>2012-04-27T16:32:38+01:00</p:time>\n",
      "\t\t\t\t<p:course>262.7</p:course>\n",
      "\t\t\t\t<p:speed>9.5</p:speed>\n",
      "\t\t\t</p:trkpt>\n",
      "\t\t\t<p:trkpt lat=\"22.3862861\" lon=\"-21.1978806\">\n",
      "\t\t\t\t<p:ele>0.000</p:ele>\n",
      "\t\t\t\t<p:time>2012-04-27T16:33:38+01:00</p:time>\n",
      "\t\t\t\t<p:course>261.7</p:course>\n",
      "\t\t\t\t<p:speed>3.5</p:speed>\n",
      "\t\t\t</p:trkpt>\n",
      "\t\t</p:trkseg>\n",
      "\t</p:trk>\n",
      "</p:gpx>\n",
      "\n"
     ]
    }
   ],
   "source": [
    "with open('tests/sample_data/track_files/gpx/gpx_1_0.gpx', 'r') as f:\n",
    "    print(f.read())"
   ]
  },
  {
   "cell_type": "markdown",
   "metadata": {},
   "source": [
    "You can see the five position records (in the `<p:trkpt>` elements), each of which has a location, elevation, time, course and speed. Now, let's import this into Pepys.\n",
    "\n",
    "Normally we would introduce Pepys by using the integration into the _Send To_ menu in Windows - but that isn't possible in this interactive notebook. Instead, we'll run Pepys using the command-line. This is actually what happens 'behind the scenes' when the _Send To_ menu is used - so we'll get the same result.\n",
    "\n",
    "The cell below will run the Pepys Import command-line interface, telling it to import the `gpx_1_0.gpx` file. Run it now, and then read on below to find out how to interact with Pepys."
   ]
  },
  {
   "cell_type": "code",
   "execution_count": 4,
   "metadata": {
    "scrolled": false
   },
   "outputs": [
    {
     "data": {
      "text/html": [
       "\n",
       "        <div id=\"notebook_xterm_95028ac3-444e-400d-b35c-3648be3dfc69\"></div>\n",
       "        <script id=\"notebook_script\">var MAX_POLL_INTERVAL = 1500;\n",
       "var MIN_POLL_INTERVAL = 100;\n",
       "var BACKOFF_RATE = 1.8;\n",
       "var PY_XTERM_INSTANCE = 'get_ipython().find_magic(\"xterm\").__self__';\n",
       "var PY_TERMINAL_SERVER = PY_XTERM_INSTANCE + '.getTerminalServer()';\n",
       "\n",
       "// From https://stackoverflow.com/questions/30106476/using-javascripts-atob-to-decode-base64-doesnt-properly-decode-utf-8-strings\n",
       "var clz32 = Math.clz32 || (function (log, LN2) {\n",
       "    \"use strict\";\n",
       "    return function (x) {\n",
       "        return 31 - log(x >>> 0) / LN2 | 0\n",
       "    };\n",
       "})(Math.log, Math.LN2);\n",
       "var fromCharCode = String.fromCharCode;\n",
       "var atobUTF8 = (function (atob, replacer) {\n",
       "    \"use strict\";\n",
       "    return function (inputString, keepBOM) {\n",
       "        inputString = atob(inputString);\n",
       "        if (!keepBOM && inputString.substring(0, 3) === \"\\xEF\\xBB\\xBF\")\n",
       "            inputString = inputString.substring(3); // eradicate UTF-8 BOM\n",
       "        // 0xc0 => 0b11000000; 0xff => 0b11111111; 0xc0-0xff => 0b11xxxxxx\n",
       "        // 0x80 => 0b10000000; 0xbf => 0b10111111; 0x80-0xbf => 0b10xxxxxx\n",
       "        return inputString.replace(/[\\xc0-\\xff][\\x80-\\xbf]*/g, replacer);\n",
       "    }\n",
       "})(atob, function (encoded) {\n",
       "    \"use strict\";\n",
       "    var codePoint = encoded.charCodeAt(0) << 24;\n",
       "    var leadingOnes = clz32(~codePoint);\n",
       "    var endPos = 0,\n",
       "        stringLen = encoded.length;\n",
       "    var result = \"\";\n",
       "    if (leadingOnes < 5 && stringLen >= leadingOnes) {\n",
       "        codePoint = (codePoint << leadingOnes) >>> (24 + leadingOnes);\n",
       "        for (endPos = 1; endPos < leadingOnes; ++endPos)\n",
       "            codePoint = (codePoint << 6) | (encoded.charCodeAt(endPos) & 0x3f /*0b00111111*/ );\n",
       "        if (codePoint <= 0xFFFF) { // BMP code point\n",
       "            result += fromCharCode(codePoint);\n",
       "        } else if (codePoint <= 0x10FFFF) {\n",
       "            // https://mathiasbynens.be/notes/javascript-encoding#surrogate-formulae\n",
       "            codePoint -= 0x10000;\n",
       "            result += fromCharCode(\n",
       "                (codePoint >> 10) + 0xD800, // highSurrogate\n",
       "                (codePoint & 0x3ff) + 0xDC00 // lowSurrogate\n",
       "            );\n",
       "        } else endPos = 0; // to fill it in with INVALIDs\n",
       "    }\n",
       "    for (; endPos < stringLen; ++endPos) result += \"\\ufffd\"; // replacement character\n",
       "    return result;\n",
       "});\n",
       "\n",
       "\n",
       "function TerminalClient(elem) {\n",
       "    this.closed = false;\n",
       "    // require xterm.js\n",
       "    require.config({\n",
       "      paths: {\n",
       "          xterm: '//cdnjs.cloudflare.com/ajax/libs/xterm/2.9.2/xterm.min'\n",
       "      }\n",
       "    });\n",
       "\n",
       "    require(['xterm'], function(Terminal) {\n",
       "        this.div_id = elem.attr('id')\n",
       "        var termArea = this.create_ui(elem);\n",
       "        this.term = new Terminal({\n",
       "            rows: 15,\n",
       "            cols: 100\n",
       "        });\n",
       "        this.term.open(termArea[0]);\n",
       "\n",
       "        this.term.on('data', function(data) {\n",
       "            this.handle_transmit(data);\n",
       "        }.bind(this));\n",
       "\n",
       "        this.term.on('resize', function() {\n",
       "            this.handle_resize()\n",
       "        }.bind(this));\n",
       "\n",
       "        // set title\n",
       "        this.term.on('title', function(title) {\n",
       "            this.handle_title(title);\n",
       "        }.bind(this));\n",
       "\n",
       "        this.termArea.on('remove', function(ev) {\n",
       "            this.close();\n",
       "        }.bind(this))\n",
       "\n",
       "        // set the initial size correctly\n",
       "        this.handle_resize();\n",
       "\n",
       "        // reset the terminal\n",
       "        this.server_exec(PY_TERMINAL_SERVER + '.transmit(b\"' + btoa('\\r\\nreset\\r\\nclear\\r') + '\")');\n",
       "\n",
       "        // start polling\n",
       "        this.curPollInterval = MIN_POLL_INTERVAL;\n",
       "        this.poll_server();\n",
       "        console.log('Starting notebook_xterm.');\n",
       "\n",
       "        this.server_exec(PY_TERMINAL_SERVER + '.initial_transmit()');\n",
       "\n",
       "    }.bind(this));\n",
       "}\n",
       "\n",
       "TerminalClient.prototype.create_ui = function(elem) {\n",
       "    var INITIAL_TITLE = 'notebook_xterm'\n",
       "    // add xterm stylesheet for formatting\n",
       "    var xtermCssUrl = 'https://cdnjs.cloudflare.com/ajax/libs/xterm/2.9.2/xterm.min.css'\n",
       "    $('<link/>', {rel: 'stylesheet', href: xtermCssUrl}).appendTo('head');\n",
       "\n",
       "    this.wrap = $('<div>').appendTo(elem);\n",
       "    this.wrap.css({\n",
       "        padding: 10,\n",
       "        margin: 10,\n",
       "        marginTop: 5,\n",
       "        backgroundColor: 'black',\n",
       "        borderRadius: 5\n",
       "    });\n",
       "    this.titleBar = $('<div>').appendTo(this.wrap);\n",
       "    this.titleBar.css({\n",
       "        color: '#AAA',\n",
       "        margin: -10,\n",
       "        marginBottom: 5,\n",
       "        padding: 10,\n",
       "        overflow: 'hidden',\n",
       "        borderBottom: '1px solid #AAA'\n",
       "    })\n",
       "    this.titleText = $('<div>').html(INITIAL_TITLE).css({float: 'left'}).appendTo(this.titleBar);\n",
       "    this.comIndicator = $('<div>').html('&middot;').css({float: 'left', marginLeft: 10}).hide().appendTo(this.titleBar);\n",
       "    this.close_button = $('<div>').html('<a onclick=\"window.terminalClient.close()\">close</a>').css({float: 'right'}).appendTo(this.titleBar);\n",
       "    this.termArea = $('<div>').appendTo(this.wrap);\n",
       "    return this.termArea;\n",
       "}\n",
       "\n",
       "TerminalClient.prototype.update_com_indicator = function() {\n",
       "    this.comIndicator.show().fadeOut(400);\n",
       "}\n",
       "\n",
       "TerminalClient.prototype.server_exec = function(cmd) {\n",
       "    if (this.closed) {\n",
       "        return;\n",
       "    }\n",
       "\n",
       "    Jupyter.notebook.kernel.execute(cmd, {\n",
       "        iopub: {\n",
       "            output: function(data) {\n",
       "                this.receive_data_callback(data)\n",
       "            }.bind(this)\n",
       "        }\n",
       "    });\n",
       "}\n",
       "\n",
       "TerminalClient.prototype.poll_server = function() {\n",
       "    if (this.closed) {\n",
       "        return;\n",
       "    }\n",
       "\n",
       "    this.server_exec(PY_TERMINAL_SERVER + '.receive()');\n",
       "    clearTimeout(this.termPollTimer);\n",
       "    this.termPollTimer = setTimeout(function() {\n",
       "        this.poll_server();\n",
       "    }.bind(this), this.curPollInterval);\n",
       "    // gradually back off the polling interval\n",
       "    this.curPollInterval = Math.min(this.curPollInterval*BACKOFF_RATE, MAX_POLL_INTERVAL);\n",
       "\n",
       "    this.check_for_close();\n",
       "}\n",
       "TerminalClient.prototype.receive_data_callback = function(data) {\n",
       "    if (this.closed) {\n",
       "        return;\n",
       "    }\n",
       "\n",
       "    try {\n",
       "        var decoded = atobUTF8(data.content.text);\n",
       "        this.term.write(decoded);\n",
       "    }\n",
       "    catch(e) {\n",
       "        var message = \"\\u001b[31;1m~~~ notebook_xterm error ~~~\\u001b[0m\\r\\n\"\n",
       "        if (data.content.ename && data.content.evalue) {\n",
       "            message += data.content.ename + \": \" + data.content.evalue + \"\\r\\n\";\n",
       "            data.content.traceback.map(function(row){\n",
       "                row = row.replace('\\n', '\\r\\n')\n",
       "                message += row + '\\r\\n';\n",
       "            });\n",
       "        } else {\n",
       "            message += \"See browser console for more details.\\r\\n\";\n",
       "        }\n",
       "        console.log(data.content);\n",
       "        console.error(\"%O\", e)\n",
       "        this.handle_title('error');\n",
       "        this.term.write(message);    }\n",
       "}\n",
       "TerminalClient.prototype.handle_transmit = function(data) {\n",
       "    // we've had interaction, so reset the timer for the next poll\n",
       "    // to minPollInterval\n",
       "    this.curPollInterval = MIN_POLL_INTERVAL;\n",
       "\n",
       "    // transmit data to the server, but b64 encode it\n",
       "    this.server_exec(PY_TERMINAL_SERVER + '.transmit(b\"' + btoa(data) + '\")');\n",
       "}\n",
       "\n",
       "TerminalClient.prototype.handle_resize = function() {\n",
       "    this.server_exec(PY_TERMINAL_SERVER + '.update_window_size('+ this.term.rows + ', '+ this.term.cols + ')');\n",
       "}\n",
       "\n",
       "TerminalClient.prototype.handle_title = function(title) {\n",
       "    this.titleText.html(title);\n",
       "}\n",
       "TerminalClient.prototype.check_for_close = function() {\n",
       "    if (!this.termArea.length) {\n",
       "        this.close();\n",
       "    }\n",
       "}\n",
       "TerminalClient.prototype.close = function() {\n",
       "    if (this.closed) {\n",
       "        return;\n",
       "    }\n",
       "    this.closed = true;\n",
       "    console.log('Closing notebook_xterm.');\n",
       "    clearTimeout(this.termPollTimer);\n",
       "    this.server_exec(PY_XTERM_INSTANCE + '.deleteTerminalServer()');\n",
       "    $(\"#\" + this.div_id).remove()\n",
       "}\n",
       "// create the TerminalClient instance (only once!)\n",
       "if (window.terminalClient) {\n",
       "    console.log('Closing from if term client')\n",
       "    window.terminalClient.close()\n",
       "    delete window.terminalClient;\n",
       "}\n",
       "\n",
       "        window.terminalClient = new TerminalClient($('#notebook_xterm_95028ac3-444e-400d-b35c-3648be3dfc69'))\n",
       "        </script>\n",
       "        "
      ],
      "text/plain": [
       "<IPython.core.display.HTML object>"
      ]
     },
     "metadata": {},
     "output_type": "display_data"
    },
    {
     "data": {
      "text/plain": [
       "<notebook_xterm.terminalserver.TerminalServer at 0x7f4c502375b0>"
      ]
     },
     "execution_count": 4,
     "metadata": {},
     "output_type": "execute_result"
    }
   ],
   "source": [
    "%xterm python -m pepys_import.cli --path tests/sample_data/track_files/gpx/gpx_1_0.gpx"
   ]
  },
  {
   "cell_type": "markdown",
   "metadata": {},
   "source": [
    "When you run the cell above you'll see a welcome banner followed by a table showing the status of the Pepys database before the import was run. As this is your first import, the number of rows in each table will be zero.\n",
    "\n",
    "You will then get an interactive interface allowing you to define the metadata for the various 'objects' that are being imported. In Pepys, these represent real-world objects such as Platforms (a vessel such as a ship or submarine), Sensors (some sort of measurement/sensing device on a Platform) and Datafiles (a file that is being imported into Pepys). All these objects have metadata associated with them. For example, a Platform has a Nationality and a Platform Type, and all objects have a Classification for security purposes.\n",
    "\n",
    "The first question asks you to accept the default name for the datafile - just press Enter for this. You'll then be asked to select a classification for the datafile. Various pre-configured classifications will be listed (these are just examples used during testing). Choose option `4` to set the classification to `Private`. You will then be given all the information about the datafile, to allow you to confirm everything is set correctly - just choose option `1` to confirm and continue.\n",
    "\n",
    "The next set of questions are about the Platform. You should choose to add a new platform (option `2`), and then you'll be asked for details. It doesn't matter what name or details you give it, as this is just an example - but note that some fields are optional. Next is the search for a nationality - again, you'll get a list of the most common nationalities, but can search for others if you want to. For now, just choose `3` for `United Kingdom`. When you're given the list of pre-defined platform types to choose from, choose `2` to add a new platform type and enter `Frigate`, before selecting a classification of `Private` and confirming the addition.\n",
    "\n",
    "The next stage is entering data about the sensor used to collect the data that we're importing. In this case, we're importing a GPX file, which is a file format used by GPS systems - so the sensor name is pre-filled as `GPS`. So, choose to add a new sensor (option `2`), add a classification and confirm the details are correct.\n",
    "\n",
    "You've now finished adding metadata, and the import itself will take place and a progress bar will (very quickly) move up to 100% completed. You will then see a summary of the database status after the import - it should show 5 States, and 1 Platform are now in the database. This matches our expectations from the datafile - it had 5 position reports, and they were all about one platform."
   ]
  },
  {
   "cell_type": "markdown",
   "metadata": {},
   "source": [
    "### 2. Checking the database status with Pepys\n",
    "We just saw that when Pepys imports new data, it shows a database status table beforehand and afterwards. We can also view a more-detailed status table by using the Pepys Admin application. If you were running this from Windows you can just choose the _Pepys Admin_ entry in the _Start Menu_ - again, we're going to run it from the command line here. Run the next cell, and you'll see the standard welcome banner followed by a menu.\n",
    "\n",
    "Choose option `2` to get a status report. This will show you the status of every table in the database - you might need to scroll up in the terminal to view them all. You can see that as well as the entries in the States and Platforms tables, the import we did also created rows in the Datafiles, Changes and Logs tables, and there are also some entries in various reference tables that were automatically created when we initialised the database.\n",
    "\n",
    "Now choose `.` to exit Pepys Admin"
   ]
  },
  {
   "cell_type": "code",
   "execution_count": null,
   "metadata": {},
   "outputs": [],
   "source": [
    "%xterm python -m pepys_admin.cli"
   ]
  },
  {
   "cell_type": "markdown",
   "metadata": {},
   "source": [
    "### 3. Trying to import the same file again\n",
    "Pepys keeps track of which files have been imported already, so that we don't accidentally import them multiple times. In this case, there is already an entry in the Datafiles table for the `gpx_1_0.gpx` file that we just imported, so if we try and import it again we'll just get a message telling us it has already been imported (note: the date and time given in the message is in UTC, so may be different to your local time). Try this by running the cell below (this is exactly the same command we ran to import it earlier):"
   ]
  },
  {
   "cell_type": "code",
   "execution_count": null,
   "metadata": {},
   "outputs": [],
   "source": [
    "%xterm python -m pepys_import.cli --path tests/sample_data/track_files/gpx/gpx_1_0.gpx"
   ]
  },
  {
   "cell_type": "markdown",
   "metadata": {},
   "source": [
    "### 4. Exporting a datafile using Pepys Admin\n",
    "Pepys Admin can do more than just view the database status. One key feature is the ability to export a datafile. To do this, run the cell below. You'll see the main menu: choose option `3`. You will need to select a platform - there is only one, so just press Enter. It will then give you a list of sensors and the periods they were active. Again there is only one, so just enter `1` and press Enter. Press Enter to accept the default value for the output filename. You should then see a message saying that the objects have been successfully exported.\n",
    "\n",
    "Again, exit Pepys Admin by choosing option `.`."
   ]
  },
  {
   "cell_type": "code",
   "execution_count": null,
   "metadata": {},
   "outputs": [],
   "source": [
    "%xterm python -m pepys_admin.cli"
   ]
  },
  {
   "cell_type": "markdown",
   "metadata": {},
   "source": [
    "The Python code below will load and display the contents of the exported file. You can see it is a file in REP format, with data that matches the original GPX file that was imported (if you want to see the contents of the original GPX file, then replace the filename below with `tests/sample_data/track_files/gpx/gpx_1_0.gpx`)"
   ]
  },
  {
   "cell_type": "code",
   "execution_count": null,
   "metadata": {
    "scrolled": true
   },
   "outputs": [],
   "source": [
    "with open('exported_GPS.rep', 'r') as f:\n",
    "    print(f.read())"
   ]
  },
  {
   "cell_type": "markdown",
   "metadata": {},
   "source": [
    "### 5. Import a file with errors\n",
    "Unfortunately, some files have errors and won't be able to be parsed correctly by Pepys. Here we'll see what happens if we ask Pepys to import a folder full of files, and some of them have errors in them. As the command we're going to run will actually move some files for us, we're going to create a copy of the input files to work on.\n",
    "\n",
    "The command in the cell below will copy the folder `tests/sample_data/track_files` to a new folder called `track_files_test`"
   ]
  },
  {
   "cell_type": "code",
   "execution_count": null,
   "metadata": {},
   "outputs": [],
   "source": [
    "!cp -R tests/sample_data/track_files track_files_test"
   ]
  },
  {
   "cell_type": "markdown",
   "metadata": {},
   "source": [
    "Now we can move on to running the Pepys command. The command we are running in the cell below is very similar to the first command we ran, but with three differences:\n",
    "\n",
    " - We are passing a whole folder of data rather than a single file\n",
    " - We are telling Pepys to use the _default resolver_ which means it won't ask us questions to resolve metadata about objects it finds in the files (platforms, sensors etc), but will just use default values. This is great for testing Pepys, as it means the process doesn't require answering _any_ questions - everything just runs automatically.\n",
    " - We are telling Pepys to archive the files that are successfully imported: these files will be moved from their original location to a special archive location (that's why we copied them earlier).\n",
    " \n",
    "Run the cell below now, and then continue to the instructions below the terminal"
   ]
  },
  {
   "cell_type": "code",
   "execution_count": null,
   "metadata": {},
   "outputs": [],
   "source": [
    "%xterm python -m pepys_import.cli --path track_files_test/rep_data --resolver default --archive"
   ]
  },
  {
   "cell_type": "markdown",
   "metadata": {},
   "source": [
    "First, lets look at what output we get for a file which was imported successfully. You should see a list headed `Import succeeded for:` (you may have to scroll up a bit). Four files should be listed there: `sen_tracks.rep`, `sen_ssk_freq.dsf`, `rep_test1.rep`, `uk_track.rep`. The list will also show where these files were archived to: in this case, a folder called `archive` with subfolders for the year, month, day, hour, minute and second.\n",
    "\n",
    "To see what's in this archive folder, type `tree archive` and press _Enter_. This will show you a tree view of the archive folder, showing that there are output files in the `report` folder (output logs and highlighted files) and the archived input files have been put in the `sources` folder.\n",
    "\n",
    "Lets have a look at an output file first. The Python code in the cell below will display the contents of the `rep_test1_output.log` file."
   ]
  },
  {
   "cell_type": "code",
   "execution_count": null,
   "metadata": {},
   "outputs": [],
   "source": [
    "filename = glob(\"archive/**/*rep_test1_output.log\", recursive=True)[0]\n",
    "with open(filename, 'r') as f:\n",
    "    print(f.read())"
   ]
  },
  {
   "cell_type": "markdown",
   "metadata": {},
   "source": [
    "The output above shows that the file `rep_test1.rep` was processed by three different importers, each of which recorded some measurements to the database.\n",
    "\n",
    "Now let's have a look at a highlighted output file. This shows how the file was parsed by Pepys, and which elements of the file were interpreted as which fields. Through the magic of IPython, we can embed that HTML file in the notebook by running the cell below. You will see highlighting of various parts of the file - hover over the highlighted sections to see how those parts of the file were interpreted."
   ]
  },
  {
   "cell_type": "code",
   "execution_count": null,
   "metadata": {},
   "outputs": [],
   "source": [
    "filename = glob(\"archive/**/*rep_test1_highlighted.html\", recursive=True)[0]\n",
    "with open(filename, 'r') as f:\n",
    "    html = f.read()\n",
    "HTML(html)"
   ]
  },
  {
   "cell_type": "markdown",
   "metadata": {},
   "source": [
    "Now we'll look at the error report for one of the files. Run the Python code below to view the error report for the file `rep_test1_bad.rep`."
   ]
  },
  {
   "cell_type": "code",
   "execution_count": null,
   "metadata": {
    "scrolled": true
   },
   "outputs": [],
   "source": [
    "filename = glob(\"archive/**/*rep_test1_bad_errors.log\", recursive=True)[0]\n",
    "with open(filename, 'r') as f:\n",
    "    print(f.read())"
   ]
  },
  {
   "cell_type": "markdown",
   "metadata": {},
   "source": [
    "You can see here that there are two errors, referring to lines 8 and 24, both complaining that there aren't enough tokens (individual components, in this case separated by spaces) in the line.\n",
    "\n",
    "\n",
    "### 6. Fix the errors and re-import\n",
    "\n",
    "Click [here](../../edit/track_files_test/rep_data/rep_test1_bad.rep) to open `rep_test1_bad.rep` in the Jupyter file editor, and do the following:\n",
    "\n",
    " - Edit line 24 by adding some text like `Test observation` to the end of it. It should now look like: `;NARRATIVE2: 100112   121200 SEARCH_PLATFORM OBSERVATION Test observation`\n",
    " - Delete line 8 entirely\n",
    " \n",
    "Save the file by pressing Ctrl-S or using the _Save_ option in the _File_ menu.\n",
    "\n",
    "Now we'll run the import again, by running the cell below."
   ]
  },
  {
   "cell_type": "code",
   "execution_count": null,
   "metadata": {},
   "outputs": [],
   "source": [
    "%xterm python -m pepys_import.cli --path track_files_test/rep_data --resolver default --archive"
   ]
  },
  {
   "cell_type": "markdown",
   "metadata": {},
   "source": [
    "You should now see in the output that `rep_test1_bad.rep` was processed successfully."
   ]
  },
  {
   "cell_type": "markdown",
   "metadata": {},
   "source": [
    "### 7. Check the contents of the database itself\n",
    "The Pepys Admin application has the ability to view the raw database tables themselves. To do this, run the cell below to open Pepys Admin, and then choose option `6` (View Data), and then option `1` (View Table). This will give you a list of database tables - start typing `Platform` and then select it from the list using the arrow keys.\n",
    "\n",
    "You'll see the contents of the Platforms table displayed: this should include the platform that you created manually the first time you ran Pepys Import, plus various other platforms added automatically by the default resolver including `SPLENDID` and `SEARCH_PLATFORM`. You'll see each platform has a nationality and platform type. In fact, the database stores more information about platforms (including pennant numbers, trigraphs and more) but for ease of visualisation these are left out of the database display here.\n",
    "\n",
    "Now look at some other tables: choose option `1` again and look at the `States` table, in which you'll see entries for the individual measurements that have been imported. Here we're only showing a few columns, so you can't see the actual location, speed, bearing and so on, but you can see what sensor was used and the time of the measurement. Don't worry that this list seems short - it is only showing a limited number of rows: you can see from the database status output that was displayed earlier that there are actually many hundreds of rows in the States table.\n",
    "\n",
    "Similarly, look at the `Changes` table. This shows the reason for various changes to the database - here you can see various reasons including `Importing reference data` and importing various filenames. This allows all data in the database to be traced back to the files it came from.\n",
    "\n",
    "Feel free to investigate the other tables in the database."
   ]
  },
  {
   "cell_type": "code",
   "execution_count": null,
   "metadata": {},
   "outputs": [],
   "source": [
    "%xterm python -m pepys_admin.cli"
   ]
  },
  {
   "cell_type": "markdown",
   "metadata": {},
   "source": [
    "### That's it!\n",
    "You've now completed the _Getting Started_ tutorial for Pepys. For more information on Pepys, visit the [full documentation](https://pepys-import.readthedocs.io/en/latest/index.html)."
   ]
  }
 ],
 "metadata": {
  "hide_input": false,
  "kernelspec": {
   "display_name": "Python 3",
   "language": "python",
   "name": "python3"
  },
  "language_info": {
   "codemirror_mode": {
    "name": "ipython",
    "version": 3
   },
   "file_extension": ".py",
   "mimetype": "text/x-python",
   "name": "python",
   "nbconvert_exporter": "python",
   "pygments_lexer": "ipython3",
   "version": "3.8.5"
  }
 },
 "nbformat": 4,
 "nbformat_minor": 2
}
