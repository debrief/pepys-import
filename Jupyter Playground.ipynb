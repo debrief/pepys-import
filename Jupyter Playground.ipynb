{
 "cells": [
  {
   "cell_type": "code",
   "execution_count": 121,
   "id": "ee37ac5e",
   "metadata": {},
   "outputs": [],
   "source": [
    "from pepys_import.core.store.data_store import DataStore\n",
    "import pandas as pd\n",
    "from sqlalchemy import create_engine\n",
    "import geopandas as gpd\n",
    "from ipywidgets import interact, interactive, fixed, interact_manual\n",
    "import ipywidgets as widgets\n",
    "import matplotlib.pyplot as plt\n",
    "import hvplot\n",
    "import hvplot.pandas"
   ]
  },
  {
   "cell_type": "markdown",
   "id": "8414445f",
   "metadata": {},
   "source": [
    "## Create DataStore object, and older-style SQLAlchemy object"
   ]
  },
  {
   "cell_type": "code",
   "execution_count": 81,
   "id": "b0f401d9",
   "metadata": {},
   "outputs": [
    {
     "name": "stdout",
     "output_type": "stream",
     "text": [
      "   @@@@ @@@@@        ______                      _                            _   \n",
      " @@@@@ @@..@@@@      | ___ \\                    (_)                          | |  \n",
      "  @@@     @@@@@@     | |_/ /__ _ __  _   _ ___   _ _ __ ___  _ __   ___  _ __| |_ \n",
      "  @@@     @@@@@@@@   |  __/ _ \\ '_ \\| | | / __| | | '_ ` _ \\| '_ \\ / _ \\| '__| __|\n",
      " @@@@.     @@@@@@@   | | |  __/ |_) | |_| \\__ \\ | | | | | | | |_) | (_) | |  | |_ \n",
      " @@ #@@ @   ...@@@@@ \\_|  \\___| .__/ \\__, |___/ |_|_| |_| |_| .__/ \\___/|_|   \\__|\n",
      " @@   &        @@@@@            | |     __/ | ______          | |                   \n",
      "Software Version :  0.0.32\n",
      "\n",
      "\n",
      "\n",
      "Database Type :  postgres\n",
      "Database Name :  tracstor_trial1\n",
      "Database Host :  trac-store.com\n",
      "------------------------------------------------------------------------------\n"
     ]
    }
   ],
   "source": [
    "ds = DataStore(\"tracstor_view\", \"View1001View\", \"trac-store.com\", 5432, \"tracstor_trial1\", \"postgres\")"
   ]
  },
  {
   "cell_type": "code",
   "execution_count": 3,
   "id": "48d86e02",
   "metadata": {},
   "outputs": [],
   "source": [
    "engine = create_engine(ds.connection_string, future=False)"
   ]
  },
  {
   "cell_type": "markdown",
   "id": "5ad8f2e4",
   "metadata": {},
   "source": [
    "## Functions for plotting platforms and datafiles"
   ]
  },
  {
   "cell_type": "code",
   "execution_count": 90,
   "id": "84c66302",
   "metadata": {},
   "outputs": [],
   "source": [
    "def plot_platform(platform_id):\n",
    "    sql = f\"SELECT * FROM pepys.states_for(null, null, null, null, null, '{{{platform_id}}}')\"\n",
    "    data = gpd.read_postgis(sql,\n",
    "                            engine, geom_col='state_location')\n",
    "    data['time_str'] = data.state_time.astype(str)\n",
    "    data = data.dropna(subset=['state_location'])\n",
    "    if len(data) == 0:\n",
    "        return \"No data\"\n",
    "    m = data[['time_str', 'state_location', 'heading', 'course', 'speed']].explore(column='speed')\n",
    "    return m"
   ]
  },
  {
   "cell_type": "code",
   "execution_count": 97,
   "id": "62247f02",
   "metadata": {},
   "outputs": [],
   "source": [
    "def plot_datafile(datafile_id):\n",
    "    sql = f\"SELECT * FROM pepys.states_for(null, null, null, null, '{{{datafile_id}}}', null)\"\n",
    "    data = gpd.read_postgis(sql,\n",
    "                            engine, geom_col='state_location')\n",
    "    data['time_str'] = data.state_time.astype(str)\n",
    "    if len(data) == 0:\n",
    "        return \"No data\"\n",
    "    data = data.dropna(subset=['state_location'])\n",
    "    m = data[['time_str', 'state_location', 'heading', 'course', 'speed']].explore(column='speed')\n",
    "    return m"
   ]
  },
  {
   "cell_type": "markdown",
   "id": "bd65450f",
   "metadata": {},
   "source": [
    "## Interactive UI to select platform and see plot"
   ]
  },
  {
   "cell_type": "code",
   "execution_count": 82,
   "id": "cc3605c1",
   "metadata": {},
   "outputs": [],
   "source": [
    "with ds.session_scope():\n",
    "    platforms = ds.session.query(ds.db_classes.Platform.name, ds.db_classes.Platform.platform_id).all()"
   ]
  },
  {
   "cell_type": "code",
   "execution_count": 84,
   "id": "93cd5f1a",
   "metadata": {},
   "outputs": [],
   "source": [
    "platforms = [(name, str(plat_id)) for name, plat_id in platforms]"
   ]
  },
  {
   "cell_type": "code",
   "execution_count": 91,
   "id": "7a9cdf8c",
   "metadata": {},
   "outputs": [
    {
     "data": {
      "application/vnd.jupyter.widget-view+json": {
       "model_id": "19034c044272420182b0dc54eae98055",
       "version_major": 2,
       "version_minor": 0
      },
      "text/plain": [
       "interactive(children=(Dropdown(description='platform_id', options=(('GreenFV1_003', '84364da3-f52b-4ba2-92eb-5…"
      ]
     },
     "metadata": {},
     "output_type": "display_data"
    },
    {
     "data": {
      "text/plain": [
       "<function __main__.plot_platform(platform_id)>"
      ]
     },
     "execution_count": 91,
     "metadata": {},
     "output_type": "execute_result"
    }
   ],
   "source": [
    "interact(plot_platform, platform_id=platforms)"
   ]
  },
  {
   "cell_type": "markdown",
   "id": "d3d63e1e",
   "metadata": {},
   "source": [
    "## Interactive UI to select datafile and see plot"
   ]
  },
  {
   "cell_type": "code",
   "execution_count": 93,
   "id": "5051e4e8",
   "metadata": {},
   "outputs": [],
   "source": [
    "with ds.session_scope():\n",
    "    datafiles = ds.session.query(ds.db_classes.Datafile.reference, ds.db_classes.Datafile.datafile_id).all()"
   ]
  },
  {
   "cell_type": "code",
   "execution_count": 94,
   "id": "36d04d70",
   "metadata": {},
   "outputs": [],
   "source": [
    "datafiles = [(name, str(df_id)) for name, df_id in datafiles]"
   ]
  },
  {
   "cell_type": "code",
   "execution_count": 98,
   "id": "c9bc82d9",
   "metadata": {},
   "outputs": [
    {
     "data": {
      "application/vnd.jupyter.widget-view+json": {
       "model_id": "b89b47c89051474a9636fae950b31da2",
       "version_major": 2,
       "version_minor": 0
      },
      "text/plain": [
       "interactive(children=(Dropdown(description='datafile_id', options=(('ForceProt_3_31_201130_111758.880.rep', '5…"
      ]
     },
     "metadata": {},
     "output_type": "display_data"
    },
    {
     "data": {
      "text/plain": [
       "<function __main__.plot_datafile(datafile_id)>"
      ]
     },
     "execution_count": 98,
     "metadata": {},
     "output_type": "execute_result"
    }
   ],
   "source": [
    "interact(plot_datafile, datafile_id=datafiles)"
   ]
  },
  {
   "cell_type": "markdown",
   "id": "30f4e7d0",
   "metadata": {},
   "source": [
    "## Data plots for the HIPP platform"
   ]
  },
  {
   "cell_type": "markdown",
   "id": "3bae6d0f",
   "metadata": {},
   "source": [
    "#### Example static plot using matplotlib"
   ]
  },
  {
   "cell_type": "code",
   "execution_count": 102,
   "id": "dd64d294",
   "metadata": {},
   "outputs": [],
   "source": [
    "hipp_id = dict(platforms)['HIPP']"
   ]
  },
  {
   "cell_type": "code",
   "execution_count": 103,
   "id": "0dc748fc",
   "metadata": {},
   "outputs": [],
   "source": [
    "sql = f\"SELECT * FROM pepys.states_for(null, null, null, null, null, '{{{hipp_id}}}')\"\n",
    "data = gpd.read_postgis(sql,\n",
    "                        engine, geom_col='state_location')"
   ]
  },
  {
   "cell_type": "code",
   "execution_count": 114,
   "id": "21cd1125",
   "metadata": {},
   "outputs": [
    {
     "data": {
      "text/plain": [
       "Text(0.5, 1.0, 'Example static plot')"
      ]
     },
     "execution_count": 114,
     "metadata": {},
     "output_type": "execute_result"
    },
    {
     "data": {
      "image/png": "[encoded data removed]",
      "text/plain": [
       "<Figure size 720x576 with 1 Axes>"
      ]
     },
     "metadata": {
      "needs_background": "light"
     },
     "output_type": "display_data"
    }
   ],
   "source": [
    "_ = data.plot(kind='line', x='state_time', y='speed', grid=True, figsize=(10, 8))\n",
    "plt.xlabel(\"Time\")\n",
    "plt.ylabel(\"Speed (m/s)\")\n",
    "plt.title(\"Example static plot\")"
   ]
  },
  {
   "cell_type": "markdown",
   "id": "c9860b1e",
   "metadata": {},
   "source": [
    "#### Example interactive plot using hvplot"
   ]
  },
  {
   "cell_type": "code",
   "execution_count": 123,
   "id": "24e5331a",
   "metadata": {},
   "outputs": [],
   "source": [
    "pd.options.plotting.backend = 'hvplot'"
   ]
  },
  {
   "cell_type": "code",
   "execution_count": 151,
   "id": "3684aeaa",
   "metadata": {},
   "outputs": [],
   "source": [
    "df = pd.DataFrame(data)"
   ]
  },
  {
   "cell_type": "code",
   "execution_count": 160,
   "id": "a99cea47",
   "metadata": {},
   "outputs": [],
   "source": [
    "df = df.set_index(df.state_time)"
   ]
  },
  {
   "cell_type": "code",
   "execution_count": 162,
   "id": "a425d992",
   "metadata": {},
   "outputs": [],
   "source": [
    "df = df.sort_index()"
   ]
  },
  {
   "cell_type": "code",
   "execution_count": 175,
   "id": "661f095a",
   "metadata": {},
   "outputs": [
    {
     "data": {},
     "metadata": {},
     "output_type": "display_data"
    },
    {
     "data": {
      "application/vnd.holoviews_exec.v0+json": "",
      "text/html": [
       "<div id='8970'>\n",
       "\n",
       "\n",
       "\n",
       "\n",
       "\n",
       "  <div class=\"bk-root\" id=\"2c720850-959c-461f-991d-e8cc2a009657\" data-root-id=\"8970\"></div>\n",
       "</div>\n",
       "<script type=\"application/javascript\">(function(root) {\n",
       "  function embed_document(root) {\n",
       "    var docs_json = {\"dc4bc684-cf4b-416b-98ff-6f0a08b3c0e0\":{\"defs\":[{\"extends\":null,\"module\":null,\"name\":\"ReactiveHTML1\",\"overrides\":[],\"properties\":[]},{\"extends\":null,\"module\":null,\"name\":\"FlexBox1\",\"overrides\":[],\"properties\":[{\"default\":\"flex-start\",\"kind\":null,\"name\":\"align_content\"},{\"default\":\"flex-start\",\"kind\":null,\"name\":\"align_items\"},{\"default\":\"row\",\"kind\":null,\"name\":\"flex_direction\"},{\"default\":\"wrap\",\"kind\":null,\"name\":\"flex_wrap\"},{\"default\":\"flex-start\",\"kind\":null,\"name\":\"justify_content\"}]},{\"extends\":null,\"module\":null,\"name\":\"TemplateActions1\",\"overrides\":[],\"properties\":[{\"default\":0,\"kind\":null,\"name\":\"open_modal\"},{\"default\":0,\"kind\":null,\"name\":\"close_modal\"}]},{\"extends\":null,\"module\":null,\"name\":\"MaterialTemplateActions1\",\"overrides\":[],\"properties\":[{\"default\":0,\"kind\":null,\"name\":\"open_modal\"},{\"default\":0,\"kind\":null,\"name\":\"close_modal\"}]}],\"roots\":{\"references\":[{\"attributes\":{\"line_color\":\"#30a2da\",\"line_width\":2,\"x\":{\"field\":\"state_time\"},\"y\":{\"field\":\"speed\"}},\"id\":\"9052\",\"type\":\"Line\"},{\"attributes\":{\"coordinates\":null,\"data_source\":{\"id\":\"9053\"},\"glyph\":{\"id\":\"9056\"},\"group\":null,\"hover_glyph\":null,\"muted_glyph\":{\"id\":\"9058\"},\"nonselection_glyph\":{\"id\":\"9057\"},\"selection_glyph\":{\"id\":\"9086\"},\"view\":{\"id\":\"9060\"}},\"id\":\"9059\",\"type\":\"GlyphRenderer\"},{\"attributes\":{},\"id\":\"8994\",\"type\":\"BasicTicker\"},{\"attributes\":{\"axis_label\":\"Speed (m/s)\",\"coordinates\":null,\"formatter\":{\"id\":\"9016\"},\"group\":null,\"major_label_policy\":{\"id\":\"9017\"},\"ticker\":{\"id\":\"8994\"}},\"id\":\"8993\",\"type\":\"LinearAxis\"},{\"attributes\":{},\"id\":\"8985\",\"type\":\"LinearScale\"},{\"attributes\":{\"line_alpha\":0.1,\"line_color\":\"#fc4f30\",\"line_width\":2,\"x\":{\"field\":\"state_time\"},\"y\":{\"field\":\"speed\"}},\"id\":\"9057\",\"type\":\"Line\"},{\"attributes\":{\"line_color\":\"#fc4f30\",\"line_width\":2,\"x\":{\"field\":\"state_time\"},\"y\":{\"field\":\"speed\"}},\"id\":\"9086\",\"type\":\"Line\"},{\"attributes\":{\"num_minor_ticks\":5,\"tickers\":[{\"id\":\"9038\"},{\"id\":\"9039\"},{\"id\":\"9040\"},{\"id\":\"9041\"},{\"id\":\"9042\"},{\"id\":\"9043\"},{\"id\":\"9044\"},{\"id\":\"9045\"},{\"id\":\"9046\"},{\"id\":\"9047\"},{\"id\":\"9048\"},{\"id\":\"9049\"}]},\"id\":\"8990\",\"type\":\"DatetimeTicker\"},{\"attributes\":{},\"id\":\"9054\",\"type\":\"Selection\"},{\"attributes\":{\"mantissas\":[1,2,5],\"max_interval\":500.0,\"num_minor_ticks\":0},\"id\":\"9038\",\"type\":\"AdaptiveTicker\"},{\"attributes\":{},\"id\":\"9013\",\"type\":\"DatetimeTickFormatter\"},{\"attributes\":{\"label\":{\"value\":\"Smoothed speed\"},\"renderers\":[{\"id\":\"9059\"}]},\"id\":\"9085\",\"type\":\"LegendItem\"},{\"attributes\":{\"overlay\":{\"id\":\"9002\"}},\"id\":\"9000\",\"type\":\"BoxZoomTool\"},{\"attributes\":{\"line_alpha\":0.2,\"line_color\":\"#fc4f30\",\"line_width\":2,\"x\":{\"field\":\"state_time\"},\"y\":{\"field\":\"speed\"}},\"id\":\"9058\",\"type\":\"Line\"},{\"attributes\":{\"base\":60,\"mantissas\":[1,2,5,10,15,20,30],\"max_interval\":1800000.0,\"min_interval\":1000.0,\"num_minor_ticks\":0},\"id\":\"9039\",\"type\":\"AdaptiveTicker\"},{\"attributes\":{\"days\":[1,2,3,4,5,6,7,8,9,10,11,12,13,14,15,16,17,18,19,20,21,22,23,24,25,26,27,28,29,30,31]},\"id\":\"9041\",\"type\":\"DaysTicker\"},{\"attributes\":{},\"id\":\"9014\",\"type\":\"AllLabels\"},{\"attributes\":{\"base\":24,\"mantissas\":[1,2,4,6,8,12],\"max_interval\":43200000.0,\"min_interval\":3600000.0,\"num_minor_ticks\":0},\"id\":\"9040\",\"type\":\"AdaptiveTicker\"},{\"attributes\":{\"axis\":{\"id\":\"8989\"},\"coordinates\":null,\"group\":null,\"ticker\":{\"id\":\"8990\"}},\"id\":\"8992\",\"type\":\"Grid\"},{\"attributes\":{},\"id\":\"9070\",\"type\":\"UnionRenderers\"},{\"attributes\":{\"below\":[{\"id\":\"8989\"}],\"center\":[{\"id\":\"8992\"},{\"id\":\"8996\"},{\"id\":\"9050\"}],\"height\":300,\"left\":[{\"id\":\"8993\"}],\"margin\":[5,5,5,5],\"min_border_bottom\":10,\"min_border_left\":10,\"min_border_right\":10,\"min_border_top\":10,\"renderers\":[{\"id\":\"9026\"},{\"id\":\"9059\"}],\"sizing_mode\":\"fixed\",\"title\":{\"id\":\"8981\"},\"toolbar\":{\"id\":\"9003\"},\"width\":700,\"x_range\":{\"id\":\"8974\"},\"x_scale\":{\"id\":\"8985\"},\"y_range\":{\"id\":\"8975\"},\"y_scale\":{\"id\":\"8987\"}},\"id\":\"8980\",\"subtype\":\"Figure\",\"type\":\"Plot\"},{\"attributes\":{\"coordinates\":null,\"group\":null,\"text\":\"Example interactive plot (speed vs time)\",\"text_color\":\"black\",\"text_font_size\":\"12pt\"},\"id\":\"8981\",\"type\":\"Title\"},{\"attributes\":{\"source\":{\"id\":\"9053\"}},\"id\":\"9060\",\"type\":\"CDSView\"},{\"attributes\":{},\"id\":\"8998\",\"type\":\"PanTool\"},{\"attributes\":{},\"id\":\"9001\",\"type\":\"ResetTool\"},{\"attributes\":{\"days\":[1,4,7,10,13,16,19,22,25,28]},\"id\":\"9042\",\"type\":\"DaysTicker\"},{\"attributes\":{\"months\":[0,1,2,3,4,5,6,7,8,9,10,11]},\"id\":\"9045\",\"type\":\"MonthsTicker\"},{\"attributes\":{\"days\":[1,15]},\"id\":\"9044\",\"type\":\"DaysTicker\"},{\"attributes\":{\"months\":[0,2,4,6,8,10]},\"id\":\"9046\",\"type\":\"MonthsTicker\"},{\"attributes\":{\"margin\":[5,5,5,5],\"name\":\"HSpacer12819\",\"sizing_mode\":\"stretch_width\"},\"id\":\"9303\",\"type\":\"Spacer\"},{\"attributes\":{},\"id\":\"8999\",\"type\":\"WheelZoomTool\"},{\"attributes\":{\"months\":[0,6]},\"id\":\"9048\",\"type\":\"MonthsTicker\"},{\"attributes\":{\"tools\":[{\"id\":\"8976\"},{\"id\":\"8997\"},{\"id\":\"8998\"},{\"id\":\"8999\"},{\"id\":\"9000\"},{\"id\":\"9001\"}]},\"id\":\"9003\",\"type\":\"Toolbar\"},{\"attributes\":{},\"id\":\"9016\",\"type\":\"BasicTickFormatter\"},{\"attributes\":{\"days\":[1,8,15,22]},\"id\":\"9043\",\"type\":\"DaysTicker\"},{\"attributes\":{\"end\":1605484560000.0,\"reset_end\":1605484560000.0,\"reset_start\":1605398520000.0,\"start\":1605398520000.0,\"tags\":[[[\"state_time\",\"state_time\",null]]]},\"id\":\"8974\",\"type\":\"Range1d\"},{\"attributes\":{},\"id\":\"8987\",\"type\":\"LinearScale\"},{\"attributes\":{},\"id\":\"9049\",\"type\":\"YearsTicker\"},{\"attributes\":{},\"id\":\"9021\",\"type\":\"Selection\"},{\"attributes\":{\"axis\":{\"id\":\"8993\"},\"coordinates\":null,\"dimension\":1,\"group\":null,\"ticker\":{\"id\":\"8994\"}},\"id\":\"8996\",\"type\":\"Grid\"},{\"attributes\":{},\"id\":\"9017\",\"type\":\"AllLabels\"},{\"attributes\":{},\"id\":\"9035\",\"type\":\"UnionRenderers\"},{\"attributes\":{\"line_alpha\":0.2,\"line_color\":\"#30a2da\",\"line_width\":2,\"x\":{\"field\":\"state_time\"},\"y\":{\"field\":\"speed\"}},\"id\":\"9025\",\"type\":\"Line\"},{\"attributes\":{\"callback\":null,\"formatters\":{\"@{state_time}\":\"datetime\"},\"renderers\":[{\"id\":\"9026\"},{\"id\":\"9059\"}],\"tags\":[\"hv_created\"],\"tooltips\":[[\"state_time\",\"@{state_time}{%F %T}\"],[\"speed\",\"@{speed}\"]]},\"id\":\"8976\",\"type\":\"HoverTool\"},{\"attributes\":{\"data\":{\"speed\":{\"__ndarray__\":\"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\",\"dtype\":\"float64\",\"order\":\"little\",\"shape\":[365]},\"state_time\":{\"__ndarray__\":\"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\",\"dtype\":\"float64\",\"order\":\"little\",\"shape\":[365]}},\"selected\":{\"id\":\"9021\"},\"selection_policy\":{\"id\":\"9035\"}},\"id\":\"9020\",\"type\":\"ColumnDataSource\"},{\"attributes\":{\"bottom_units\":\"screen\",\"coordinates\":null,\"fill_alpha\":0.5,\"fill_color\":\"lightgrey\",\"group\":null,\"left_units\":\"screen\",\"level\":\"overlay\",\"line_alpha\":1.0,\"line_color\":\"black\",\"line_dash\":[4,4],\"line_width\":2,\"right_units\":\"screen\",\"syncable\":false,\"top_units\":\"screen\"},\"id\":\"9002\",\"type\":\"BoxAnnotation\"},{\"attributes\":{\"months\":[0,4,8]},\"id\":\"9047\",\"type\":\"MonthsTicker\"},{\"attributes\":{\"margin\":[5,5,5,5],\"name\":\"HSpacer12818\",\"sizing_mode\":\"stretch_width\"},\"id\":\"8971\",\"type\":\"Spacer\"},{\"attributes\":{\"data\":{\"speed\":{\"__ndarray__\":\"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\",\"dtype\":\"float64\",\"order\":\"little\",\"shape\":[365]},\"state_time\":{\"__ndarray__\":\"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\",\"dtype\":\"float64\",\"order\":\"little\",\"shape\":[365]}},\"selected\":{\"id\":\"9054\"},\"selection_policy\":{\"id\":\"9070\"}},\"id\":\"9053\",\"type\":\"ColumnDataSource\"},{\"attributes\":{\"line_alpha\":0.1,\"line_color\":\"#30a2da\",\"line_width\":2,\"x\":{\"field\":\"state_time\"},\"y\":{\"field\":\"speed\"}},\"id\":\"9024\",\"type\":\"Line\"},{\"attributes\":{},\"id\":\"8997\",\"type\":\"SaveTool\"},{\"attributes\":{\"axis_label\":\"Time\",\"coordinates\":null,\"formatter\":{\"id\":\"9013\"},\"group\":null,\"major_label_policy\":{\"id\":\"9014\"},\"ticker\":{\"id\":\"8990\"}},\"id\":\"8989\",\"type\":\"DatetimeAxis\"},{\"attributes\":{\"end\":9.620111111111116,\"reset_end\":9.620111111111116,\"reset_start\":-0.8745555555555561,\"start\":-0.8745555555555561,\"tags\":[[[\"speed\",\"speed\",null]]]},\"id\":\"8975\",\"type\":\"Range1d\"},{\"attributes\":{\"children\":[{\"id\":\"8971\"},{\"id\":\"8980\"},{\"id\":\"9303\"}],\"margin\":[0,0,0,0],\"name\":\"Row12814\",\"tags\":[\"embedded\"]},\"id\":\"8970\",\"type\":\"Row\"},{\"attributes\":{\"line_color\":\"#30a2da\",\"line_width\":2,\"x\":{\"field\":\"state_time\"},\"y\":{\"field\":\"speed\"}},\"id\":\"9023\",\"type\":\"Line\"},{\"attributes\":{\"click_policy\":\"mute\",\"coordinates\":null,\"group\":null,\"items\":[{\"id\":\"9051\"},{\"id\":\"9085\"}]},\"id\":\"9050\",\"type\":\"Legend\"},{\"attributes\":{\"coordinates\":null,\"data_source\":{\"id\":\"9020\"},\"glyph\":{\"id\":\"9023\"},\"group\":null,\"hover_glyph\":null,\"muted_glyph\":{\"id\":\"9025\"},\"nonselection_glyph\":{\"id\":\"9024\"},\"selection_glyph\":{\"id\":\"9052\"},\"view\":{\"id\":\"9027\"}},\"id\":\"9026\",\"type\":\"GlyphRenderer\"},{\"attributes\":{\"source\":{\"id\":\"9020\"}},\"id\":\"9027\",\"type\":\"CDSView\"},{\"attributes\":{\"label\":{\"value\":\"Raw speed\"},\"renderers\":[{\"id\":\"9026\"}]},\"id\":\"9051\",\"type\":\"LegendItem\"},{\"attributes\":{\"line_color\":\"#fc4f30\",\"line_width\":2,\"x\":{\"field\":\"state_time\"},\"y\":{\"field\":\"speed\"}},\"id\":\"9056\",\"type\":\"Line\"}],\"root_ids\":[\"8970\"]},\"title\":\"Bokeh Application\",\"version\":\"2.4.2\"}};\n",
       "    var render_items = [{\"docid\":\"dc4bc684-cf4b-416b-98ff-6f0a08b3c0e0\",\"root_ids\":[\"8970\"],\"roots\":{\"8970\":\"2c720850-959c-461f-991d-e8cc2a009657\"}}];\n",
       "    root.Bokeh.embed.embed_items_notebook(docs_json, render_items);\n",
       "  }\n",
       "  if (root.Bokeh !== undefined && root.Bokeh.Panel !== undefined) {\n",
       "    embed_document(root);\n",
       "  } else {\n",
       "    var attempts = 0;\n",
       "    var timer = setInterval(function(root) {\n",
       "      if (root.Bokeh !== undefined && root.Bokeh.Panel !== undefined) {\n",
       "        clearInterval(timer);\n",
       "        embed_document(root);\n",
       "      } else if (document.readyState == \"complete\") {\n",
       "        attempts++;\n",
       "        if (attempts > 200) {\n",
       "          clearInterval(timer);\n",
       "          console.log(\"Bokeh: ERROR: Unable to run BokehJS code because BokehJS library is missing\");\n",
       "        }\n",
       "      }\n",
       "    }, 25, root)\n",
       "  }\n",
       "})(window);</script>"
      ],
      "text/plain": [
       ":Overlay\n",
       "   .Curve.Raw_speed      :Curve   [state_time]   (speed)\n",
       "   .Curve.Smoothed_speed :Curve   [state_time]   (speed)"
      ]
     },
     "execution_count": 175,
     "metadata": {
      "application/vnd.holoviews_exec.v0+json": {
       "id": "8970"
      }
     },
     "output_type": "execute_result"
    }
   ],
   "source": [
    "df.plot(kind='line', y='speed', label=\"Raw speed\", grid=True, title=\"Example interactive plot (speed vs time)\", xlabel=\"Time\", ylabel=\"Speed (m/s)\") * df.speed.rolling(10).mean().plot(kind='line', label=\"Smoothed speed\")"
   ]
  }
 ],
 "metadata": {
  "kernelspec": {
   "display_name": "Python 3 (ipykernel)",
   "language": "python",
   "name": "python3"
  },
  "language_info": {
   "codemirror_mode": {
    "name": "ipython",
    "version": 3
   },
   "file_extension": ".py",
   "mimetype": "text/x-python",
   "name": "python",
   "nbconvert_exporter": "python",
   "pygments_lexer": "ipython3",
   "version": "3.8.12"
  }
 },
 "nbformat": 4,
 "nbformat_minor": 5
}
