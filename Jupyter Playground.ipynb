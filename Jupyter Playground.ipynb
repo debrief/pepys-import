{
 "cells": [
  {
   "cell_type": "code",
   "execution_count": 6,
   "id": "9362528a",
   "metadata": {},
   "outputs": [],
   "source": [
    "from pepys_import.core.store.data_store import DataStore\n",
    "import config\n",
    "import pandas as pd\n",
    "from sqlalchemy import create_engine\n",
    "import geopandas as gpd\n",
    "from ipywidgets import interact, interactive, fixed, interact_manual\n",
    "import ipywidgets as widgets\n",
    "import matplotlib.pyplot as plt\n",
    "import hvplot\n",
    "import hvplot.pandas\n",
    "import folium"
   ]
  },
  {
   "cell_type": "markdown",
   "id": "ef6cd0dd",
   "metadata": {},
   "source": [
    "## Create DataStore object, and older-style SQLAlchemy object"
   ]
  },
  {
   "cell_type": "code",
   "execution_count": 2,
   "id": "077d6f55",
   "metadata": {},
   "outputs": [
    {
     "name": "stdout",
     "output_type": "stream",
     "text": [
      "   @@@@ @@@@@        ______                      _                            _   \n",
      " @@@@@ @@..@@@@      | ___ \\                    (_)                          | |  \n",
      "  @@@     @@@@@@     | |_/ /__ _ __  _   _ ___   _ _ __ ___  _ __   ___  _ __| |_ \n",
      "  @@@     @@@@@@@@   |  __/ _ \\ '_ \\| | | / __| | | '_ ` _ \\| '_ \\ / _ \\| '__| __|\n",
      " @@@@.     @@@@@@@   | | |  __/ |_) | |_| \\__ \\ | | | | | | | |_) | (_) | |  | |_ \n",
      " @@ #@@ @   ...@@@@@ \\_|  \\___| .__/ \\__, |___/ |_|_| |_| |_| .__/ \\___/|_|   \\__|\n",
      " @@   &        @@@@@            | |     __/ | ______          | |                   \n",
      "Software Version :  0.0.33\n",
      "\n",
      "\n",
      "\n",
      "Database Type :  postgres\n",
      "Database Name :  pepys_solent\n",
      "Database Host :  localhost\n",
      "------------------------------------------------------------------------------\n"
     ]
    }
   ],
   "source": [
    "ds = DataStore(\n",
    "            db_username=config.DB_USERNAME,\n",
    "            db_password=config.DB_PASSWORD,\n",
    "            db_host=config.DB_HOST,\n",
    "            db_port=config.DB_PORT,\n",
    "            db_name=config.DB_NAME,\n",
    "            db_type=config.DB_TYPE,\n",
    "        )"
   ]
  },
  {
   "cell_type": "code",
   "execution_count": 3,
   "id": "b5725d0e",
   "metadata": {},
   "outputs": [],
   "source": [
    "engine = create_engine(ds.connection_string, future=False)"
   ]
  },
  {
   "cell_type": "markdown",
   "id": "95ebd720",
   "metadata": {},
   "source": [
    "## Functions for plotting platforms and datafiles"
   ]
  },
  {
   "cell_type": "code",
   "execution_count": null,
   "id": "ba335af7",
   "metadata": {},
   "outputs": [],
   "source": [
    "def plot_platform(platform_id):\n",
    "    sql = f\"SELECT * FROM pepys.states_for(null, null, null, null, null, '{{{platform_id}}}')\"\n",
    "    data = gpd.read_postgis(sql,\n",
    "                            engine, geom_col='state_location')\n",
    "    data['time_str'] = data.state_time.astype(str)\n",
    "    data = data.dropna(subset=['state_location'])\n",
    "    if len(data) == 0:\n",
    "        return \"No data\"\n",
    "    m = data[['time_str', 'state_location', 'heading', 'course', 'speed']].explore(column='speed')\n",
    "    return m"
   ]
  },
  {
   "cell_type": "code",
   "execution_count": null,
   "id": "9aae9e44",
   "metadata": {},
   "outputs": [],
   "source": [
    "def plot_datafile(datafile_id):\n",
    "    sql = f\"SELECT * FROM pepys.states_for(null, null, null, null, '{{{datafile_id}}}', null)\"\n",
    "    data = gpd.read_postgis(sql,\n",
    "                            engine, geom_col='state_location')\n",
    "    data['time_str'] = data.state_time.astype(str)\n",
    "    if len(data) == 0:\n",
    "        return \"No data\"\n",
    "    data = data.dropna(subset=['state_location'])\n",
    "    m = data[['time_str', 'state_location', 'heading', 'course', 'speed']].explore(column='speed')\n",
    "    return m"
   ]
  },
  {
   "cell_type": "markdown",
   "id": "60d46dce",
   "metadata": {},
   "source": [
    "## Interactive UI to select platform and see plot"
   ]
  },
  {
   "cell_type": "code",
   "execution_count": null,
   "id": "0d876329",
   "metadata": {},
   "outputs": [],
   "source": [
    "with ds.session_scope():\n",
    "    platforms = ds.session.query(ds.db_classes.Platform.name, ds.db_classes.Platform.platform_id).all()"
   ]
  },
  {
   "cell_type": "code",
   "execution_count": null,
   "id": "390c20e3",
   "metadata": {},
   "outputs": [],
   "source": [
    "platforms = [(name, str(plat_id)) for name, plat_id in platforms]"
   ]
  },
  {
   "cell_type": "code",
   "execution_count": null,
   "id": "879193ca",
   "metadata": {},
   "outputs": [],
   "source": [
    "interact(plot_platform, platform_id=platforms)"
   ]
  },
  {
   "cell_type": "markdown",
   "id": "628501ff",
   "metadata": {},
   "source": [
    "## Interactive UI to select datafile and see plot"
   ]
  },
  {
   "cell_type": "code",
   "execution_count": null,
   "id": "170f0e51",
   "metadata": {},
   "outputs": [],
   "source": [
    "with ds.session_scope():\n",
    "    datafiles = ds.session.query(ds.db_classes.Datafile.reference, ds.db_classes.Datafile.datafile_id).all()"
   ]
  },
  {
   "cell_type": "code",
   "execution_count": null,
   "id": "2e927a79",
   "metadata": {},
   "outputs": [],
   "source": [
    "datafiles = [(name, str(df_id)) for name, df_id in datafiles]"
   ]
  },
  {
   "cell_type": "code",
   "execution_count": null,
   "id": "6e3afb2d",
   "metadata": {},
   "outputs": [],
   "source": [
    "interact(plot_datafile, datafile_id=datafiles)"
   ]
  },
  {
   "cell_type": "markdown",
   "id": "946eea06",
   "metadata": {},
   "source": [
    "## Data plots for the HIPP platform"
   ]
  },
  {
   "cell_type": "markdown",
   "id": "9ba1b3fd",
   "metadata": {},
   "source": [
    "#### Example static plot using matplotlib"
   ]
  },
  {
   "cell_type": "code",
   "execution_count": null,
   "id": "f9ab67da",
   "metadata": {},
   "outputs": [],
   "source": [
    "hipp_id = dict(platforms)['HIPP']"
   ]
  },
  {
   "cell_type": "code",
   "execution_count": null,
   "id": "b43ede79",
   "metadata": {},
   "outputs": [],
   "source": [
    "sql = f\"SELECT * FROM pepys.states_for(null, null, null, null, null, '{{{hipp_id}}}')\"\n",
    "data = gpd.read_postgis(sql,\n",
    "                        engine, geom_col='state_location')"
   ]
  },
  {
   "cell_type": "code",
   "execution_count": null,
   "id": "f205b13a",
   "metadata": {},
   "outputs": [],
   "source": [
    "_ = data.plot(kind='line', x='state_time', y='speed', grid=True, figsize=(10, 8))\n",
    "plt.xlabel(\"Time\")\n",
    "plt.ylabel(\"Speed (m/s)\")\n",
    "plt.title(\"Example static plot\")"
   ]
  },
  {
   "cell_type": "markdown",
   "id": "5ada29f6",
   "metadata": {},
   "source": [
    "#### Example interactive plot using hvplot"
   ]
  },
  {
   "cell_type": "code",
   "execution_count": null,
   "id": "e4aabff4",
   "metadata": {},
   "outputs": [],
   "source": [
    "pd.options.plotting.backend = 'hvplot'"
   ]
  },
  {
   "cell_type": "code",
   "execution_count": null,
   "id": "4166d121",
   "metadata": {},
   "outputs": [],
   "source": [
    "df = pd.DataFrame(data)"
   ]
  },
  {
   "cell_type": "code",
   "execution_count": null,
   "id": "fdbdd4ec",
   "metadata": {},
   "outputs": [],
   "source": [
    "df = df.set_index(df.state_time)"
   ]
  },
  {
   "cell_type": "code",
   "execution_count": null,
   "id": "f995b382",
   "metadata": {},
   "outputs": [],
   "source": [
    "df = df.sort_index()"
   ]
  },
  {
   "cell_type": "code",
   "execution_count": null,
   "id": "3028b50f",
   "metadata": {},
   "outputs": [],
   "source": [
    "df.plot(kind='line', y='speed', label=\"Raw speed\", grid=True, title=\"Example interactive plot (speed vs time)\", xlabel=\"Time\", ylabel=\"Speed (m/s)\") * df.speed.rolling(10).mean().plot(kind='line', label=\"Smoothed speed\")"
   ]
  },
  {
   "cell_type": "code",
   "execution_count": null,
   "id": "bb0e812e",
   "metadata": {},
   "outputs": [],
   "source": [
    "len(df)"
   ]
  },
  {
   "cell_type": "code",
   "execution_count": null,
   "id": "5e136c4f",
   "metadata": {},
   "outputs": [],
   "source": []
  },
  {
   "cell_type": "code",
   "execution_count": null,
   "id": "f4cdcb95",
   "metadata": {},
   "outputs": [],
   "source": []
  },
  {
   "cell_type": "markdown",
   "id": "9e7dd0c1",
   "metadata": {},
   "source": [
    "## Finding vessels within distance"
   ]
  },
  {
   "cell_type": "code",
   "execution_count": 65,
   "id": "b32f6697",
   "metadata": {},
   "outputs": [],
   "source": [
    "def find_within_distance(selected_vessel_sensor_id, distance_threshold=500, time_threshold=1, just_map=False):\n",
    "    sql = f\"\"\"SELECT location, sensor_id::text, time::text from pepys.\"States\"\n",
    "   WHERE pepys.\"States\".sensor_id = '{selected_vessel_sensor_id}'\"\"\"\n",
    "\n",
    "    selected_vessel = gpd.read_postgis(sql, engine, geom_col=\"location\")\n",
    "    \n",
    "    if len(selected_vessel) == 0:\n",
    "        return \"No data\"\n",
    "\n",
    "    sql = f\"\"\"WITH selected_vessel AS\n",
    "      (SELECT * from pepys.\"States\"\n",
    "       WHERE pepys.\"States\".sensor_id = '{selected_vessel_sensor_id}'),\n",
    "    non_selected_vessel AS\n",
    "       (SELECT * from pepys.\"States\"\n",
    "       WHERE pepys.\"States\".sensor_id != '{selected_vessel_sensor_id}')\n",
    "    SELECT non_selected_vessel.time::text,\n",
    "           non_selected_vessel.sensor_id::text,\n",
    "           non_selected_vessel.location,\n",
    "           pepys.\"Sensors\".host::text,\n",
    "           pepys.\"Platforms\".name,\n",
    "           ST_Distance(non_selected_vessel.location::geography, selected_vessel.location::geography) as dist\n",
    "    FROM selected_vessel, non_selected_vessel\n",
    "    LEFT JOIN pepys.\"Sensors\" ON non_selected_vessel.sensor_id = pepys.\"Sensors\".sensor_id\n",
    "    LEFT JOIN pepys.\"Platforms\" ON pepys.\"Sensors\".host = pepys.\"Platforms\".platform_id\n",
    "    WHERE\n",
    "       (selected_vessel.time - non_selected_vessel.time) > '-{time_threshold} minute'::interval\n",
    "       and (selected_vessel.time - non_selected_vessel.time) < '{time_threshold} minute'::interval\n",
    "       and ST_DWithin(selected_vessel.location::geography, non_selected_vessel.location::geography, {distance_threshold}); \"\"\"\n",
    "\n",
    "    close_vessels = gpd.read_postgis(sql, engine, geom_col=\"location\")\n",
    "    \n",
    "#     m = folium.Map(control_scale=True)\n",
    "    m = selected_vessel.explore(tiles='https://tiles.wmflabs.org/bw-mapnik/{z}/{x}/{y}.png', attr=\"OSM\")\n",
    "    close_vessels.explore(column='name', m=m, cmap='Set1')\n",
    "    \n",
    "    if just_map:\n",
    "        return m\n",
    "\n",
    "    return selected_vessel, close_vessels, m    "
   ]
  },
  {
   "cell_type": "code",
   "execution_count": null,
   "id": "14e30aa0",
   "metadata": {},
   "outputs": [],
   "source": [
    "selected_vessel, close_vessels, m = find_within_distance('5676bde2-1481-47f0-b259-f057009081d3', 1000, 1)"
   ]
  },
  {
   "cell_type": "code",
   "execution_count": null,
   "id": "6bba3847",
   "metadata": {},
   "outputs": [],
   "source": [
    "m"
   ]
  },
  {
   "cell_type": "code",
   "execution_count": 16,
   "id": "cd2c0d15",
   "metadata": {},
   "outputs": [],
   "source": [
    "with ds.session_scope():\n",
    "    platforms = ds.session.query(ds.db_classes.Platform).all()"
   ]
  },
  {
   "cell_type": "code",
   "execution_count": 26,
   "id": "542f462b",
   "metadata": {},
   "outputs": [],
   "source": [
    "sensors = [(platform.name, str(platform.get_sensor(ds, 'AIS').sensor_id)) for platform in platforms]\n",
    "sensors = sensors[1:]\n",
    "sensors = sorted(sensors, key=lambda x: x[0])"
   ]
  },
  {
   "cell_type": "code",
   "execution_count": 27,
   "id": "fd5bce75",
   "metadata": {},
   "outputs": [
    {
     "data": {
      "application/vnd.jupyter.widget-view+json": {
       "model_id": "dd9b1a432846419fb77cb7d9c7af5d36",
       "version_major": 2,
       "version_minor": 0
      },
      "text/plain": [
       "interactive(children=(Dropdown(description='selected_vessel_sensor_id', options=(('212068000', 'eaacf56a-e872-…"
      ]
     },
     "metadata": {},
     "output_type": "display_data"
    },
    {
     "data": {
      "text/plain": [
       "<function __main__.find_within_distance(selected_vessel_sensor_id, distance_threshold=500, time_threshold=1, just_map=False)>"
      ]
     },
     "execution_count": 27,
     "metadata": {},
     "output_type": "execute_result"
    }
   ],
   "source": [
    "interact(find_within_distance,\n",
    "         selected_vessel_sensor_id=sensors,\n",
    "         distance_threshold=(100, 1000, 100),\n",
    "         time_threshold=fixed(1),\n",
    "         just_map=fixed(True))"
   ]
  },
  {
   "cell_type": "code",
   "execution_count": 83,
   "id": "ba92ef7d",
   "metadata": {},
   "outputs": [
    {
     "name": "stdout",
     "output_type": "stream",
     "text": [
      "CPU times: user 164 ms, sys: 5.72 ms, total: 169 ms\n",
      "Wall time: 482 ms\n"
     ]
    }
   ],
   "source": [
    "%%time\n",
    "selected_vessel, close_vessels, m = find_within_distance('5676bde2-1481-47f0-b259-f057009081d3', 1000, 1)"
   ]
  },
  {
   "cell_type": "code",
   "execution_count": 84,
   "id": "d2e48ccc",
   "metadata": {},
   "outputs": [],
   "source": [
    "close_vessels = close_vessels.set_index(pd.DatetimeIndex(close_vessels.time))"
   ]
  },
  {
   "cell_type": "code",
   "execution_count": 85,
   "id": "1459efa5",
   "metadata": {},
   "outputs": [],
   "source": [
    "vessels_in_range_by_time = close_vessels.resample('5T').apply(lambda x: len(x.groupby('name').groups))"
   ]
  },
  {
   "cell_type": "code",
   "execution_count": 92,
   "id": "4ad02f7a",
   "metadata": {},
   "outputs": [],
   "source": [
    "pd.options.plotting.backend = 'holoviews'"
   ]
  },
  {
   "cell_type": "code",
   "execution_count": 104,
   "id": "d3d70bf3",
   "metadata": {},
   "outputs": [
    {
     "data": {},
     "metadata": {},
     "output_type": "display_data"
    },
    {
     "data": {
      "application/vnd.holoviews_exec.v0+json": "",
      "text/html": [
       "<div id='3416'>\n",
       "\n",
       "\n",
       "\n",
       "\n",
       "\n",
       "  <div class=\"bk-root\" id=\"f6dcb5f4-56e9-4af6-82cf-835138737215\" data-root-id=\"3416\"></div>\n",
       "</div>\n",
       "<script type=\"application/javascript\">(function(root) {\n",
       "  function embed_document(root) {\n",
       "    var docs_json = {\"3163b9a3-f30c-401b-8162-9157c6b05ba3\":{\"defs\":[{\"extends\":null,\"module\":null,\"name\":\"ReactiveHTML1\",\"overrides\":[],\"properties\":[]},{\"extends\":null,\"module\":null,\"name\":\"FlexBox1\",\"overrides\":[],\"properties\":[{\"default\":\"flex-start\",\"kind\":null,\"name\":\"align_content\"},{\"default\":\"flex-start\",\"kind\":null,\"name\":\"align_items\"},{\"default\":\"row\",\"kind\":null,\"name\":\"flex_direction\"},{\"default\":\"wrap\",\"kind\":null,\"name\":\"flex_wrap\"},{\"default\":\"flex-start\",\"kind\":null,\"name\":\"justify_content\"}]},{\"extends\":null,\"module\":null,\"name\":\"TemplateActions1\",\"overrides\":[],\"properties\":[{\"default\":0,\"kind\":null,\"name\":\"open_modal\"},{\"default\":0,\"kind\":null,\"name\":\"close_modal\"}]},{\"extends\":null,\"module\":null,\"name\":\"MaterialTemplateActions1\",\"overrides\":[],\"properties\":[{\"default\":0,\"kind\":null,\"name\":\"open_modal\"},{\"default\":0,\"kind\":null,\"name\":\"close_modal\"}]}],\"roots\":{\"references\":[{\"attributes\":{\"axis_label\":\"Number of vessels within distance\",\"coordinates\":null,\"formatter\":{\"id\":\"3464\"},\"group\":null,\"major_label_policy\":{\"id\":\"3465\"},\"ticker\":{\"id\":\"3435\"}},\"id\":\"3434\",\"type\":\"LinearAxis\"},{\"attributes\":{},\"id\":\"3435\",\"type\":\"BasicTicker\"},{\"attributes\":{\"coordinates\":null,\"group\":null,\"text\":\"0\",\"text_color\":\"black\",\"text_font_size\":\"12pt\"},\"id\":\"3422\",\"type\":\"Title\"},{\"attributes\":{},\"id\":\"3464\",\"type\":\"BasicTickFormatter\"},{\"attributes\":{},\"id\":\"3473\",\"type\":\"UnionRenderers\"},{\"attributes\":{\"line_color\":\"#30a2da\",\"line_width\":2,\"x\":{\"field\":\"time\"},\"y\":{\"field\":\"0\"}},\"id\":\"3459\",\"type\":\"Line\"},{\"attributes\":{\"axis\":{\"id\":\"3434\"},\"coordinates\":null,\"dimension\":1,\"grid_line_color\":null,\"group\":null,\"ticker\":null},\"id\":\"3437\",\"type\":\"Grid\"},{\"attributes\":{},\"id\":\"3428\",\"type\":\"LinearScale\"},{\"attributes\":{\"axis\":{\"id\":\"3430\"},\"coordinates\":null,\"grid_line_color\":null,\"group\":null,\"ticker\":null},\"id\":\"3433\",\"type\":\"Grid\"},{\"attributes\":{\"end\":1452504900000.0,\"reset_end\":1452504900000.0,\"reset_start\":1452501000000.0,\"start\":1452501000000.0,\"tags\":[[[\"time\",\"time\",null]]]},\"id\":\"3418\",\"type\":\"Range1d\"},{\"attributes\":{\"axis_label\":\"Time\",\"coordinates\":null,\"formatter\":{\"id\":\"3461\"},\"group\":null,\"major_label_policy\":{\"id\":\"3462\"},\"ticker\":{\"id\":\"3431\"}},\"id\":\"3430\",\"type\":\"DatetimeAxis\"},{\"attributes\":{\"line_color\":\"#30a2da\",\"line_width\":2,\"x\":{\"field\":\"time\"},\"y\":{\"field\":\"0\"}},\"id\":\"3454\",\"type\":\"Line\"},{\"attributes\":{},\"id\":\"3439\",\"type\":\"PanTool\"},{\"attributes\":{\"margin\":[5,5,5,5],\"name\":\"HSpacer03990\",\"sizing_mode\":\"stretch_width\"},\"id\":\"3510\",\"type\":\"Spacer\"},{\"attributes\":{},\"id\":\"3426\",\"type\":\"LinearScale\"},{\"attributes\":{\"days\":[1,15]},\"id\":\"3482\",\"type\":\"DaysTicker\"},{\"attributes\":{\"overlay\":{\"id\":\"3443\"}},\"id\":\"3441\",\"type\":\"BoxZoomTool\"},{\"attributes\":{\"num_minor_ticks\":5,\"tickers\":[{\"id\":\"3476\"},{\"id\":\"3477\"},{\"id\":\"3478\"},{\"id\":\"3479\"},{\"id\":\"3480\"},{\"id\":\"3481\"},{\"id\":\"3482\"},{\"id\":\"3483\"},{\"id\":\"3484\"},{\"id\":\"3485\"},{\"id\":\"3486\"},{\"id\":\"3487\"}]},\"id\":\"3431\",\"type\":\"DatetimeTicker\"},{\"attributes\":{\"months\":[0,1,2,3,4,5,6,7,8,9,10,11]},\"id\":\"3483\",\"type\":\"MonthsTicker\"},{\"attributes\":{},\"id\":\"3461\",\"type\":\"DatetimeTickFormatter\"},{\"attributes\":{},\"id\":\"3452\",\"type\":\"Selection\"},{\"attributes\":{},\"id\":\"3440\",\"type\":\"WheelZoomTool\"},{\"attributes\":{\"coordinates\":null,\"data_source\":{\"id\":\"3451\"},\"glyph\":{\"id\":\"3454\"},\"group\":null,\"hover_glyph\":null,\"muted_glyph\":{\"id\":\"3456\"},\"nonselection_glyph\":{\"id\":\"3455\"},\"selection_glyph\":{\"id\":\"3459\"},\"view\":{\"id\":\"3458\"}},\"id\":\"3457\",\"type\":\"GlyphRenderer\"},{\"attributes\":{\"line_alpha\":0.1,\"line_color\":\"#30a2da\",\"line_width\":2,\"x\":{\"field\":\"time\"},\"y\":{\"field\":\"0\"}},\"id\":\"3455\",\"type\":\"Line\"},{\"attributes\":{},\"id\":\"3442\",\"type\":\"ResetTool\"},{\"attributes\":{\"line_alpha\":0.2,\"line_color\":\"#30a2da\",\"line_width\":2,\"x\":{\"field\":\"time\"},\"y\":{\"field\":\"0\"}},\"id\":\"3456\",\"type\":\"Line\"},{\"attributes\":{\"tools\":[{\"id\":\"3420\"},{\"id\":\"3438\"},{\"id\":\"3439\"},{\"id\":\"3440\"},{\"id\":\"3441\"},{\"id\":\"3442\"}]},\"id\":\"3444\",\"type\":\"Toolbar\"},{\"attributes\":{\"below\":[{\"id\":\"3430\"}],\"center\":[{\"id\":\"3433\"},{\"id\":\"3437\"}],\"height\":300,\"left\":[{\"id\":\"3434\"}],\"margin\":[5,5,5,5],\"min_border_bottom\":10,\"min_border_left\":10,\"min_border_right\":10,\"min_border_top\":10,\"renderers\":[{\"id\":\"3457\"}],\"sizing_mode\":\"fixed\",\"title\":{\"id\":\"3422\"},\"toolbar\":{\"id\":\"3444\"},\"width\":700,\"x_range\":{\"id\":\"3418\"},\"x_scale\":{\"id\":\"3426\"},\"y_range\":{\"id\":\"3419\"},\"y_scale\":{\"id\":\"3428\"}},\"id\":\"3421\",\"subtype\":\"Figure\",\"type\":\"Plot\"},{\"attributes\":{\"source\":{\"id\":\"3451\"}},\"id\":\"3458\",\"type\":\"CDSView\"},{\"attributes\":{\"bottom_units\":\"screen\",\"coordinates\":null,\"fill_alpha\":0.5,\"fill_color\":\"lightgrey\",\"group\":null,\"left_units\":\"screen\",\"level\":\"overlay\",\"line_alpha\":1.0,\"line_color\":\"black\",\"line_dash\":[4,4],\"line_width\":2,\"right_units\":\"screen\",\"syncable\":false,\"top_units\":\"screen\"},\"id\":\"3443\",\"type\":\"BoxAnnotation\"},{\"attributes\":{\"margin\":[5,5,5,5],\"name\":\"HSpacer03989\",\"sizing_mode\":\"stretch_width\"},\"id\":\"3417\",\"type\":\"Spacer\"},{\"attributes\":{\"children\":[{\"id\":\"3417\"},{\"id\":\"3421\"},{\"id\":\"3510\"}],\"margin\":[0,0,0,0],\"name\":\"Row03985\",\"tags\":[\"embedded\"]},\"id\":\"3416\",\"type\":\"Row\"},{\"attributes\":{\"months\":[0,4,8]},\"id\":\"3485\",\"type\":\"MonthsTicker\"},{\"attributes\":{},\"id\":\"3465\",\"type\":\"AllLabels\"},{\"attributes\":{\"mantissas\":[1,2,5],\"max_interval\":500.0,\"num_minor_ticks\":0},\"id\":\"3476\",\"type\":\"AdaptiveTicker\"},{\"attributes\":{\"base\":60,\"mantissas\":[1,2,5,10,15,20,30],\"max_interval\":1800000.0,\"min_interval\":1000.0,\"num_minor_ticks\":0},\"id\":\"3477\",\"type\":\"AdaptiveTicker\"},{\"attributes\":{\"months\":[0,6]},\"id\":\"3486\",\"type\":\"MonthsTicker\"},{\"attributes\":{\"days\":[1,2,3,4,5,6,7,8,9,10,11,12,13,14,15,16,17,18,19,20,21,22,23,24,25,26,27,28,29,30,31]},\"id\":\"3479\",\"type\":\"DaysTicker\"},{\"attributes\":{},\"id\":\"3462\",\"type\":\"AllLabels\"},{\"attributes\":{\"base\":24,\"mantissas\":[1,2,4,6,8,12],\"max_interval\":43200000.0,\"min_interval\":3600000.0,\"num_minor_ticks\":0},\"id\":\"3478\",\"type\":\"AdaptiveTicker\"},{\"attributes\":{},\"id\":\"3487\",\"type\":\"YearsTicker\"},{\"attributes\":{\"months\":[0,2,4,6,8,10]},\"id\":\"3484\",\"type\":\"MonthsTicker\"},{\"attributes\":{\"end\":2.2,\"reset_end\":2.2,\"reset_start\":-0.2,\"start\":-0.2,\"tags\":[[[\"0\",\"0\",null]]]},\"id\":\"3419\",\"type\":\"Range1d\"},{\"attributes\":{},\"id\":\"3438\",\"type\":\"SaveTool\"},{\"attributes\":{\"days\":[1,4,7,10,13,16,19,22,25,28]},\"id\":\"3480\",\"type\":\"DaysTicker\"},{\"attributes\":{\"data\":{\"0\":[2,0,0,0,1,2,2,2,2,2,1,1,1,2],\"A_0\":[2,0,0,0,1,2,2,2,2,2,1,1,1,2],\"time\":{\"__ndarray__\":\"AAD05fwidUIAADIv/SJ1QgAAcHj9InVCAACuwf0idUIAAOwK/iJ1QgAAKlT+InVCAABonf4idUIAAKbm/iJ1QgAA5C//InVCAAAief8idUIAAGDC/yJ1QgAAngsAI3VCAADcVAAjdUIAABqeACN1Qg==\",\"dtype\":\"float64\",\"order\":\"little\",\"shape\":[14]}},\"selected\":{\"id\":\"3452\"},\"selection_policy\":{\"id\":\"3473\"}},\"id\":\"3451\",\"type\":\"ColumnDataSource\"},{\"attributes\":{\"days\":[1,8,15,22]},\"id\":\"3481\",\"type\":\"DaysTicker\"},{\"attributes\":{\"callback\":null,\"formatters\":{\"@{time}\":\"datetime\"},\"renderers\":[{\"id\":\"3457\"}],\"tags\":[\"hv_created\"],\"tooltips\":[[\"time\",\"@{time}{%F %T}\"],[\"0\",\"@{A_0}\"]]},\"id\":\"3420\",\"type\":\"HoverTool\"}],\"root_ids\":[\"3416\"]},\"title\":\"Bokeh Application\",\"version\":\"2.4.2\"}};\n",
       "    var render_items = [{\"docid\":\"3163b9a3-f30c-401b-8162-9157c6b05ba3\",\"root_ids\":[\"3416\"],\"roots\":{\"3416\":\"f6dcb5f4-56e9-4af6-82cf-835138737215\"}}];\n",
       "    root.Bokeh.embed.embed_items_notebook(docs_json, render_items);\n",
       "  }\n",
       "  if (root.Bokeh !== undefined && root.Bokeh.Panel !== undefined) {\n",
       "    embed_document(root);\n",
       "  } else {\n",
       "    var attempts = 0;\n",
       "    var timer = setInterval(function(root) {\n",
       "      if (root.Bokeh !== undefined && root.Bokeh.Panel !== undefined) {\n",
       "        clearInterval(timer);\n",
       "        embed_document(root);\n",
       "      } else if (document.readyState == \"complete\") {\n",
       "        attempts++;\n",
       "        if (attempts > 200) {\n",
       "          clearInterval(timer);\n",
       "          console.log(\"Bokeh: ERROR: Unable to run BokehJS code because BokehJS library is missing\");\n",
       "        }\n",
       "      }\n",
       "    }, 25, root)\n",
       "  }\n",
       "})(window);</script>"
      ],
      "text/plain": [
       ":Curve   [time]   (0)"
      ]
     },
     "execution_count": 104,
     "metadata": {
      "application/vnd.holoviews_exec.v0+json": {
       "id": "3416"
      }
     },
     "output_type": "execute_result"
    }
   ],
   "source": [
    "vessels_in_range_by_time.plot(xlabel=\"Time\", ylabel=\"Number of vessels within distance\")"
   ]
  },
  {
   "cell_type": "code",
   "execution_count": 103,
   "id": "302a8832",
   "metadata": {},
   "outputs": [
    {
     "data": {},
     "metadata": {},
     "output_type": "display_data"
    },
    {
     "data": {
      "application/vnd.holoviews_exec.v0+json": "",
      "text/html": [
       "<div id='3292'>\n",
       "\n",
       "\n",
       "\n",
       "\n",
       "\n",
       "  <div class=\"bk-root\" id=\"ab8fcb35-62f3-4f90-b306-8800d544cb76\" data-root-id=\"3292\"></div>\n",
       "</div>\n",
       "<script type=\"application/javascript\">(function(root) {\n",
       "  function embed_document(root) {\n",
       "    var docs_json = {\"d4b60955-686f-4a9e-96a3-e8d37eeaac26\":{\"defs\":[{\"extends\":null,\"module\":null,\"name\":\"ReactiveHTML1\",\"overrides\":[],\"properties\":[]},{\"extends\":null,\"module\":null,\"name\":\"FlexBox1\",\"overrides\":[],\"properties\":[{\"default\":\"flex-start\",\"kind\":null,\"name\":\"align_content\"},{\"default\":\"flex-start\",\"kind\":null,\"name\":\"align_items\"},{\"default\":\"row\",\"kind\":null,\"name\":\"flex_direction\"},{\"default\":\"wrap\",\"kind\":null,\"name\":\"flex_wrap\"},{\"default\":\"flex-start\",\"kind\":null,\"name\":\"justify_content\"}]},{\"extends\":null,\"module\":null,\"name\":\"TemplateActions1\",\"overrides\":[],\"properties\":[{\"default\":0,\"kind\":null,\"name\":\"open_modal\"},{\"default\":0,\"kind\":null,\"name\":\"close_modal\"}]},{\"extends\":null,\"module\":null,\"name\":\"MaterialTemplateActions1\",\"overrides\":[],\"properties\":[{\"default\":0,\"kind\":null,\"name\":\"open_modal\"},{\"default\":0,\"kind\":null,\"name\":\"close_modal\"}]}],\"roots\":{\"references\":[{\"attributes\":{\"coordinates\":null,\"group\":null,\"text_color\":\"black\",\"text_font_size\":\"12pt\"},\"id\":\"3298\",\"type\":\"Title\"},{\"attributes\":{\"callback\":null,\"renderers\":[{\"id\":\"3333\"}],\"tags\":[\"hv_created\"],\"tooltips\":[[\"dist\",\"@{dist}\"],[\"Count\",\"@{dist_count}\"]]},\"id\":\"3296\",\"type\":\"HoverTool\"},{\"attributes\":{},\"id\":\"3338\",\"type\":\"AllLabels\"},{\"attributes\":{\"margin\":[5,5,5,5],\"name\":\"HSpacer03812\",\"sizing_mode\":\"stretch_width\"},\"id\":\"3293\",\"type\":\"Spacer\"},{\"attributes\":{\"below\":[{\"id\":\"3306\"}],\"center\":[{\"id\":\"3309\"},{\"id\":\"3313\"}],\"height\":300,\"left\":[{\"id\":\"3310\"}],\"margin\":[5,5,5,5],\"min_border_bottom\":10,\"min_border_left\":10,\"min_border_right\":10,\"min_border_top\":10,\"renderers\":[{\"id\":\"3333\"}],\"sizing_mode\":\"fixed\",\"title\":{\"id\":\"3298\"},\"toolbar\":{\"id\":\"3320\"},\"width\":700,\"x_range\":{\"id\":\"3294\"},\"x_scale\":{\"id\":\"3302\"},\"y_range\":{\"id\":\"3295\"},\"y_scale\":{\"id\":\"3304\"}},\"id\":\"3297\",\"subtype\":\"Figure\",\"type\":\"Plot\"},{\"attributes\":{\"children\":[{\"id\":\"3293\"},{\"id\":\"3297\"},{\"id\":\"3364\"}],\"margin\":[0,0,0,0],\"name\":\"Row03808\",\"tags\":[\"embedded\"]},\"id\":\"3292\",\"type\":\"Row\"},{\"attributes\":{},\"id\":\"3307\",\"type\":\"BasicTicker\"},{\"attributes\":{\"bottom\":{\"value\":0},\"fill_alpha\":{\"value\":1.0},\"fill_color\":{\"value\":\"#30a2da\"},\"hatch_alpha\":{\"value\":1.0},\"hatch_color\":{\"value\":\"#30a2da\"},\"hatch_scale\":{\"value\":12.0},\"hatch_weight\":{\"value\":1.0},\"left\":{\"field\":\"left\"},\"line_alpha\":{\"value\":1.0},\"line_cap\":{\"value\":\"butt\"},\"line_color\":{\"value\":\"black\"},\"line_dash\":{\"value\":[]},\"line_dash_offset\":{\"value\":0},\"line_join\":{\"value\":\"bevel\"},\"line_width\":{\"value\":1},\"right\":{\"field\":\"right\"},\"top\":{\"field\":\"top\"}},\"id\":\"3335\",\"type\":\"Quad\"},{\"attributes\":{\"end\":1040.8953597507143,\"reset_end\":1040.8953597507143,\"reset_start\":-19.977460160714283,\"start\":-19.977460160714283,\"tags\":[[[\"dist\",\"dist\",null]]]},\"id\":\"3294\",\"type\":\"Range1d\"},{\"attributes\":{},\"id\":\"3337\",\"type\":\"BasicTickFormatter\"},{\"attributes\":{\"end\":265.7,\"reset_end\":265.7,\"reset_start\":0.0,\"tags\":[[[\"dist_count\",\"Count\",null]]]},\"id\":\"3295\",\"type\":\"Range1d\"},{\"attributes\":{},\"id\":\"3302\",\"type\":\"LinearScale\"},{\"attributes\":{\"bottom\":{\"value\":0},\"fill_alpha\":{\"value\":0.2},\"fill_color\":{\"value\":\"#30a2da\"},\"hatch_alpha\":{\"value\":0.2},\"hatch_color\":{\"value\":\"#30a2da\"},\"left\":{\"field\":\"left\"},\"line_alpha\":{\"value\":0.2},\"right\":{\"field\":\"right\"},\"top\":{\"field\":\"top\"}},\"id\":\"3332\",\"type\":\"Quad\"},{\"attributes\":{\"axis_label\":\"Distance (m)\",\"coordinates\":null,\"formatter\":{\"id\":\"3337\"},\"group\":null,\"major_label_policy\":{\"id\":\"3338\"},\"ticker\":{\"id\":\"3307\"}},\"id\":\"3306\",\"type\":\"LinearAxis\"},{\"attributes\":{},\"id\":\"3304\",\"type\":\"LinearScale\"},{\"attributes\":{\"coordinates\":null,\"data_source\":{\"id\":\"3327\"},\"glyph\":{\"id\":\"3330\"},\"group\":null,\"hover_glyph\":null,\"muted_glyph\":{\"id\":\"3332\"},\"nonselection_glyph\":{\"id\":\"3331\"},\"selection_glyph\":{\"id\":\"3335\"},\"view\":{\"id\":\"3334\"}},\"id\":\"3333\",\"type\":\"GlyphRenderer\"},{\"attributes\":{\"axis_label\":\"Frequency\",\"coordinates\":null,\"formatter\":{\"id\":\"3340\"},\"group\":null,\"major_label_policy\":{\"id\":\"3341\"},\"ticker\":{\"id\":\"3311\"}},\"id\":\"3310\",\"type\":\"LinearAxis\"},{\"attributes\":{},\"id\":\"3315\",\"type\":\"PanTool\"},{\"attributes\":{\"tools\":[{\"id\":\"3296\"},{\"id\":\"3314\"},{\"id\":\"3315\"},{\"id\":\"3316\"},{\"id\":\"3317\"},{\"id\":\"3318\"}]},\"id\":\"3320\",\"type\":\"Toolbar\"},{\"attributes\":{},\"id\":\"3328\",\"type\":\"Selection\"},{\"attributes\":{},\"id\":\"3316\",\"type\":\"WheelZoomTool\"},{\"attributes\":{\"axis\":{\"id\":\"3310\"},\"coordinates\":null,\"dimension\":1,\"group\":null,\"ticker\":{\"id\":\"3311\"}},\"id\":\"3313\",\"type\":\"Grid\"},{\"attributes\":{\"data\":{\"dist\":{\"__ndarray__\":\"cfBcSlOwUUCdlgYb8g5lQIFab0jdonBAs2lbg0G+dkDleEe+pdl8QAzEmfyEeoFApssPGjeIhEA+04U36ZWHQNja+1Sbo4pAcOJxck2xjUA=\",\"dtype\":\"float64\",\"order\":\"little\",\"shape\":[10]},\"dist_count\":[49,94,136,172,164,159,166,181,220,246],\"left\":{\"__ndarray__\":\"MUgTUivmNUDVDjXAG+ddQM+l8lVWKmtAGmLlZY+wc0BMcdGg88t5QH6AvdtX539A2cdUC14Bg0Byz8ooEA+GQAvXQEbCHIlApN62Y3QqjEA=\",\"dtype\":\"float64\",\"order\":\"little\",\"shape\":[10]},\"right\":{\"__ndarray__\":\"1Q41wBvnXUDPpfJVViprQBpi5WWPsHNATHHRoPPLeUB+gL3bV+d/QNnHVAteAYNAcs/KKBAPhkAL10BGwhyJQKTetmN0KoxAPeYsgSY4j0A=\",\"dtype\":\"float64\",\"order\":\"little\",\"shape\":[10]},\"top\":[49,94,136,172,164,159,166,181,220,246]},\"selected\":{\"id\":\"3328\"},\"selection_policy\":{\"id\":\"3351\"}},\"id\":\"3327\",\"type\":\"ColumnDataSource\"},{\"attributes\":{},\"id\":\"3351\",\"type\":\"UnionRenderers\"},{\"attributes\":{\"axis\":{\"id\":\"3306\"},\"coordinates\":null,\"group\":null,\"ticker\":{\"id\":\"3307\"}},\"id\":\"3309\",\"type\":\"Grid\"},{\"attributes\":{},\"id\":\"3311\",\"type\":\"BasicTicker\"},{\"attributes\":{\"margin\":[5,5,5,5],\"name\":\"HSpacer03813\",\"sizing_mode\":\"stretch_width\"},\"id\":\"3364\",\"type\":\"Spacer\"},{\"attributes\":{},\"id\":\"3314\",\"type\":\"SaveTool\"},{\"attributes\":{},\"id\":\"3341\",\"type\":\"AllLabels\"},{\"attributes\":{\"overlay\":{\"id\":\"3319\"}},\"id\":\"3317\",\"type\":\"BoxZoomTool\"},{\"attributes\":{},\"id\":\"3318\",\"type\":\"ResetTool\"},{\"attributes\":{\"bottom_units\":\"screen\",\"coordinates\":null,\"fill_alpha\":0.5,\"fill_color\":\"lightgrey\",\"group\":null,\"left_units\":\"screen\",\"level\":\"overlay\",\"line_alpha\":1.0,\"line_color\":\"black\",\"line_dash\":[4,4],\"line_width\":2,\"right_units\":\"screen\",\"syncable\":false,\"top_units\":\"screen\"},\"id\":\"3319\",\"type\":\"BoxAnnotation\"},{\"attributes\":{\"source\":{\"id\":\"3327\"}},\"id\":\"3334\",\"type\":\"CDSView\"},{\"attributes\":{},\"id\":\"3340\",\"type\":\"BasicTickFormatter\"},{\"attributes\":{\"bottom\":{\"value\":0},\"fill_alpha\":{\"value\":0.1},\"fill_color\":{\"value\":\"#30a2da\"},\"hatch_alpha\":{\"value\":0.1},\"hatch_color\":{\"value\":\"#30a2da\"},\"left\":{\"field\":\"left\"},\"line_alpha\":{\"value\":0.1},\"right\":{\"field\":\"right\"},\"top\":{\"field\":\"top\"}},\"id\":\"3331\",\"type\":\"Quad\"},{\"attributes\":{\"bottom\":{\"value\":0},\"fill_color\":{\"value\":\"#30a2da\"},\"hatch_color\":{\"value\":\"#30a2da\"},\"left\":{\"field\":\"left\"},\"right\":{\"field\":\"right\"},\"top\":{\"field\":\"top\"}},\"id\":\"3330\",\"type\":\"Quad\"}],\"root_ids\":[\"3292\"]},\"title\":\"Bokeh Application\",\"version\":\"2.4.2\"}};\n",
       "    var render_items = [{\"docid\":\"d4b60955-686f-4a9e-96a3-e8d37eeaac26\",\"root_ids\":[\"3292\"],\"roots\":{\"3292\":\"ab8fcb35-62f3-4f90-b306-8800d544cb76\"}}];\n",
       "    root.Bokeh.embed.embed_items_notebook(docs_json, render_items);\n",
       "  }\n",
       "  if (root.Bokeh !== undefined && root.Bokeh.Panel !== undefined) {\n",
       "    embed_document(root);\n",
       "  } else {\n",
       "    var attempts = 0;\n",
       "    var timer = setInterval(function(root) {\n",
       "      if (root.Bokeh !== undefined && root.Bokeh.Panel !== undefined) {\n",
       "        clearInterval(timer);\n",
       "        embed_document(root);\n",
       "      } else if (document.readyState == \"complete\") {\n",
       "        attempts++;\n",
       "        if (attempts > 200) {\n",
       "          clearInterval(timer);\n",
       "          console.log(\"Bokeh: ERROR: Unable to run BokehJS code because BokehJS library is missing\");\n",
       "        }\n",
       "      }\n",
       "    }, 25, root)\n",
       "  }\n",
       "})(window);</script>"
      ],
      "text/plain": [
       ":Histogram   [dist]   (dist_count)"
      ]
     },
     "execution_count": 103,
     "metadata": {
      "application/vnd.holoviews_exec.v0+json": {
       "id": "3292"
      }
     },
     "output_type": "execute_result"
    }
   ],
   "source": [
    "close_vessels.dist.hist(xlabel=\"Distance (m)\", ylabel=\"Frequency\")"
   ]
  },
  {
   "cell_type": "markdown",
   "id": "e9b04b02",
   "metadata": {},
   "source": [
    "## Advanced SQL Playground"
   ]
  },
  {
   "cell_type": "markdown",
   "id": "39d0f022",
   "metadata": {},
   "source": [
    "Old code below"
   ]
  },
  {
   "cell_type": "code",
   "execution_count": null,
   "id": "b34b3352",
   "metadata": {},
   "outputs": [],
   "source": []
  },
  {
   "cell_type": "code",
   "execution_count": null,
   "id": "b6d9db37",
   "metadata": {},
   "outputs": [],
   "source": []
  },
  {
   "cell_type": "code",
   "execution_count": null,
   "id": "ee2f9ce2",
   "metadata": {},
   "outputs": [],
   "source": []
  },
  {
   "cell_type": "code",
   "execution_count": null,
   "id": "a46f9f0b",
   "metadata": {},
   "outputs": [],
   "source": [
    "# Create index on conversion to Geography, so we can deal with distances in metres\n",
    "CREATE INDEX ON pepys.\"States\" USING GIST (CAST(location as geography));"
   ]
  },
  {
   "cell_type": "code",
   "execution_count": null,
   "id": "4232430b",
   "metadata": {},
   "outputs": [],
   "source": [
    "%%time\n",
    "sql = \"\"\"SELECT location from pepys.\"States\" where\n",
    "ST_DWithin(ST_GeomFromText('POINT(-80.91804208527637 29.509684234606357)', 4326), location, 0.4)\n",
    "union all select ST_GeomFromText('POINT(-80.91804208527637 29.509684234606357)') as location;\"\"\"\n",
    "\n",
    "df = gpd.read_postgis(sql, engine, geom_col=\"location\")"
   ]
  },
  {
   "cell_type": "code",
   "execution_count": null,
   "id": "7d9a8d36",
   "metadata": {},
   "outputs": [],
   "source": [
    "with ds.session_scope():\n",
    "    states = ds.session.query(ds.db_classes.State).count()\n",
    "    platforms = ds.session.query(ds.db_classes.Platform).count()\n",
    "    \n",
    "print(f\"States: {states}\")\n",
    "print(f\"Platforms: {platforms}\")"
   ]
  },
  {
   "cell_type": "code",
   "execution_count": null,
   "id": "1d235560",
   "metadata": {},
   "outputs": [],
   "source": [
    "%%time\n",
    "sql = \"\"\"SELECT location from pepys.\"States\" where\n",
    "ST_DWithin(ST_GeomFromText('POINT(-80.91804208527637 29.509684234606357)', 4326)::geography, location::geography, 40000)\n",
    "union all select ST_GeomFromText('POINT(-80.91804208527637 29.509684234606357)')::geography as location;\"\"\"\n",
    "\n",
    "df = gpd.read_postgis(sql, engine, geom_col=\"location\")"
   ]
  },
  {
   "cell_type": "code",
   "execution_count": null,
   "id": "208cdad5",
   "metadata": {},
   "outputs": [],
   "source": [
    "%%time\n",
    "sensor_id = '5676bde2-1481-47f0-b259-f057009081d3'\n",
    "sql = f\"\"\"WITH selected_vessel AS\n",
    "  (SELECT * from pepys.\"States\"\n",
    "   WHERE pepys.\"States\".sensor_id = '{sensor_id}'),\n",
    "non_selected_vessel AS\n",
    "   (SELECT * from pepys.\"States\"\n",
    "   WHERE pepys.\"States\".sensor_id != '{sensor_id}')\n",
    "SELECT non_selected_vessel.time::text, non_selected_vessel.sensor_id::text, non_selected_vessel.location FROM selected_vessel, non_selected_vessel where (selected_vessel.time - non_selected_vessel.time) > '-1 minute'::interval and (selected_vessel.time - non_selected_vessel.time) < '1 minute'::interval and ST_DWithin(selected_vessel.location::geography, non_selected_vessel.location::geography, 500); \"\"\"\n",
    "\n",
    "df = gpd.read_postgis(sql, engine, geom_col=\"location\")"
   ]
  },
  {
   "cell_type": "code",
   "execution_count": null,
   "id": "160b9158",
   "metadata": {},
   "outputs": [],
   "source": [
    "len(df)"
   ]
  },
  {
   "cell_type": "code",
   "execution_count": null,
   "id": "dd60f27e",
   "metadata": {},
   "outputs": [],
   "source": [
    "import folium"
   ]
  },
  {
   "cell_type": "code",
   "execution_count": null,
   "id": "d96d9a6f",
   "metadata": {},
   "outputs": [],
   "source": [
    "m = folium.Map(control_scale=True)"
   ]
  },
  {
   "cell_type": "code",
   "execution_count": null,
   "id": "2f2fca10",
   "metadata": {},
   "outputs": [],
   "source": [
    "%%time\n",
    "sql = f\"\"\"SELECT location, sensor_id::text, time::text from pepys.\"States\"\n",
    "   WHERE pepys.\"States\".sensor_id = '{sensor_id}'\"\"\"\n",
    "\n",
    "selected_vessel = gpd.read_postgis(sql, engine, geom_col=\"location\")"
   ]
  },
  {
   "cell_type": "code",
   "execution_count": null,
   "id": "784d923f",
   "metadata": {},
   "outputs": [],
   "source": [
    "selected_vessel['sensor_id'] = selected_vessel['sensor_id'].astype(str)"
   ]
  },
  {
   "cell_type": "code",
   "execution_count": null,
   "id": "1304c00d",
   "metadata": {},
   "outputs": [],
   "source": [
    "selected_vessel.explore(m=m)"
   ]
  },
  {
   "cell_type": "code",
   "execution_count": null,
   "id": "473dbe5a",
   "metadata": {},
   "outputs": [],
   "source": [
    "df['sensor_id'] = df['sensor_id'].astype(str)"
   ]
  },
  {
   "cell_type": "code",
   "execution_count": null,
   "id": "308deccc",
   "metadata": {
    "scrolled": false
   },
   "outputs": [],
   "source": [
    "df.explore(m=m, color='red')"
   ]
  },
  {
   "cell_type": "code",
   "execution_count": null,
   "id": "ef19817a",
   "metadata": {},
   "outputs": [],
   "source": [
    "df['col'] = '0'"
   ]
  },
  {
   "cell_type": "code",
   "execution_count": null,
   "id": "40019c54",
   "metadata": {},
   "outputs": [],
   "source": [
    "df.loc[df.index[-1], 'col'] = 1"
   ]
  },
  {
   "cell_type": "code",
   "execution_count": null,
   "id": "d888cf1c",
   "metadata": {},
   "outputs": [],
   "source": [
    "df[['location']]"
   ]
  },
  {
   "cell_type": "code",
   "execution_count": null,
   "id": "7ee39ee5",
   "metadata": {},
   "outputs": [],
   "source": [
    "df[['location', 'col']].explore(column='col', cmap='viridis')"
   ]
  },
  {
   "cell_type": "code",
   "execution_count": null,
   "id": "b9a0f801",
   "metadata": {},
   "outputs": [],
   "source": [
    "plot_platform('dc2adf61-6b03-46db-8d78-303828ff2570')"
   ]
  },
  {
   "cell_type": "code",
   "execution_count": null,
   "id": "22f68c51",
   "metadata": {},
   "outputs": [],
   "source": []
  },
  {
   "cell_type": "code",
   "execution_count": null,
   "id": "ab949260",
   "metadata": {},
   "outputs": [],
   "source": []
  },
  {
   "cell_type": "code",
   "execution_count": null,
   "id": "0e78caa3",
   "metadata": {},
   "outputs": [],
   "source": []
  },
  {
   "cell_type": "code",
   "execution_count": null,
   "id": "313711e0",
   "metadata": {},
   "outputs": [],
   "source": [
    "%%time\n",
    "sensor_id = '5676bde2-1481-47f0-b259-f057009081d3'\n",
    "sql = f\"\"\"WITH selected_vessel AS\n",
    "  (SELECT * from pepys.\"States\"\n",
    "   WHERE pepys.\"States\".sensor_id = '{sensor_id}'),\n",
    "non_selected_vessel AS\n",
    "   (SELECT * from pepys.\"States\"\n",
    "   WHERE pepys.\"States\".sensor_id != '{sensor_id}')\n",
    "SELECT ST_MakeLine(non_selected_vessel.location, selected_vessel.location) as line, non_selected_vessel.time::text, non_selected_vessel.sensor_id::text, non_selected_vessel.location FROM selected_vessel, non_selected_vessel where (selected_vessel.time - non_selected_vessel.time) > '-1 minute'::interval and (selected_vessel.time - non_selected_vessel.time) < '1 minute'::interval and ST_DWithin(selected_vessel.location::geography, non_selected_vessel.location::geography, 200); \"\"\"\n",
    "\n",
    "df = gpd.read_postgis(sql, engine, geom_col=\"line\")"
   ]
  },
  {
   "cell_type": "code",
   "execution_count": null,
   "id": "dcbdd1a7",
   "metadata": {},
   "outputs": [],
   "source": [
    "df.explore(m=m, color='yellow')"
   ]
  },
  {
   "cell_type": "code",
   "execution_count": null,
   "id": "7054bd5b",
   "metadata": {},
   "outputs": [],
   "source": []
  }
 ],
 "metadata": {
  "kernelspec": {
   "display_name": "Python 3 (ipykernel)",
   "language": "python",
   "name": "python3"
  },
  "language_info": {
   "codemirror_mode": {
    "name": "ipython",
    "version": 3
   },
   "file_extension": ".py",
   "mimetype": "text/x-python",
   "name": "python",
   "nbconvert_exporter": "python",
   "pygments_lexer": "ipython3",
   "version": "3.8.12"
  }
 },
 "nbformat": 4,
 "nbformat_minor": 5
}
