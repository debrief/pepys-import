{
 "cells": [
  {
   "cell_type": "code",
   "execution_count": 87,
   "id": "4244d4ec",
   "metadata": {},
   "outputs": [],
   "source": [
    "from pepys_import.core.store.data_store import DataStore\n",
    "import pandas as pd\n",
    "from sqlalchemy import create_engine\n",
    "import geopandas as gpd\n",
    "from ipywidgets import interact, interactive, fixed, interact_manual\n",
    "import ipywidgets as widgets"
   ]
  },
  {
   "cell_type": "code",
   "execution_count": 81,
   "id": "370b89b3",
   "metadata": {},
   "outputs": [
    {
     "name": "stdout",
     "output_type": "stream",
     "text": [
      "   @@@@ @@@@@        ______                      _                            _   \n",
      " @@@@@ @@..@@@@      | ___ \\                    (_)                          | |  \n",
      "  @@@     @@@@@@     | |_/ /__ _ __  _   _ ___   _ _ __ ___  _ __   ___  _ __| |_ \n",
      "  @@@     @@@@@@@@   |  __/ _ \\ '_ \\| | | / __| | | '_ ` _ \\| '_ \\ / _ \\| '__| __|\n",
      " @@@@.     @@@@@@@   | | |  __/ |_) | |_| \\__ \\ | | | | | | | |_) | (_) | |  | |_ \n",
      " @@ #@@ @   ...@@@@@ \\_|  \\___| .__/ \\__, |___/ |_|_| |_| |_| .__/ \\___/|_|   \\__|\n",
      " @@   &        @@@@@            | |     __/ | ______          | |                   \n",
      "Software Version :  0.0.32\n",
      "\n",
      "\n",
      "\n",
      "Database Type :  postgres\n",
      "Database Name :  tracstor_trial1\n",
      "Database Host :  trac-store.com\n",
      "------------------------------------------------------------------------------\n"
     ]
    }
   ],
   "source": [
    "ds = DataStore(\"tracstor_view\", \"View1001View\", \"trac-store.com\", 5432, \"tracstor_trial1\", \"postgres\")"
   ]
  },
  {
   "cell_type": "code",
   "execution_count": 3,
   "id": "5c06f942",
   "metadata": {},
   "outputs": [],
   "source": [
    "engine = create_engine(ds.connection_string, future=False)"
   ]
  },
  {
   "cell_type": "code",
   "execution_count": 90,
   "id": "c422d6e3",
   "metadata": {},
   "outputs": [],
   "source": [
    "def plot_platform(platform_id):\n",
    "    sql = f\"SELECT * FROM pepys.states_for(null, null, null, null, null, '{{{platform_id}}}')\"\n",
    "    data = gpd.read_postgis(sql,\n",
    "                            engine, geom_col='state_location')\n",
    "    data['time_str'] = data.state_time.astype(str)\n",
    "    data = data.dropna(subset=['state_location'])\n",
    "    if len(data) == 0:\n",
    "        return \"No data\"\n",
    "    m = data[['time_str', 'state_location', 'heading', 'course', 'speed']].explore(column='speed')\n",
    "    return m"
   ]
  },
  {
   "cell_type": "code",
   "execution_count": 97,
   "id": "88d36fca",
   "metadata": {},
   "outputs": [],
   "source": [
    "def plot_datafile(datafile_id):\n",
    "    sql = f\"SELECT * FROM pepys.states_for(null, null, null, null, '{{{datafile_id}}}', null)\"\n",
    "    data = gpd.read_postgis(sql,\n",
    "                            engine, geom_col='state_location')\n",
    "    data['time_str'] = data.state_time.astype(str)\n",
    "    if len(data) == 0:\n",
    "        return \"No data\"\n",
    "    data = data.dropna(subset=['state_location'])\n",
    "    m = data[['time_str', 'state_location', 'heading', 'course', 'speed']].explore(column='speed')\n",
    "    return m"
   ]
  },
  {
   "cell_type": "code",
   "execution_count": 82,
   "id": "7d68dfe4",
   "metadata": {},
   "outputs": [],
   "source": [
    "with ds.session_scope():\n",
    "    platforms = ds.session.query(ds.db_classes.Platform.name, ds.db_classes.Platform.platform_id).all()"
   ]
  },
  {
   "cell_type": "code",
   "execution_count": 84,
   "id": "bdb0cdd5",
   "metadata": {},
   "outputs": [],
   "source": [
    "platforms = [(name, str(plat_id)) for name, plat_id in platforms]"
   ]
  },
  {
   "cell_type": "code",
   "execution_count": 91,
   "id": "2fa08641",
   "metadata": {},
   "outputs": [
    {
     "data": {
      "application/vnd.jupyter.widget-view+json": {
       "model_id": "19034c044272420182b0dc54eae98055",
       "version_major": 2,
       "version_minor": 0
      },
      "text/plain": [
       "interactive(children=(Dropdown(description='platform_id', options=(('GreenFV1_003', '84364da3-f52b-4ba2-92eb-5…"
      ]
     },
     "metadata": {},
     "output_type": "display_data"
    },
    {
     "data": {
      "text/plain": [
       "<function __main__.plot_platform(platform_id)>"
      ]
     },
     "execution_count": 91,
     "metadata": {},
     "output_type": "execute_result"
    }
   ],
   "source": [
    "interact(plot_platform, platform_id=platforms)"
   ]
  },
  {
   "cell_type": "code",
   "execution_count": 93,
   "id": "58a6ac33",
   "metadata": {},
   "outputs": [],
   "source": [
    "with ds.session_scope():\n",
    "    datafiles = ds.session.query(ds.db_classes.Datafile.reference, ds.db_classes.Datafile.datafile_id).all()"
   ]
  },
  {
   "cell_type": "code",
   "execution_count": 94,
   "id": "79ae74a2",
   "metadata": {},
   "outputs": [],
   "source": [
    "datafiles = [(name, str(df_id)) for name, df_id in datafiles]"
   ]
  },
  {
   "cell_type": "code",
   "execution_count": 98,
   "id": "4e7d6c35",
   "metadata": {},
   "outputs": [
    {
     "data": {
      "application/vnd.jupyter.widget-view+json": {
       "model_id": "b89b47c89051474a9636fae950b31da2",
       "version_major": 2,
       "version_minor": 0
      },
      "text/plain": [
       "interactive(children=(Dropdown(description='datafile_id', options=(('ForceProt_3_31_201130_111758.880.rep', '5…"
      ]
     },
     "metadata": {},
     "output_type": "display_data"
    },
    {
     "data": {
      "text/plain": [
       "<function __main__.plot_datafile(datafile_id)>"
      ]
     },
     "execution_count": 98,
     "metadata": {},
     "output_type": "execute_result"
    }
   ],
   "source": [
    "interact(plot_datafile, datafile_id=datafiles)"
   ]
  },
  {
   "cell_type": "code",
   "execution_count": null,
   "id": "eb20c39e",
   "metadata": {},
   "outputs": [],
   "source": []
  }
 ],
 "metadata": {
  "kernelspec": {
   "display_name": "Python 3 (ipykernel)",
   "language": "python",
   "name": "python3"
  },
  "language_info": {
   "codemirror_mode": {
    "name": "ipython",
    "version": 3
   },
   "file_extension": ".py",
   "mimetype": "text/x-python",
   "name": "python",
   "nbconvert_exporter": "python",
   "pygments_lexer": "ipython3",
   "version": "3.8.12"
  }
 },
 "nbformat": 4,
 "nbformat_minor": 5
}
