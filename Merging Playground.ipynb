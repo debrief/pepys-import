{
 "cells": [
  {
   "cell_type": "markdown",
   "metadata": {},
   "source": [
    "### Notes\n",
    "\n",
    "Master DB has:\n",
    " - rep_test1.rep imported with default importer\n",
    " - gpx_1_0.gpx imported with platform NELSON created with sensor GPS\n",
    " \n",
    "Slave DB has:\n",
    " - gpx_1_1.gpx imported with platform NELSON created with sensor GPS"
   ]
  },
  {
   "cell_type": "code",
   "execution_count": 1,
   "metadata": {},
   "outputs": [],
   "source": [
    "from pepys_import.core.store.data_store import DataStore\n",
    "from sqlalchemy.orm.session import make_transient\n",
    "from sqlalchemy.orm import undefer"
   ]
  },
  {
   "cell_type": "code",
   "execution_count": 2,
   "metadata": {},
   "outputs": [
    {
     "name": "stdout",
     "output_type": "stream",
     "text": [
      "   @@@@ @@@@@        ______                      _                            _   \n",
      " @@@@@ @@..@@@@      | ___ \\                    (_)                          | |  \n",
      "  @@@     @@@@@@     | |_/ /__ _ __  _   _ ___   _ _ __ ___  _ __   ___  _ __| |_ \n",
      "  @@@     @@@@@@@@   |  __/ _ \\ '_ \\| | | / __| | | '_ ` _ \\| '_ \\ / _ \\| '__| __|\n",
      " @@@@.     @@@@@@@   | | |  __/ |_) | |_| \\__ \\ | | | | | | | |_) | (_) | |  | |_ \n",
      " @@ #@@ @   ...@@@@@ \\_|  \\___| .__/ \\__, |___/ |_|_| |_| |_| .__/ \\___/|_|   \\__|\n",
      " @@   &        @@@@@            | |     __/ | ______          | |                   \n",
      "Software Version :  0.0.10 \n",
      "\n",
      "\n",
      "Database Type :  sqlite\n",
      "Database Name :  master.sqlite\n",
      "Database Host :  \n",
      "-------------------------------------------------------------\n",
      "   @@@@ @@@@@        ______                      _                            _   \n",
      " @@@@@ @@..@@@@      | ___ \\                    (_)                          | |  \n",
      "  @@@     @@@@@@     | |_/ /__ _ __  _   _ ___   _ _ __ ___  _ __   ___  _ __| |_ \n",
      "  @@@     @@@@@@@@   |  __/ _ \\ '_ \\| | | / __| | | '_ ` _ \\| '_ \\ / _ \\| '__| __|\n",
      " @@@@.     @@@@@@@   | | |  __/ |_) | |_| \\__ \\ | | | | | | | |_) | (_) | |  | |_ \n",
      " @@ #@@ @   ...@@@@@ \\_|  \\___| .__/ \\__, |___/ |_|_| |_| |_| .__/ \\___/|_|   \\__|\n",
      " @@   &        @@@@@            | |     __/ | ______          | |                   \n",
      "Software Version :  0.0.10 \n",
      "\n",
      "\n",
      "Database Type :  sqlite\n",
      "Database Name :  slave.sqlite\n",
      "Database Host :  \n",
      "-------------------------------------------------------------\n"
     ]
    }
   ],
   "source": [
    "master_store = DataStore(\"\", \"\", \"\", 0, db_name=\"master.sqlite\", db_type=\"sqlite\")\n",
    "slave_store = DataStore(\"\", \"\", \"\", 0, db_name=\"slave.sqlite\", db_type=\"sqlite\")"
   ]
  },
  {
   "cell_type": "code",
   "execution_count": 3,
   "metadata": {},
   "outputs": [
    {
     "name": "stdout",
     "output_type": "stream",
     "text": [
      "[Sensor(id=77f092, name=TA, host={shorten_uuid(self.host)}, host__name={self.host__name}, sensor_type={shorten_uuid(self.sensor_type_id)}, sensor_type__name={self.sensor_type_name}), Sensor(id=ed0e60, name=TA, host={shorten_uuid(self.host)}, host__name={self.host__name}, sensor_type={shorten_uuid(self.sensor_type_id)}, sensor_type__name={self.sensor_type_name}), Sensor(id=b572bb, name=SENSOR-1, host={shorten_uuid(self.host)}, host__name={self.host__name}, sensor_type={shorten_uuid(self.sensor_type_id)}, sensor_type__name={self.sensor_type_name}), Sensor(id=5a120e, name=SENSOR-1, host={shorten_uuid(self.host)}, host__name={self.host__name}, sensor_type={shorten_uuid(self.sensor_type_id)}, sensor_type__name={self.sensor_type_name}), Sensor(id=c425d2, name=GPS, host={shorten_uuid(self.host)}, host__name={self.host__name}, sensor_type={shorten_uuid(self.sensor_type_id)}, sensor_type__name={self.sensor_type_name})]\n",
      "5\n"
     ]
    }
   ],
   "source": [
    "with master_store.session_scope():\n",
    "    res = master_store.session.query(master_store.db_classes.Sensor).all()\n",
    "    print(res)\n",
    "    print(len(res))"
   ]
  },
  {
   "cell_type": "code",
   "execution_count": null,
   "metadata": {},
   "outputs": [],
   "source": [
    "with slave_store.session_scope():\n",
    "    res = slave_store.session.query(slave_store.db_classes.SensorType).options(undefer(\"*\")).all()\n",
    "    print(res)\n",
    "    print(len(res))\n",
    "    \n",
    "    slave_store.session.expunge_all()\n",
    "    with master_store.session_scope():\n",
    "        for r in res[0:1]:\n",
    "            make_transient(r)\n",
    "            master_store.session.add(r)\n",
    "        print(master_store.session.new)\n",
    "        print(r in master_store.session)\n",
    "        master_store.session.flush()"
   ]
  },
  {
   "cell_type": "code",
   "execution_count": null,
   "metadata": {},
   "outputs": [],
   "source": [
    "s = res[0]"
   ]
  },
  {
   "cell_type": "code",
   "execution_count": null,
   "metadata": {},
   "outputs": [],
   "source": [
    "master_store.session.commit()"
   ]
  },
  {
   "cell_type": "code",
   "execution_count": null,
   "metadata": {},
   "outputs": [],
   "source": [
    "# For each platform in slave db\n",
    "#   Search platform details in master\n",
    "#   If 0 matches, then just copy platform across\n",
    "#   If 1 match, update slave db platform foreign key to be same as master platform foreign key\n",
    "#   If 2 matches, fail\n",
    "\n",
    "# Check that State objects have been updated"
   ]
  }
 ],
 "metadata": {
  "hide_input": false,
  "kernelspec": {
   "display_name": "Python 3",
   "language": "python",
   "name": "python3"
  },
  "language_info": {
   "codemirror_mode": {
    "name": "ipython",
    "version": 3
   },
   "file_extension": ".py",
   "mimetype": "text/x-python",
   "name": "python",
   "nbconvert_exporter": "python",
   "pygments_lexer": "ipython3",
   "version": "3.7.6"
  }
 },
 "nbformat": 4,
 "nbformat_minor": 4
}
