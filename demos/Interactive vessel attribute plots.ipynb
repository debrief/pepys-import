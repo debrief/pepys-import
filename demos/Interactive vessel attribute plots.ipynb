{
 "cells": [
  {
   "cell_type": "code",
   "execution_count": 44,
   "id": "58f2a7e4",
   "metadata": {},
   "outputs": [],
   "source": [
    "from pepys_import.core.store.data_store import DataStore\n",
    "import config\n",
    "import pandas as pd\n",
    "from sqlalchemy import create_engine\n",
    "import geopandas as gpd\n",
    "from ipywidgets import interact, interactive, fixed, interact_manual\n",
    "import ipywidgets as widgets\n",
    "import matplotlib.pyplot as plt\n",
    "import hvplot\n",
    "import hvplot.pandas\n",
    "import folium\n",
    "import numpy as np"
   ]
  },
  {
   "cell_type": "markdown",
   "id": "4a284ecc",
   "metadata": {},
   "source": [
    "## Connect to database"
   ]
  },
  {
   "cell_type": "code",
   "execution_count": 2,
   "id": "a8c34f93",
   "metadata": {},
   "outputs": [
    {
     "name": "stdout",
     "output_type": "stream",
     "text": [
      "   @@@@ @@@@@        ______                      _                            _   \n",
      " @@@@@ @@..@@@@      | ___ \\                    (_)                          | |  \n",
      "  @@@     @@@@@@     | |_/ /__ _ __  _   _ ___   _ _ __ ___  _ __   ___  _ __| |_ \n",
      "  @@@     @@@@@@@@   |  __/ _ \\ '_ \\| | | / __| | | '_ ` _ \\| '_ \\ / _ \\| '__| __|\n",
      " @@@@.     @@@@@@@   | | |  __/ |_) | |_| \\__ \\ | | | | | | | |_) | (_) | |  | |_ \n",
      " @@ #@@ @   ...@@@@@ \\_|  \\___| .__/ \\__, |___/ |_|_| |_| |_| .__/ \\___/|_|   \\__|\n",
      " @@   &        @@@@@            | |     __/ | ______          | |                   \n",
      "Software Version :  0.0.33\n",
      "\n",
      "\n",
      "\n",
      "Database Type :  postgres\n",
      "Database Name :  pepys_solent\n",
      "Database Host :  localhost\n",
      "------------------------------------------------------------------------------\n"
     ]
    }
   ],
   "source": [
    "ds = DataStore(\n",
    "            db_username=config.DB_USERNAME,\n",
    "            db_password=config.DB_PASSWORD,\n",
    "            db_host=config.DB_HOST,\n",
    "            db_port=config.DB_PORT,\n",
    "            db_name=config.DB_NAME,\n",
    "            db_type=config.DB_TYPE,\n",
    "        )"
   ]
  },
  {
   "cell_type": "code",
   "execution_count": 3,
   "id": "a63a3c0c",
   "metadata": {},
   "outputs": [],
   "source": [
    "engine = create_engine(ds.connection_string, future=False)"
   ]
  },
  {
   "cell_type": "markdown",
   "id": "9a25fe70",
   "metadata": {},
   "source": [
    "## Query data for specific platform"
   ]
  },
  {
   "cell_type": "code",
   "execution_count": 16,
   "id": "783fa9c5",
   "metadata": {},
   "outputs": [],
   "source": [
    "with ds.session_scope():\n",
    "    platform_id = ds.session.query(ds.db_classes.Platform.platform_id).filter(ds.db_classes.Platform.name == \"308262000\").one()[0]"
   ]
  },
  {
   "cell_type": "code",
   "execution_count": 17,
   "id": "5779497b",
   "metadata": {},
   "outputs": [
    {
     "data": {
      "text/plain": [
       "UUID('2b4de79e-1fad-4070-a6f3-1b7c29599728')"
      ]
     },
     "execution_count": 17,
     "metadata": {},
     "output_type": "execute_result"
    }
   ],
   "source": [
    "platform_id"
   ]
  },
  {
   "cell_type": "code",
   "execution_count": 18,
   "id": "a52704a0",
   "metadata": {},
   "outputs": [],
   "source": [
    "sql = f\"SELECT * FROM pepys.states_for(null, null, null, null, null, '{{{platform_id}}}')\"\n",
    "data = gpd.read_postgis(sql,\n",
    "                        engine, geom_col='state_location')"
   ]
  },
  {
   "cell_type": "code",
   "execution_count": 21,
   "id": "cd991c0a",
   "metadata": {},
   "outputs": [
    {
     "data": {
      "text/html": [
       "<div>\n",
       "<style scoped>\n",
       "    .dataframe tbody tr th:only-of-type {\n",
       "        vertical-align: middle;\n",
       "    }\n",
       "\n",
       "    .dataframe tbody tr th {\n",
       "        vertical-align: top;\n",
       "    }\n",
       "\n",
       "    .dataframe thead th {\n",
       "        text-align: right;\n",
       "    }\n",
       "</style>\n",
       "<table border=\"1\" class=\"dataframe\">\n",
       "  <thead>\n",
       "    <tr style=\"text-align: right;\">\n",
       "      <th></th>\n",
       "      <th>state_id</th>\n",
       "      <th>state_time</th>\n",
       "      <th>sensor_name</th>\n",
       "      <th>platform_name</th>\n",
       "      <th>platformtype_name</th>\n",
       "      <th>nationality_name</th>\n",
       "      <th>state_location</th>\n",
       "      <th>elevation</th>\n",
       "      <th>heading</th>\n",
       "      <th>course</th>\n",
       "      <th>speed</th>\n",
       "      <th>reference</th>\n",
       "    </tr>\n",
       "  </thead>\n",
       "  <tbody>\n",
       "    <tr>\n",
       "      <th>0</th>\n",
       "      <td>00152e8e-692f-42d8-afe5-f7e50fea0eda</td>\n",
       "      <td>2016-01-11 09:03:14.709</td>\n",
       "      <td>AIS</td>\n",
       "      <td>308262000</td>\n",
       "      <td>Unknown</td>\n",
       "      <td>Unknown</td>\n",
       "      <td>POINT (-0.95887 50.67108)</td>\n",
       "      <td>None</td>\n",
       "      <td>None</td>\n",
       "      <td>3.300418</td>\n",
       "      <td>5.350222</td>\n",
       "      <td>SolentAIS_20160111_083249.csv</td>\n",
       "    </tr>\n",
       "    <tr>\n",
       "      <th>1</th>\n",
       "      <td>01c461be-aa02-459c-8040-acc6cd4d483c</td>\n",
       "      <td>2016-01-11 09:55:55.440</td>\n",
       "      <td>AIS</td>\n",
       "      <td>308262000</td>\n",
       "      <td>Unknown</td>\n",
       "      <td>Unknown</td>\n",
       "      <td>POINT (-1.06896 50.53745)</td>\n",
       "      <td>None</td>\n",
       "      <td>None</td>\n",
       "      <td>4.127704</td>\n",
       "      <td>5.401667</td>\n",
       "      <td>SolentAIS_20160111_083249.csv</td>\n",
       "    </tr>\n",
       "    <tr>\n",
       "      <th>2</th>\n",
       "      <td>01d859fd-e004-4bdd-a7b4-5850dcae9699</td>\n",
       "      <td>2016-01-11 09:29:05.957</td>\n",
       "      <td>AIS</td>\n",
       "      <td>308262000</td>\n",
       "      <td>Unknown</td>\n",
       "      <td>Unknown</td>\n",
       "      <td>POINT (-0.98437 50.59680)</td>\n",
       "      <td>None</td>\n",
       "      <td>None</td>\n",
       "      <td>3.914774</td>\n",
       "      <td>5.761778</td>\n",
       "      <td>SolentAIS_20160111_083249.csv</td>\n",
       "    </tr>\n",
       "    <tr>\n",
       "      <th>3</th>\n",
       "      <td>0306f98f-8636-4872-a968-6a9a1f4c1225</td>\n",
       "      <td>2016-01-11 08:49:55.500</td>\n",
       "      <td>AIS</td>\n",
       "      <td>308262000</td>\n",
       "      <td>Unknown</td>\n",
       "      <td>Unknown</td>\n",
       "      <td>POINT (-0.95830 50.70128)</td>\n",
       "      <td>None</td>\n",
       "      <td>None</td>\n",
       "      <td>2.820452</td>\n",
       "      <td>3.704000</td>\n",
       "      <td>SolentAIS_20160111_083249.csv</td>\n",
       "    </tr>\n",
       "    <tr>\n",
       "      <th>4</th>\n",
       "      <td>03a9c7fe-62ab-4f95-8df7-660709f10c85</td>\n",
       "      <td>2016-01-11 09:51:44.755</td>\n",
       "      <td>AIS</td>\n",
       "      <td>308262000</td>\n",
       "      <td>Unknown</td>\n",
       "      <td>Unknown</td>\n",
       "      <td>POINT (-1.05497 50.54570)</td>\n",
       "      <td>None</td>\n",
       "      <td>None</td>\n",
       "      <td>3.754203</td>\n",
       "      <td>5.504556</td>\n",
       "      <td>SolentAIS_20160111_083249.csv</td>\n",
       "    </tr>\n",
       "  </tbody>\n",
       "</table>\n",
       "</div>"
      ],
      "text/plain": [
       "                               state_id              state_time sensor_name  \\\n",
       "0  00152e8e-692f-42d8-afe5-f7e50fea0eda 2016-01-11 09:03:14.709         AIS   \n",
       "1  01c461be-aa02-459c-8040-acc6cd4d483c 2016-01-11 09:55:55.440         AIS   \n",
       "2  01d859fd-e004-4bdd-a7b4-5850dcae9699 2016-01-11 09:29:05.957         AIS   \n",
       "3  0306f98f-8636-4872-a968-6a9a1f4c1225 2016-01-11 08:49:55.500         AIS   \n",
       "4  03a9c7fe-62ab-4f95-8df7-660709f10c85 2016-01-11 09:51:44.755         AIS   \n",
       "\n",
       "  platform_name platformtype_name nationality_name             state_location  \\\n",
       "0     308262000           Unknown          Unknown  POINT (-0.95887 50.67108)   \n",
       "1     308262000           Unknown          Unknown  POINT (-1.06896 50.53745)   \n",
       "2     308262000           Unknown          Unknown  POINT (-0.98437 50.59680)   \n",
       "3     308262000           Unknown          Unknown  POINT (-0.95830 50.70128)   \n",
       "4     308262000           Unknown          Unknown  POINT (-1.05497 50.54570)   \n",
       "\n",
       "  elevation heading    course     speed                      reference  \n",
       "0      None    None  3.300418  5.350222  SolentAIS_20160111_083249.csv  \n",
       "1      None    None  4.127704  5.401667  SolentAIS_20160111_083249.csv  \n",
       "2      None    None  3.914774  5.761778  SolentAIS_20160111_083249.csv  \n",
       "3      None    None  2.820452  3.704000  SolentAIS_20160111_083249.csv  \n",
       "4      None    None  3.754203  5.504556  SolentAIS_20160111_083249.csv  "
      ]
     },
     "execution_count": 21,
     "metadata": {},
     "output_type": "execute_result"
    }
   ],
   "source": [
    "data.head()"
   ]
  },
  {
   "cell_type": "markdown",
   "id": "42dee6d5",
   "metadata": {},
   "source": [
    "## Static plot of attribute data"
   ]
  },
  {
   "cell_type": "code",
   "execution_count": 20,
   "id": "8176f755",
   "metadata": {},
   "outputs": [
    {
     "data": {
      "text/plain": [
       "Text(0.5, 1.0, 'Example static plot')"
      ]
     },
     "execution_count": 20,
     "metadata": {},
     "output_type": "execute_result"
    },
    {
     "data": {
      "image/png": "[encoded data removed]",
      "text/plain": [
       "<Figure size 720x576 with 1 Axes>"
      ]
     },
     "metadata": {
      "needs_background": "light"
     },
     "output_type": "display_data"
    }
   ],
   "source": [
    "_ = data.plot(kind='line', x='state_time', y='speed', grid=True, figsize=(10, 8))\n",
    "plt.xlabel(\"Time\")\n",
    "plt.ylabel(\"Speed (m/s)\")\n",
    "plt.title(\"Example static plot\")"
   ]
  },
  {
   "cell_type": "markdown",
   "id": "85ba64af",
   "metadata": {},
   "source": [
    "## Interactive plot of attribute data"
   ]
  },
  {
   "cell_type": "code",
   "execution_count": 22,
   "id": "f514ab6a",
   "metadata": {},
   "outputs": [],
   "source": [
    "pd.options.plotting.backend = 'hvplot'"
   ]
  },
  {
   "cell_type": "code",
   "execution_count": 31,
   "id": "954e8156",
   "metadata": {},
   "outputs": [],
   "source": [
    "data = data.set_index(data.state_time)"
   ]
  },
  {
   "cell_type": "code",
   "execution_count": 38,
   "id": "a80b042e",
   "metadata": {},
   "outputs": [
    {
     "data": {},
     "metadata": {},
     "output_type": "display_data"
    },
    {
     "data": {
      "application/vnd.holoviews_exec.v0+json": "",
      "text/html": [
       "<div id='3751'>\n",
       "\n",
       "\n",
       "\n",
       "\n",
       "\n",
       "  <div class=\"bk-root\" id=\"c497b450-f9e0-4134-952b-c7c09810d6cd\" data-root-id=\"3751\"></div>\n",
       "</div>\n",
       "<script type=\"application/javascript\">(function(root) {\n",
       "  function embed_document(root) {\n",
       "    var docs_json = {\"649ff85a-25eb-4ce8-9683-f2edac17f20a\":{\"defs\":[{\"extends\":null,\"module\":null,\"name\":\"ReactiveHTML1\",\"overrides\":[],\"properties\":[]},{\"extends\":null,\"module\":null,\"name\":\"FlexBox1\",\"overrides\":[],\"properties\":[{\"default\":\"flex-start\",\"kind\":null,\"name\":\"align_content\"},{\"default\":\"flex-start\",\"kind\":null,\"name\":\"align_items\"},{\"default\":\"row\",\"kind\":null,\"name\":\"flex_direction\"},{\"default\":\"wrap\",\"kind\":null,\"name\":\"flex_wrap\"},{\"default\":\"flex-start\",\"kind\":null,\"name\":\"justify_content\"}]},{\"extends\":null,\"module\":null,\"name\":\"TemplateActions1\",\"overrides\":[],\"properties\":[{\"default\":0,\"kind\":null,\"name\":\"open_modal\"},{\"default\":0,\"kind\":null,\"name\":\"close_modal\"}]},{\"extends\":null,\"module\":null,\"name\":\"MaterialTemplateActions1\",\"overrides\":[],\"properties\":[{\"default\":0,\"kind\":null,\"name\":\"open_modal\"},{\"default\":0,\"kind\":null,\"name\":\"close_modal\"}]}],\"roots\":{\"references\":[{\"attributes\":{\"line_color\":\"#30a2da\",\"line_width\":2,\"x\":{\"field\":\"state_time\"},\"y\":{\"field\":\"speed\"}},\"id\":\"3794\",\"type\":\"Line\"},{\"attributes\":{\"line_alpha\":0.1,\"line_color\":\"#30a2da\",\"line_width\":2,\"x\":{\"field\":\"state_time\"},\"y\":{\"field\":\"speed\"}},\"id\":\"3790\",\"type\":\"Line\"},{\"attributes\":{\"callback\":null,\"formatters\":{\"@{state_time}\":\"datetime\"},\"renderers\":[{\"id\":\"3792\"}],\"tags\":[\"hv_created\"],\"tooltips\":[[\"state_time\",\"@{state_time}{%F %T}\"],[\"speed\",\"@{speed}\"]]},\"id\":\"3755\",\"type\":\"HoverTool\"},{\"attributes\":{\"end\":1452508784988.0,\"reset_end\":1452508784988.0,\"reset_start\":1452501173041.0,\"start\":1452501173041.0,\"tags\":[[[\"state_time\",\"state_time\",null]]]},\"id\":\"3753\",\"type\":\"Range1d\"},{\"attributes\":{},\"id\":\"3799\",\"type\":\"BasicTickFormatter\"},{\"attributes\":{\"months\":[0,1,2,3,4,5,6,7,8,9,10,11]},\"id\":\"3820\",\"type\":\"MonthsTicker\"},{\"attributes\":{},\"id\":\"3810\",\"type\":\"UnionRenderers\"},{\"attributes\":{\"base\":24,\"mantissas\":[1,2,4,6,8,12],\"max_interval\":43200000.0,\"min_interval\":3600000.0,\"num_minor_ticks\":0},\"id\":\"3815\",\"type\":\"AdaptiveTicker\"},{\"attributes\":{\"children\":[{\"id\":\"3752\"},{\"id\":\"3756\"},{\"id\":\"3847\"}],\"margin\":[0,0,0,0],\"name\":\"Row06154\",\"tags\":[\"embedded\"]},\"id\":\"3751\",\"type\":\"Row\"},{\"attributes\":{\"days\":[1,2,3,4,5,6,7,8,9,10,11,12,13,14,15,16,17,18,19,20,21,22,23,24,25,26,27,28,29,30,31]},\"id\":\"3816\",\"type\":\"DaysTicker\"},{\"attributes\":{\"margin\":[5,5,5,5],\"name\":\"HSpacer06159\",\"sizing_mode\":\"stretch_width\"},\"id\":\"3847\",\"type\":\"Spacer\"},{\"attributes\":{\"source\":{\"id\":\"3786\"}},\"id\":\"3793\",\"type\":\"CDSView\"},{\"attributes\":{\"bottom_units\":\"screen\",\"coordinates\":null,\"fill_alpha\":0.5,\"fill_color\":\"lightgrey\",\"group\":null,\"left_units\":\"screen\",\"level\":\"overlay\",\"line_alpha\":1.0,\"line_color\":\"black\",\"line_dash\":[4,4],\"line_width\":2,\"right_units\":\"screen\",\"syncable\":false,\"top_units\":\"screen\"},\"id\":\"3778\",\"type\":\"BoxAnnotation\"},{\"attributes\":{\"days\":[1,8,15,22]},\"id\":\"3818\",\"type\":\"DaysTicker\"},{\"attributes\":{\"end\":7.9636,\"reset_end\":7.9636,\"reset_start\":3.1484000000000005,\"start\":3.1484000000000005,\"tags\":[[[\"speed\",\"speed\",null]]]},\"id\":\"3754\",\"type\":\"Range1d\"},{\"attributes\":{\"months\":[0,4,8]},\"id\":\"3822\",\"type\":\"MonthsTicker\"},{\"attributes\":{\"line_alpha\":0.2,\"line_color\":\"#30a2da\",\"line_width\":2,\"x\":{\"field\":\"state_time\"},\"y\":{\"field\":\"speed\"}},\"id\":\"3791\",\"type\":\"Line\"},{\"attributes\":{\"coordinates\":null,\"group\":null,\"text\":\"Example interactive plot (speed vs time)\",\"text_color\":\"black\",\"text_font_size\":\"12pt\"},\"id\":\"3757\",\"type\":\"Title\"},{\"attributes\":{},\"id\":\"3800\",\"type\":\"AllLabels\"},{\"attributes\":{\"mantissas\":[1,2,5],\"max_interval\":500.0,\"num_minor_ticks\":0},\"id\":\"3813\",\"type\":\"AdaptiveTicker\"},{\"attributes\":{},\"id\":\"3824\",\"type\":\"YearsTicker\"},{\"attributes\":{\"below\":[{\"id\":\"3765\"}],\"center\":[{\"id\":\"3768\"},{\"id\":\"3772\"}],\"height\":300,\"left\":[{\"id\":\"3769\"}],\"margin\":[5,5,5,5],\"min_border_bottom\":10,\"min_border_left\":10,\"min_border_right\":10,\"min_border_top\":10,\"renderers\":[{\"id\":\"3792\"}],\"sizing_mode\":\"fixed\",\"title\":{\"id\":\"3757\"},\"toolbar\":{\"id\":\"3779\"},\"width\":700,\"x_range\":{\"id\":\"3753\"},\"x_scale\":{\"id\":\"3761\"},\"y_range\":{\"id\":\"3754\"},\"y_scale\":{\"id\":\"3763\"}},\"id\":\"3756\",\"subtype\":\"Figure\",\"type\":\"Plot\"},{\"attributes\":{\"days\":[1,4,7,10,13,16,19,22,25,28]},\"id\":\"3817\",\"type\":\"DaysTicker\"},{\"attributes\":{\"margin\":[5,5,5,5],\"name\":\"HSpacer06158\",\"sizing_mode\":\"stretch_width\"},\"id\":\"3752\",\"type\":\"Spacer\"},{\"attributes\":{\"axis\":{\"id\":\"3769\"},\"coordinates\":null,\"dimension\":1,\"group\":null,\"ticker\":{\"id\":\"3770\"}},\"id\":\"3772\",\"type\":\"Grid\"},{\"attributes\":{\"days\":[1,15]},\"id\":\"3819\",\"type\":\"DaysTicker\"},{\"attributes\":{},\"id\":\"3761\",\"type\":\"LinearScale\"},{\"attributes\":{},\"id\":\"3797\",\"type\":\"AllLabels\"},{\"attributes\":{\"num_minor_ticks\":5,\"tickers\":[{\"id\":\"3813\"},{\"id\":\"3814\"},{\"id\":\"3815\"},{\"id\":\"3816\"},{\"id\":\"3817\"},{\"id\":\"3818\"},{\"id\":\"3819\"},{\"id\":\"3820\"},{\"id\":\"3821\"},{\"id\":\"3822\"},{\"id\":\"3823\"},{\"id\":\"3824\"}]},\"id\":\"3766\",\"type\":\"DatetimeTicker\"},{\"attributes\":{\"axis_label\":\"Speed (m/s)\",\"coordinates\":null,\"formatter\":{\"id\":\"3799\"},\"group\":null,\"major_label_policy\":{\"id\":\"3800\"},\"ticker\":{\"id\":\"3770\"}},\"id\":\"3769\",\"type\":\"LinearAxis\"},{\"attributes\":{\"months\":[0,2,4,6,8,10]},\"id\":\"3821\",\"type\":\"MonthsTicker\"},{\"attributes\":{},\"id\":\"3777\",\"type\":\"ResetTool\"},{\"attributes\":{\"tools\":[{\"id\":\"3755\"},{\"id\":\"3773\"},{\"id\":\"3774\"},{\"id\":\"3775\"},{\"id\":\"3776\"},{\"id\":\"3777\"}]},\"id\":\"3779\",\"type\":\"Toolbar\"},{\"attributes\":{\"data\":{\"speed\":{\"__ndarray__\":\"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\",\"dtype\":\"float64\",\"order\":\"little\",\"shape\":[335]},\"state_time\":{\"__ndarray__\":\"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\",\"dtype\":\"float64\",\"order\":\"little\",\"shape\":[335]}},\"selected\":{\"id\":\"3787\"},\"selection_policy\":{\"id\":\"3810\"}},\"id\":\"3786\",\"type\":\"ColumnDataSource\"},{\"attributes\":{\"base\":60,\"mantissas\":[1,2,5,10,15,20,30],\"max_interval\":1800000.0,\"min_interval\":1000.0,\"num_minor_ticks\":0},\"id\":\"3814\",\"type\":\"AdaptiveTicker\"},{\"attributes\":{},\"id\":\"3775\",\"type\":\"WheelZoomTool\"},{\"attributes\":{\"line_color\":\"#30a2da\",\"line_width\":2,\"x\":{\"field\":\"state_time\"},\"y\":{\"field\":\"speed\"}},\"id\":\"3789\",\"type\":\"Line\"},{\"attributes\":{},\"id\":\"3763\",\"type\":\"LinearScale\"},{\"attributes\":{\"axis\":{\"id\":\"3765\"},\"coordinates\":null,\"group\":null,\"ticker\":{\"id\":\"3766\"}},\"id\":\"3768\",\"type\":\"Grid\"},{\"attributes\":{},\"id\":\"3770\",\"type\":\"BasicTicker\"},{\"attributes\":{},\"id\":\"3773\",\"type\":\"SaveTool\"},{\"attributes\":{\"axis_label\":\"Time\",\"coordinates\":null,\"formatter\":{\"id\":\"3796\"},\"group\":null,\"major_label_policy\":{\"id\":\"3797\"},\"ticker\":{\"id\":\"3766\"}},\"id\":\"3765\",\"type\":\"DatetimeAxis\"},{\"attributes\":{},\"id\":\"3796\",\"type\":\"DatetimeTickFormatter\"},{\"attributes\":{},\"id\":\"3774\",\"type\":\"PanTool\"},{\"attributes\":{\"overlay\":{\"id\":\"3778\"}},\"id\":\"3776\",\"type\":\"BoxZoomTool\"},{\"attributes\":{\"months\":[0,6]},\"id\":\"3823\",\"type\":\"MonthsTicker\"},{\"attributes\":{},\"id\":\"3787\",\"type\":\"Selection\"},{\"attributes\":{\"coordinates\":null,\"data_source\":{\"id\":\"3786\"},\"glyph\":{\"id\":\"3789\"},\"group\":null,\"hover_glyph\":null,\"muted_glyph\":{\"id\":\"3791\"},\"nonselection_glyph\":{\"id\":\"3790\"},\"selection_glyph\":{\"id\":\"3794\"},\"view\":{\"id\":\"3793\"}},\"id\":\"3792\",\"type\":\"GlyphRenderer\"}],\"root_ids\":[\"3751\"]},\"title\":\"Bokeh Application\",\"version\":\"2.4.2\"}};\n",
       "    var render_items = [{\"docid\":\"649ff85a-25eb-4ce8-9683-f2edac17f20a\",\"root_ids\":[\"3751\"],\"roots\":{\"3751\":\"c497b450-f9e0-4134-952b-c7c09810d6cd\"}}];\n",
       "    root.Bokeh.embed.embed_items_notebook(docs_json, render_items);\n",
       "  }\n",
       "  if (root.Bokeh !== undefined && root.Bokeh.Panel !== undefined) {\n",
       "    embed_document(root);\n",
       "  } else {\n",
       "    var attempts = 0;\n",
       "    var timer = setInterval(function(root) {\n",
       "      if (root.Bokeh !== undefined && root.Bokeh.Panel !== undefined) {\n",
       "        clearInterval(timer);\n",
       "        embed_document(root);\n",
       "      } else if (document.readyState == \"complete\") {\n",
       "        attempts++;\n",
       "        if (attempts > 200) {\n",
       "          clearInterval(timer);\n",
       "          console.log(\"Bokeh: ERROR: Unable to run BokehJS code because BokehJS library is missing\");\n",
       "        }\n",
       "      }\n",
       "    }, 25, root)\n",
       "  }\n",
       "})(window);</script>"
      ],
      "text/plain": [
       ":Curve   [state_time]   (speed)"
      ]
     },
     "execution_count": 38,
     "metadata": {
      "application/vnd.holoviews_exec.v0+json": {
       "id": "3751"
      }
     },
     "output_type": "execute_result"
    }
   ],
   "source": [
    "data.speed.plot(kind='line', y='speed',\n",
    "                label=\"Raw speed\",\n",
    "                grid=True,\n",
    "                title=\"Example interactive plot (speed vs time)\", xlabel=\"Time\", ylabel=\"Speed (m/s)\")"
   ]
  },
  {
   "cell_type": "markdown",
   "id": "a71118c2",
   "metadata": {},
   "source": [
    "## Scatter plot of attributes"
   ]
  },
  {
   "cell_type": "code",
   "execution_count": 45,
   "id": "050aa202",
   "metadata": {},
   "outputs": [],
   "source": [
    "data.course = np.rad2deg(data.course)"
   ]
  },
  {
   "cell_type": "code",
   "execution_count": 49,
   "id": "87f40ba1",
   "metadata": {},
   "outputs": [
    {
     "data": {},
     "metadata": {},
     "output_type": "display_data"
    },
    {
     "data": {
      "application/vnd.holoviews_exec.v0+json": "",
      "text/html": [
       "<div id='4571'>\n",
       "\n",
       "\n",
       "\n",
       "\n",
       "\n",
       "  <div class=\"bk-root\" id=\"da5b5e5f-b692-426a-9856-3c875e4851ad\" data-root-id=\"4571\"></div>\n",
       "</div>\n",
       "<script type=\"application/javascript\">(function(root) {\n",
       "  function embed_document(root) {\n",
       "    var docs_json = {\"6b0731f4-eb86-45a2-aa2e-f94bfac67991\":{\"defs\":[{\"extends\":null,\"module\":null,\"name\":\"ReactiveHTML1\",\"overrides\":[],\"properties\":[]},{\"extends\":null,\"module\":null,\"name\":\"FlexBox1\",\"overrides\":[],\"properties\":[{\"default\":\"flex-start\",\"kind\":null,\"name\":\"align_content\"},{\"default\":\"flex-start\",\"kind\":null,\"name\":\"align_items\"},{\"default\":\"row\",\"kind\":null,\"name\":\"flex_direction\"},{\"default\":\"wrap\",\"kind\":null,\"name\":\"flex_wrap\"},{\"default\":\"flex-start\",\"kind\":null,\"name\":\"justify_content\"}]},{\"extends\":null,\"module\":null,\"name\":\"TemplateActions1\",\"overrides\":[],\"properties\":[{\"default\":0,\"kind\":null,\"name\":\"open_modal\"},{\"default\":0,\"kind\":null,\"name\":\"close_modal\"}]},{\"extends\":null,\"module\":null,\"name\":\"MaterialTemplateActions1\",\"overrides\":[],\"properties\":[{\"default\":0,\"kind\":null,\"name\":\"open_modal\"},{\"default\":0,\"kind\":null,\"name\":\"close_modal\"}]}],\"roots\":{\"references\":[{\"attributes\":{},\"id\":\"4607\",\"type\":\"Selection\"},{\"attributes\":{\"coordinates\":null,\"data_source\":{\"id\":\"4606\"},\"glyph\":{\"id\":\"4609\"},\"group\":null,\"hover_glyph\":null,\"muted_glyph\":{\"id\":\"4611\"},\"nonselection_glyph\":{\"id\":\"4610\"},\"selection_glyph\":{\"id\":\"4614\"},\"view\":{\"id\":\"4613\"}},\"id\":\"4612\",\"type\":\"GlyphRenderer\"},{\"attributes\":{},\"id\":\"4619\",\"type\":\"BasicTickFormatter\"},{\"attributes\":{},\"id\":\"4581\",\"type\":\"LinearScale\"},{\"attributes\":{\"coordinates\":null,\"group\":null,\"text\":\"Example scatter plot - course vs speed\",\"text_color\":\"black\",\"text_font_size\":\"12pt\"},\"id\":\"4577\",\"type\":\"Title\"},{\"attributes\":{\"margin\":[5,5,5,5],\"name\":\"HSpacer07316\",\"sizing_mode\":\"stretch_width\"},\"id\":\"4572\",\"type\":\"Spacer\"},{\"attributes\":{},\"id\":\"4586\",\"type\":\"BasicTicker\"},{\"attributes\":{\"children\":[{\"id\":\"4572\"},{\"id\":\"4576\"},{\"id\":\"4643\"}],\"margin\":[0,0,0,0],\"name\":\"Row07312\",\"tags\":[\"embedded\"]},\"id\":\"4571\",\"type\":\"Row\"},{\"attributes\":{\"callback\":null,\"renderers\":[{\"id\":\"4612\"}],\"tags\":[\"hv_created\"],\"tooltips\":[[\"course\",\"@{course}\"],[\"speed\",\"@{speed}\"]]},\"id\":\"4575\",\"type\":\"HoverTool\"},{\"attributes\":{\"axis\":{\"id\":\"4585\"},\"coordinates\":null,\"group\":null,\"ticker\":{\"id\":\"4586\"}},\"id\":\"4588\",\"type\":\"Grid\"},{\"attributes\":{\"axis\":{\"id\":\"4589\"},\"coordinates\":null,\"dimension\":1,\"group\":null,\"ticker\":{\"id\":\"4590\"}},\"id\":\"4592\",\"type\":\"Grid\"},{\"attributes\":{\"below\":[{\"id\":\"4585\"}],\"center\":[{\"id\":\"4588\"},{\"id\":\"4592\"}],\"height\":300,\"left\":[{\"id\":\"4589\"}],\"margin\":[5,5,5,5],\"min_border_bottom\":10,\"min_border_left\":10,\"min_border_right\":10,\"min_border_top\":10,\"renderers\":[{\"id\":\"4612\"}],\"sizing_mode\":\"fixed\",\"title\":{\"id\":\"4577\"},\"toolbar\":{\"id\":\"4599\"},\"width\":700,\"x_range\":{\"id\":\"4573\"},\"x_scale\":{\"id\":\"4581\"},\"y_range\":{\"id\":\"4574\"},\"y_scale\":{\"id\":\"4583\"}},\"id\":\"4576\",\"subtype\":\"Figure\",\"type\":\"Plot\"},{\"attributes\":{},\"id\":\"4583\",\"type\":\"LinearScale\"},{\"attributes\":{\"tools\":[{\"id\":\"4575\"},{\"id\":\"4593\"},{\"id\":\"4594\"},{\"id\":\"4595\"},{\"id\":\"4596\"},{\"id\":\"4597\"}]},\"id\":\"4599\",\"type\":\"Toolbar\"},{\"attributes\":{\"fill_alpha\":{\"value\":0.1},\"fill_color\":{\"value\":\"#30a2da\"},\"hatch_alpha\":{\"value\":0.1},\"hatch_color\":{\"value\":\"#30a2da\"},\"line_alpha\":{\"value\":0.1},\"line_color\":{\"value\":\"#30a2da\"},\"size\":{\"value\":5.477225575051661},\"x\":{\"field\":\"course\"},\"y\":{\"field\":\"speed\"}},\"id\":\"4610\",\"type\":\"Scatter\"},{\"attributes\":{\"axis_label\":\"Course (degrees)\",\"coordinates\":null,\"formatter\":{\"id\":\"4616\"},\"group\":null,\"major_label_policy\":{\"id\":\"4617\"},\"ticker\":{\"id\":\"4586\"}},\"id\":\"4585\",\"type\":\"LinearAxis\"},{\"attributes\":{},\"id\":\"4620\",\"type\":\"AllLabels\"},{\"attributes\":{},\"id\":\"4617\",\"type\":\"AllLabels\"},{\"attributes\":{},\"id\":\"4630\",\"type\":\"UnionRenderers\"},{\"attributes\":{},\"id\":\"4594\",\"type\":\"PanTool\"},{\"attributes\":{\"axis_label\":\"Speed (m/s)\",\"coordinates\":null,\"formatter\":{\"id\":\"4619\"},\"group\":null,\"major_label_policy\":{\"id\":\"4620\"},\"ticker\":{\"id\":\"4590\"}},\"id\":\"4589\",\"type\":\"LinearAxis\"},{\"attributes\":{\"data\":{\"course\":{\"__ndarray__\":\"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\",\"dtype\":\"float64\",\"order\":\"little\",\"shape\":[669]},\"speed\":{\"__ndarray__\":\"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\",\"dtype\":\"float64\",\"order\":\"little\",\"shape\":[669]}},\"selected\":{\"id\":\"4607\"},\"selection_policy\":{\"id\":\"4630\"}},\"id\":\"4606\",\"type\":\"ColumnDataSource\"},{\"attributes\":{},\"id\":\"4590\",\"type\":\"BasicTicker\"},{\"attributes\":{\"fill_color\":{\"value\":\"#30a2da\"},\"hatch_color\":{\"value\":\"#30a2da\"},\"line_color\":{\"value\":\"#30a2da\"},\"size\":{\"value\":5.477225575051661},\"x\":{\"field\":\"course\"},\"y\":{\"field\":\"speed\"}},\"id\":\"4609\",\"type\":\"Scatter\"},{\"attributes\":{},\"id\":\"4595\",\"type\":\"WheelZoomTool\"},{\"attributes\":{},\"id\":\"4593\",\"type\":\"SaveTool\"},{\"attributes\":{},\"id\":\"4616\",\"type\":\"BasicTickFormatter\"},{\"attributes\":{\"source\":{\"id\":\"4606\"}},\"id\":\"4613\",\"type\":\"CDSView\"},{\"attributes\":{\"overlay\":{\"id\":\"4598\"}},\"id\":\"4596\",\"type\":\"BoxZoomTool\"},{\"attributes\":{\"angle\":{\"value\":0.0},\"fill_alpha\":{\"value\":1.0},\"fill_color\":{\"value\":\"#30a2da\"},\"hatch_alpha\":{\"value\":1.0},\"hatch_color\":{\"value\":\"#30a2da\"},\"hatch_scale\":{\"value\":12.0},\"hatch_weight\":{\"value\":1.0},\"line_alpha\":{\"value\":1.0},\"line_cap\":{\"value\":\"butt\"},\"line_color\":{\"value\":\"#30a2da\"},\"line_dash\":{\"value\":[]},\"line_dash_offset\":{\"value\":0},\"line_join\":{\"value\":\"bevel\"},\"line_width\":{\"value\":1},\"marker\":{\"value\":\"circle\"},\"size\":{\"value\":5.477225575051661},\"x\":{\"field\":\"course\"},\"y\":{\"field\":\"speed\"}},\"id\":\"4614\",\"type\":\"Scatter\"},{\"attributes\":{},\"id\":\"4597\",\"type\":\"ResetTool\"},{\"attributes\":{\"fill_alpha\":{\"value\":0.2},\"fill_color\":{\"value\":\"#30a2da\"},\"hatch_alpha\":{\"value\":0.2},\"hatch_color\":{\"value\":\"#30a2da\"},\"line_alpha\":{\"value\":0.2},\"line_color\":{\"value\":\"#30a2da\"},\"size\":{\"value\":5.477225575051661},\"x\":{\"field\":\"course\"},\"y\":{\"field\":\"speed\"}},\"id\":\"4611\",\"type\":\"Scatter\"},{\"attributes\":{\"margin\":[5,5,5,5],\"name\":\"HSpacer07317\",\"sizing_mode\":\"stretch_width\"},\"id\":\"4643\",\"type\":\"Spacer\"},{\"attributes\":{\"bottom_units\":\"screen\",\"coordinates\":null,\"fill_alpha\":0.5,\"fill_color\":\"lightgrey\",\"group\":null,\"left_units\":\"screen\",\"level\":\"overlay\",\"line_alpha\":1.0,\"line_color\":\"black\",\"line_dash\":[4,4],\"line_width\":2,\"right_units\":\"screen\",\"syncable\":false,\"top_units\":\"screen\"},\"id\":\"4598\",\"type\":\"BoxAnnotation\"},{\"attributes\":{\"end\":7.9636,\"reset_end\":7.9636,\"reset_start\":3.1484000000000005,\"start\":3.1484000000000005,\"tags\":[[[\"speed\",\"speed\",null]]]},\"id\":\"4574\",\"type\":\"Range1d\"},{\"attributes\":{\"end\":246.47142857142856,\"reset_end\":246.47142857142856,\"reset_start\":97.72857142857143,\"start\":97.72857142857143,\"tags\":[[[\"course\",\"course\",null]]]},\"id\":\"4573\",\"type\":\"Range1d\"}],\"root_ids\":[\"4571\"]},\"title\":\"Bokeh Application\",\"version\":\"2.4.2\"}};\n",
       "    var render_items = [{\"docid\":\"6b0731f4-eb86-45a2-aa2e-f94bfac67991\",\"root_ids\":[\"4571\"],\"roots\":{\"4571\":\"da5b5e5f-b692-426a-9856-3c875e4851ad\"}}];\n",
       "    root.Bokeh.embed.embed_items_notebook(docs_json, render_items);\n",
       "  }\n",
       "  if (root.Bokeh !== undefined && root.Bokeh.Panel !== undefined) {\n",
       "    embed_document(root);\n",
       "  } else {\n",
       "    var attempts = 0;\n",
       "    var timer = setInterval(function(root) {\n",
       "      if (root.Bokeh !== undefined && root.Bokeh.Panel !== undefined) {\n",
       "        clearInterval(timer);\n",
       "        embed_document(root);\n",
       "      } else if (document.readyState == \"complete\") {\n",
       "        attempts++;\n",
       "        if (attempts > 200) {\n",
       "          clearInterval(timer);\n",
       "          console.log(\"Bokeh: ERROR: Unable to run BokehJS code because BokehJS library is missing\");\n",
       "        }\n",
       "      }\n",
       "    }, 25, root)\n",
       "  }\n",
       "})(window);</script>"
      ],
      "text/plain": [
       ":Scatter   [course]   (speed)"
      ]
     },
     "execution_count": 49,
     "metadata": {
      "application/vnd.holoviews_exec.v0+json": {
       "id": "4571"
      }
     },
     "output_type": "execute_result"
    }
   ],
   "source": [
    "data.plot.scatter(x='course', y='speed',\n",
    "                  xlabel=\"Course (degrees)\", ylabel=\"Speed (m/s)\",\n",
    "                  title=\"Example scatter plot - course vs speed\",\n",
    "                  grid=True)"
   ]
  }
 ],
 "metadata": {
  "kernelspec": {
   "display_name": "Python 3 (ipykernel)",
   "language": "python",
   "name": "python3"
  },
  "language_info": {
   "codemirror_mode": {
    "name": "ipython",
    "version": 3
   },
   "file_extension": ".py",
   "mimetype": "text/x-python",
   "name": "python",
   "nbconvert_exporter": "python",
   "pygments_lexer": "ipython3",
   "version": "3.8.12"
  }
 },
 "nbformat": 4,
 "nbformat_minor": 5
}
