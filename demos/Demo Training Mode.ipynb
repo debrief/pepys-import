{
 "cells": [
  {
   "cell_type": "markdown",
   "metadata": {},
   "source": [
    "# Training mode demo\n",
    "This notebook shows demos of the new training mode in Pepys.\n",
    "\n",
    "You must run the cell below to set things up. Then select any relevant cell and run it to try that part of Pepys."
   ]
  },
  {
   "cell_type": "code",
   "execution_count": null,
   "metadata": {},
   "outputs": [],
   "source": [
    "import os\n",
    "%reload_ext notebook_xterm\n",
    "if os.path.basename(os.getcwd()) == 'demos':\n",
    "    os.chdir(\"..\")\n",
    "try:\n",
    "    del os.environ['PEPYS_CONFIG_FILE']\n",
    "except KeyError:\n",
    "    pass\n",
    "print(f'Current path {os.getcwd()}')\n",
    "print('Set up complete')"
   ]
  },
  {
   "cell_type": "markdown",
   "metadata": {},
   "source": [
    "## Pepys Import in training mode"
   ]
  },
  {
   "cell_type": "markdown",
   "metadata": {},
   "source": [
    "This demonstrates Pepys Import running in training mode. A question is asked at the beginning and the end about whether to reset the training database."
   ]
  },
  {
   "cell_type": "code",
   "execution_count": null,
   "metadata": {
    "scrolled": true
   },
   "outputs": [],
   "source": [
    "%xterm python -m pepys_import.cli --path tests/sample_data/track_files/rep_data/rep_test1.rep --training"
   ]
  },
  {
   "cell_type": "markdown",
   "metadata": {},
   "source": [
    "## Pepys Admin in training mode"
   ]
  },
  {
   "cell_type": "markdown",
   "metadata": {},
   "source": [
    "This runs Pepys Admin in training mode"
   ]
  },
  {
   "cell_type": "code",
   "execution_count": null,
   "metadata": {},
   "outputs": [],
   "source": [
    "%xterm python -m pepys_admin.cli --training"
   ]
  },
  {
   "cell_type": "code",
   "execution_count": null,
   "metadata": {},
   "outputs": [],
   "source": []
  }
 ],
 "metadata": {
  "hide_input": false,
  "kernelspec": {
   "display_name": "Python 3",
   "language": "python",
   "name": "python3"
  },
  "language_info": {
   "codemirror_mode": {
    "name": "ipython",
    "version": 3
   },
   "file_extension": ".py",
   "mimetype": "text/x-python",
   "name": "python",
   "nbconvert_exporter": "python",
   "pygments_lexer": "ipython3",
   "version": "3.7.8"
  }
 },
 "nbformat": 4,
 "nbformat_minor": 4
}
