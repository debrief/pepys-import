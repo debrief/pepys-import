{
 "cells": [
  {
   "cell_type": "markdown",
   "metadata": {},
   "source": [
    "## Demonstration of loading data, using no resolver\n",
    "\n",
    "#### Add the path of modules of the project to sys"
   ]
  },
  {
   "cell_type": "code",
   "execution_count": 1,
   "metadata": {
    "pycharm": {
     "is_executing": false
    }
   },
   "outputs": [],
   "source": [
    "import os\n",
    "import sys\n",
    "\n",
    "module_path = os.path.abspath(os.path.join('../../'))\n",
    "if module_path not in sys.path:\n",
    "    sys.path.append(module_path)"
   ]
  },
  {
   "cell_type": "markdown",
   "metadata": {
    "collapsed": true,
    "pycharm": {
     "is_executing": false
    }
   },
   "source": [
    "#### Import necessary libraries"
   ]
  },
  {
   "cell_type": "code",
   "execution_count": 2,
   "metadata": {},
   "outputs": [],
   "source": [
    "import pathlib\n",
    "\n",
    "from pepys_import.core.formats.repl_file import REPFile\n",
    "from pepys_import.core.store.data_store import DataStore\n",
    "from pepys_import.core.store.table_summary import TableSummary, TableSummarySet\n",
    "from pepys_import.utils.unit_utils import convert_speed, convert_heading"
   ]
  },
  {
   "cell_type": "markdown",
   "metadata": {},
   "source": [
    "#### Declaring global variables"
   ]
  },
  {
   "cell_type": "code",
   "execution_count": 3,
   "metadata": {},
   "outputs": [
    {
     "name": "stdout",
     "output_type": "stream",
     "text": [
      "______                      _                            _   \n",
      "| ___ \\                    (_)                          | |  \n",
      "| |_/ /__ _ __  _   _ ___   _ _ __ ___  _ __   ___  _ __| |_ \n",
      "|  __/ _ \\ '_ \\| | | / __| | | '_ ` _ \\| '_ \\ / _ \\| '__| __|\n",
      "| | |  __/ |_) | |_| \\__ \\ | | | | | | | |_) | (_) | |  | |_ \n",
      "\\_|  \\___| .__/ \\__, |___/ |_|_| |_| |_| .__/ \\___/|_|   \\__|\n",
      "         | |     __/ | ______          | |                   \n",
      "         |_|    |___/ |______|         |_|                   \n",
      "\n",
      "Software Version :  0.0.4 \n",
      "\n",
      "\n",
      "Database Type :  sqlite\n",
      "Database Name :  :memory:\n",
      "Database Host :  \n",
      "-------------------------------------------------------------\n"
     ]
    }
   ],
   "source": [
    "RESOURCES_PATH = os.path.join('..', 'repl_files')\n",
    "\n",
    "data_store = DataStore(\"\", \"\", \"\", 0, \":memory:\", db_type='sqlite')\n",
    "data_store.initialise()\n",
    "file_path = os.path.join(RESOURCES_PATH, \"missing_platform.rep\")\n",
    "rep_file = REPFile(str(file_path))"
   ]
  },
  {
   "cell_type": "code",
   "execution_count": 4,
   "metadata": {
    "pycharm": {
     "is_executing": false
    }
   },
   "outputs": [
    {
     "name": "stdout",
     "output_type": "stream",
     "text": [
      "'../repl_files/missing_platform.rep' added to Datafile!\n",
      "'SUBJECT' added to Platform!\n",
      "'IAMMISSING' added to Platform!\n",
      "| Table name   |   Number of rows | Last item added            |\n",
      "|--------------|------------------|----------------------------|\n",
      "| States       |                7 | 2020-03-02 07:43:40.873610 |\n",
      "| Platforms    |                2 | 2020-03-02 07:43:40.864568 |\n",
      "\n"
     ]
    }
   ],
   "source": [
    "with data_store.session_scope():\n",
    "    privacy = data_store.add_to_privacies(\"PRIVACY-1\")\n",
    "    datafile = data_store.get_datafile(rep_file.filepath, rep_file.datafile_type)\n",
    "    for line_number, rep_line in enumerate(rep_file.lines, 1):\n",
    "        platform = data_store.get_platform(rep_line.get_platform(),\"Fisher\", \"UK\", \"PRIVACY-1\")\n",
    "        sensor = platform.get_sensor(data_store=data_store, sensor_name=\"GPS\")\n",
    "        state = datafile.create_state(sensor, rep_line.timestamp)\n",
    "        speed = convert_speed(rep_line.speed, line_number)\n",
    "        state.speed = speed\n",
    "        heading = convert_heading(rep_line.heading, line_number)\n",
    "        state.heading = heading\n",
    "        state.location = rep_line.get_location()\n",
    "        state.privacy = privacy.privacy_id\n",
    "        \n",
    "    if datafile.validate():\n",
    "        datafile.commit(data_store.session)\n",
    "        \n",
    "    states_sum = TableSummary(data_store.session, data_store.db_classes.State)\n",
    "    platforms_sum = TableSummary(\n",
    "        data_store.session, data_store.db_classes.Platform\n",
    "    )\n",
    "    first_table_summary_set = TableSummarySet([states_sum, platforms_sum])\n",
    "    print(first_table_summary_set.report())"
   ]
  },
  {
   "cell_type": "code",
   "execution_count": null,
   "metadata": {},
   "outputs": [],
   "source": []
  }
 ],
 "metadata": {
  "kernelspec": {
   "display_name": "Python 3",
   "language": "python",
   "name": "python3"
  },
  "language_info": {
   "codemirror_mode": {
    "name": "ipython",
    "version": 3
   },
   "file_extension": ".py",
   "mimetype": "text/x-python",
   "name": "python",
   "nbconvert_exporter": "python",
   "pygments_lexer": "ipython3",
   "version": "3.8.1"
  },
  "pycharm": {
   "stem_cell": {
    "cell_type": "raw",
    "metadata": {
     "collapsed": false
    },
    "source": []
   }
  }
 },
 "nbformat": 4,
 "nbformat_minor": 1
}
