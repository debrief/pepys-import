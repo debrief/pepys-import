{
 "cells": [
  {
   "cell_type": "markdown",
   "metadata": {},
   "source": [
    "## Demonstration of loading data, using no resolver\n",
    "\n",
    "#### Add the path of modules of the project to sys"
   ]
  },
  {
   "cell_type": "code",
   "execution_count": 2,
   "metadata": {
    "pycharm": {
     "is_executing": false
    }
   },
   "outputs": [],
   "source": [
    "import os\n",
    "import sys\n",
    "\n",
    "module_path = os.path.abspath(os.path.join('../../'))\n",
    "if module_path not in sys.path:\n",
    "    sys.path.append(module_path)"
   ]
  },
  {
   "cell_type": "markdown",
   "metadata": {
    "collapsed": true,
    "pycharm": {
     "is_executing": false
    }
   },
   "source": [
    "#### Import necessary libraries"
   ]
  },
  {
   "cell_type": "code",
   "execution_count": 3,
   "metadata": {},
   "outputs": [],
   "source": [
    "import pathlib\n",
    "\n",
    "from pepys_import.core.formats.repl_file import REPFile\n",
    "from pepys_import.core.store.data_store import DataStore\n",
    "from pepys_import.core.store.db_status import DBStatus, TableTypes\n"
   ]
  },
  {
   "cell_type": "markdown",
   "metadata": {},
   "source": [
    "#### Declaring global variables"
   ]
  },
  {
   "cell_type": "code",
   "execution_count": 4,
   "metadata": {},
   "outputs": [
    {
     "name": "stdout",
     "output_type": "stream",
     "text": [
      "______                      _                            _   \n",
      "| ___ \\                    (_)                          | |  \n",
      "| |_/ /__ _ __  _   _ ___   _ _ __ ___  _ __   ___  _ __| |_ \n",
      "|  __/ _ \\ '_ \\| | | / __| | | '_ ` _ \\| '_ \\ / _ \\| '__| __|\n",
      "| | |  __/ |_) | |_| \\__ \\ | | | | | | | |_) | (_) | |  | |_ \n",
      "\\_|  \\___| .__/ \\__, |___/ |_|_| |_| |_| .__/ \\___/|_|   \\__|\n",
      "         | |     __/ | ______          | |                   \n",
      "         |_|    |___/ |______|         |_|                   \n",
      "\n",
      "Software Version :  0.0.2 \n",
      "\n",
      "\n",
      "Database Type :  sqlite\n",
      "Database Name :  :memory:\n",
      "Database Host :  \n",
      "---------------------------------\n"
     ]
    }
   ],
   "source": [
    "RESOURCES_PATH = os.path.join('..', 'repl_files')\n",
    "\n",
    "data_store = DataStore(\"\", \"\", \"\", 0, \":memory:\", db_type='sqlite')\n",
    "data_store.initialise()\n",
    "file_path = os.path.join(RESOURCES_PATH, \"missing_platform.rep\")\n",
    "rep = REPFile(str(file_path))\n",
    "\n",
    "db_status = DBStatus(data_store, [TableTypes.METADATA, TableTypes.REFERENCE])\n"
   ]
  },
  {
   "cell_type": "code",
   "execution_count": 5,
   "metadata": {},
   "outputs": [
    {
     "name": "stdout",
     "output_type": "stream",
     "text": [
      "Table         Num  Diff\n",
      "Entry         11   -   \n",
      "TableType     4    -   \n",
      "Sensor        1    -   \n",
      "Platform      2    -   \n",
      "Datafile      1    -   \n",
      "SensorType    1    -   \n",
      "PlatformType  1    -   \n",
      "DatafileType  1    -   \n",
      "Nationality   1    -   \n",
      "Privacy       2    -   \n"
     ]
    }
   ],
   "source": [
    "with data_store.session_scope() as session:\n",
    "    datafile = session.add_to_datafile_from_rep(rep.filepath, rep.datafile_type)\n",
    "    for rep_line in rep.lines:\n",
    "        platform = session.add_to_platforms_from_rep(rep_line.get_platform(),\"Fisher\", \"UK\", \"Public\")\n",
    "        sensor = session.add_to_sensors_from_rep(\"GPS\", platform)\n",
    "        session.add_to_states_from_rep(rep_line.get_timestamp(), datafile, sensor, rep_line.get_latitude(), rep_line.get_longitude(), rep_line.get_heading(), rep_line.get_speed())\n",
    "    \n",
    "    # summarise changes\n",
    "    db_status.get_status()\n",
    "\n",
    "    # output a summary of changes\n",
    "    db_status.print_status()"
   ]
  },
  {
   "cell_type": "code",
   "execution_count": null,
   "metadata": {},
   "outputs": [],
   "source": []
  }
 ],
 "metadata": {
  "kernelspec": {
   "display_name": "Python 3",
   "language": "python",
   "name": "python3"
  },
  "language_info": {
   "codemirror_mode": {
    "name": "ipython",
    "version": 3
   },
   "file_extension": ".py",
   "mimetype": "text/x-python",
   "name": "python",
   "nbconvert_exporter": "python",
   "pygments_lexer": "ipython3",
   "version": "3.7.4"
  },
  "pycharm": {
   "stem_cell": {
    "cell_type": "raw",
    "metadata": {
     "collapsed": false
    },
    "source": []
   }
  }
 },
 "nbformat": 4,
 "nbformat_minor": 1
}
