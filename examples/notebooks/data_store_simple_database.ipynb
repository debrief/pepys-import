{
 "cells": [
  {
   "cell_type": "markdown",
   "metadata": {},
   "source": [
    "## Demonstration of loading data, using no resolver\n",
    "\n",
    "#### Add the path of modules of the project to sys"
   ]
  },
  {
   "cell_type": "code",
   "execution_count": 1,
   "metadata": {
    "pycharm": {
     "is_executing": false
    }
   },
   "outputs": [],
   "source": [
    "import os\n",
    "import sys\n",
    "import pathlib\n",
    "\n",
    "module_path = os.path.abspath(os.path.join('../../'))\n",
    "if module_path not in sys.path:\n",
    "    sys.path.append(module_path) \n",
    "\n",
    "from datetime import datetime\n",
    "    \n",
    "from pepys_import.core.debug.support_methods import list_all\n",
    "from pepys_import.core.store.data_store import DataStore\n",
    "from pepys_import.utils.unit_utils import convert_heading, convert_speed"
   ]
  },
  {
   "cell_type": "markdown",
   "metadata": {
    "collapsed": true,
    "pycharm": {
     "is_executing": false
    }
   },
   "source": [
    "#### Import necessary libraries"
   ]
  },
  {
   "cell_type": "markdown",
   "metadata": {},
   "source": [
    "#### Declaring global variables"
   ]
  },
  {
   "cell_type": "code",
   "execution_count": 2,
   "metadata": {
    "pycharm": {
     "is_executing": false
    }
   },
   "outputs": [
    {
     "name": "stdout",
     "output_type": "stream",
     "text": [
      "______                      _                            _   \n",
      "| ___ \\                    (_)                          | |  \n",
      "| |_/ /__ _ __  _   _ ___   _ _ __ ___  _ __   ___  _ __| |_ \n",
      "|  __/ _ \\ '_ \\| | | / __| | | '_ ` _ \\| '_ \\ / _ \\| '__| __|\n",
      "| | |  __/ |_) | |_| \\__ \\ | | | | | | | |_) | (_) | |  | |_ \n",
      "\\_|  \\___| .__/ \\__, |___/ |_|_| |_| |_| .__/ \\___/|_|   \\__|\n",
      "         | |     __/ | ______          | |                   \n",
      "         |_|    |___/ |______|         |_|                   \n",
      "\n",
      "Software Version :  0.0.4 \n",
      "\n",
      "\n",
      "Database Type :  sqlite\n",
      "Database Name :  :memory:\n",
      "Database Host :  \n",
      "-------------------------------------------------------------\n"
     ]
    }
   ],
   "source": [
    "RESOURCES_PATH = os.path.join('..', 'repl_files')\n",
    "\n",
    "data_store = DataStore(\"\", \"\", \"\", 0, \":memory:\", db_type='sqlite')\n",
    "data_store.initialise()"
   ]
  },
  {
   "cell_type": "markdown",
   "metadata": {},
   "source": [
    "Ok, we have an initialised database.  Now let's add some metadata"
   ]
  },
  {
   "cell_type": "code",
   "execution_count": 3,
   "metadata": {},
   "outputs": [
    {
     "name": "stdout",
     "output_type": "stream",
     "text": [
      "'Input_file.rep' added to Datafile!\n",
      "'NELSON' added to Platform!\n",
      "Datafiles\n",
      "  Id  Reference\n",
      "----  --------------\n",
      "   3  Input_file.rep\n",
      "\n",
      "Nationalities\n",
      "  Id  Name\n",
      "----  ------\n",
      "   5  UK\n",
      "\n",
      "Platform-Types\n",
      "  Id  Name\n",
      "----  -------\n",
      "   4  Warship\n",
      "\n",
      "Platforms\n",
      "  Id  Name      Platform-Type    Nationality\n",
      "----  ------  ---------------  -------------\n",
      "   6  NELSON                4              5\n",
      "\n",
      "Sensors\n",
      "  Id  Name      Sensor-Type    Platform-id\n",
      "----  ------  -------------  -------------\n",
      "   7  GPS                 1              6\n",
      "\n",
      "States:\n",
      "Id    Time    Sensor    Location    heading    Speed    datafile    privacy\n",
      "----  ------  --------  ----------  ---------  -------  ----------  ---------\n",
      "\n"
     ]
    }
   ],
   "source": [
    "with data_store.session_scope():\n",
    "    datafile = data_store.get_datafile(\"Input_file.rep\", \"REP\")\n",
    "    platform = data_store.get_platform(\"NELSON\",\"Fisher\", \"UK\", \"Public\")\n",
    "    sensor = platform.get_sensor(data_store, \"GPS\")\n",
    "    \n",
    "    data_store.session.expunge(datafile)\n",
    "    data_store.session.expunge(sensor)\n",
    "    \n",
    "    list_all(data_store)"
   ]
  },
  {
   "cell_type": "code",
   "execution_count": 4,
   "metadata": {},
   "outputs": [
    {
     "name": "stdout",
     "output_type": "stream",
     "text": [
      "Datafiles\n",
      "  Id  Reference\n",
      "----  --------------\n",
      "   3  Input_file.rep\n",
      "\n",
      "Nationalities\n",
      "  Id  Name\n",
      "----  ------\n",
      "   5  UK\n",
      "\n",
      "Platform-Types\n",
      "  Id  Name\n",
      "----  -------\n",
      "   4  Warship\n",
      "\n",
      "Platforms\n",
      "  Id  Name      Platform-Type    Nationality\n",
      "----  ------  ---------------  -------------\n",
      "   6  NELSON                4              5\n",
      "\n",
      "Sensors\n",
      "  Id  Name      Sensor-Type    Platform-id\n",
      "----  ------  -------------  -------------\n",
      "   7  GPS                 1              6\n",
      "\n",
      "States:\n",
      "  Id  Time                          Sensor  Location      heading    Speed    datafile  privacy\n",
      "----  --------------------------  --------  ----------  ---------  -------  ----------  ---------\n",
      "   1  2020-03-02 06:42:30.148280         7                2.51327  16.9767           3\n",
      "\n"
     ]
    }
   ],
   "source": [
    "timestamp = datetime.utcnow()\n",
    "with data_store.session_scope():\n",
    "    state = datafile.create_state(sensor, timestamp)    \n",
    "\n",
    "    speed = convert_speed(33.0, 1)\n",
    "    state.speed = speed\n",
    "    \n",
    "    heading = convert_heading(144.0, 1)\n",
    "    state.heading = heading\n",
    "    \n",
    "    if datafile.validate():\n",
    "        datafile.commit(data_store.session)\n",
    "\n",
    "    list_all(data_store)"
   ]
  },
  {
   "cell_type": "code",
   "execution_count": null,
   "metadata": {},
   "outputs": [],
   "source": []
  }
 ],
 "metadata": {
  "kernelspec": {
   "display_name": "Python 3",
   "language": "python",
   "name": "python3"
  },
  "language_info": {
   "codemirror_mode": {
    "name": "ipython",
    "version": 3
   },
   "file_extension": ".py",
   "mimetype": "text/x-python",
   "name": "python",
   "nbconvert_exporter": "python",
   "pygments_lexer": "ipython3",
   "version": "3.8.1"
  },
  "pycharm": {
   "stem_cell": {
    "cell_type": "raw",
    "source": [],
    "metadata": {
     "collapsed": false
    }
   }
  }
 },
 "nbformat": 4,
 "nbformat_minor": 1
}