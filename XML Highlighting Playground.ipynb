{
 "cells": [
  {
   "cell_type": "markdown",
   "metadata": {},
   "source": [
    "## XML Highlighting example"
   ]
  },
  {
   "cell_type": "markdown",
   "metadata": {},
   "source": [
    "This example uses the Python ElementTree module, and a custom TreeBuilder class (mostly copied from the Python Standard Library) and Element factory to implement a version of ElementTree where each element knows where its start and end characters are."
   ]
  },
  {
   "cell_type": "code",
   "execution_count": 1,
   "metadata": {},
   "outputs": [],
   "source": [
    "# Needed to stop the C version of the library being imported\n",
    "# See https://stackoverflow.com/a/55261552/1912\n",
    "import _elementtree\n",
    "try:\n",
    "    del _elementtree.XMLParser\n",
    "except AttributeError:\n",
    "    # in case deleted twice\n",
    "    pass"
   ]
  },
  {
   "cell_type": "code",
   "execution_count": 2,
   "metadata": {},
   "outputs": [],
   "source": [
    "from xml.etree.ElementTree import XMLParser, TreeBuilder, Element, ElementTree, parse, Comment, ProcessingInstruction"
   ]
  },
  {
   "cell_type": "code",
   "execution_count": 3,
   "metadata": {},
   "outputs": [],
   "source": [
    "from io import StringIO\n",
    "xml_string = \"\"\"<trk>\n",
    "<trkpt lat=\"22.1862861\" lon=\"-21.6978806\">\n",
    "<ele test_attrib1=\"blah\" test_attrib2=\"blah2\">0.000</ele>\n",
    "<time>\n",
    "2012-04-27T16:29:38+01:00\n",
    "</time>\n",
    "<course test_attrib=\"blah\">268.7</course>\n",
    "<speed>4.5</speed>\n",
    "</trkpt>\n",
    "</trk>\"\"\"\n",
    "\n",
    "xml_file_obj = StringIO(xml_string)"
   ]
  },
  {
   "cell_type": "code",
   "execution_count": 4,
   "metadata": {},
   "outputs": [],
   "source": [
    "class MyElement(Element):\n",
    "    \"\"\"\n",
    "    A subclass of the Python Element class, which takes a start_byte argument\n",
    "    in the constructor, and also sets up instance variables of `start`,\n",
    "    `end` and `text_start`.\n",
    "    \"\"\"\n",
    "    def __init__(self, tag, attrib={}, start_byte=None, **extra):\n",
    "        self.start = start_byte\n",
    "        self.end = None\n",
    "        self.text_start = None\n",
    "        \n",
    "        super(MyElement, self).__init__(tag, attrib, **extra)"
   ]
  },
  {
   "cell_type": "code",
   "execution_count": 5,
   "metadata": {},
   "outputs": [],
   "source": [
    "class MyTreeBuilder:\n",
    "    \"\"\"\n",
    "    Note: the majority of this is copied from the Python Standard Library\n",
    "    TreeBuilder, but this has been extended to:\n",
    "    - Store a parser instance from the constructor\n",
    "    - Call self._parser.parser.CurrentByteIndex to get the byte index in\n",
    "      methods like `start` and `end`\n",
    "    - Pass this byte index to the MyElement constructor\n",
    "    - Set the end and text_start locations in the MyElement constructor too\n",
    "    \n",
    "    Generic element structure builder.\n",
    "    This builder converts a sequence of start, data, and end method\n",
    "    calls to a well-formed element structure.\n",
    "    You can use this class to build an element structure using a custom XML\n",
    "    parser, or a parser for some other XML-like format.\n",
    "    *element_factory* is an optional element factory which is called\n",
    "    to create new Element instances, as necessary.\n",
    "    *comment_factory* is a factory to create comments to be used instead of\n",
    "    the standard factory.  If *insert_comments* is false (the default),\n",
    "    comments will not be inserted into the tree.\n",
    "    *pi_factory* is a factory to create processing instructions to be used\n",
    "    instead of the standard factory.  If *insert_pis* is false (the default),\n",
    "    processing instructions will not be inserted into the tree.\n",
    "    \"\"\"\n",
    "    def __init__(self, parser=None, element_factory=None, *,\n",
    "                 comment_factory=None, pi_factory=None,\n",
    "                 insert_comments=False, insert_pis=False):\n",
    "        self._parser = parser\n",
    "        self._data = [] # data collector\n",
    "        self._elem = [] # element stack\n",
    "        self._last = None # last element\n",
    "        self._root = None # root element\n",
    "        self._tail = None # true if we're after an end tag\n",
    "        if comment_factory is None:\n",
    "            comment_factory = Comment\n",
    "        self._comment_factory = comment_factory\n",
    "        self.insert_comments = insert_comments\n",
    "        if pi_factory is None:\n",
    "            pi_factory = ProcessingInstruction\n",
    "        self._pi_factory = pi_factory\n",
    "        self.insert_pis = insert_pis\n",
    "        if element_factory is None:\n",
    "            element_factory = Element\n",
    "        self._factory = element_factory\n",
    "\n",
    "    def close(self):\n",
    "        \"\"\"Flush builder buffers and return toplevel document Element.\"\"\"\n",
    "        assert len(self._elem) == 0, \"missing end tags\"\n",
    "        assert self._root is not None, \"missing toplevel element\"\n",
    "        return self._root\n",
    "\n",
    "    def _flush(self):\n",
    "        if self._data:\n",
    "            if self._last is not None:\n",
    "                text = \"\".join(self._data)\n",
    "                if self._tail:\n",
    "                    assert self._last.tail is None, \"internal error (tail)\"\n",
    "                    self._last.tail = text\n",
    "                else:\n",
    "                    assert self._last.text is None, \"internal error (text)\"\n",
    "                    self._last.text = text\n",
    "                    #print(f\"Setting last element text start to {self._data_start}\")\n",
    "                    self._last.text_start = self._data_start\n",
    "            self._data = []\n",
    "\n",
    "    def data(self, data):\n",
    "        \"\"\"Add text to current element.\"\"\"\n",
    "        #print(f\"Data called at position {self._parser.parser.CurrentByteIndex}\")\n",
    "        #print(f\"self._data = {self._data}\")\n",
    "        if self._data == []:\n",
    "            # Starting bit of text\n",
    "            self._data_start = self._parser.parser.CurrentByteIndex\n",
    "        #print(f\"self._data_start = {self._data_start}\")\n",
    "        self._data.append(data)\n",
    "\n",
    "    def start(self, tag, attrs):\n",
    "        \"\"\"Open new element and return it.\n",
    "        *tag* is the element name, *attrs* is a dict containing element\n",
    "        attributes.\n",
    "        \"\"\"\n",
    "        self._flush()\n",
    "        self._last = elem = self._factory(tag, attrs, self._parser.parser.CurrentByteIndex)\n",
    "        if self._elem:\n",
    "            self._elem[-1].append(elem)\n",
    "        elif self._root is None:\n",
    "            self._root = elem\n",
    "        self._elem.append(elem)\n",
    "        self._tail = 0\n",
    "        return elem\n",
    "\n",
    "    def end(self, tag):\n",
    "        \"\"\"Close and return current Element.\n",
    "        *tag* is the element name.\n",
    "        \"\"\"\n",
    "        self._flush()\n",
    "        self._last = self._elem.pop()\n",
    "        \n",
    "        # Record end byte\n",
    "        self._last.end = self._parser.parser.CurrentByteIndex\n",
    "        \n",
    "        assert self._last.tag == tag,\\\n",
    "               \"end tag mismatch (expected %s, got %s)\" % (\n",
    "                   self._last.tag, tag)\n",
    "        self._tail = 1\n",
    "        return self._last\n",
    "\n",
    "    def comment(self, text):\n",
    "        \"\"\"Create a comment using the comment_factory.\n",
    "        *text* is the text of the comment.\n",
    "        \"\"\"\n",
    "        return self._handle_single(\n",
    "            self._comment_factory, self.insert_comments, text)\n",
    "\n",
    "    def pi(self, target, text=None):\n",
    "        \"\"\"Create a processing instruction using the pi_factory.\n",
    "        *target* is the target name of the processing instruction.\n",
    "        *text* is the data of the processing instruction, or ''.\n",
    "        \"\"\"\n",
    "        return self._handle_single(\n",
    "            self._pi_factory, self.insert_pis, target, text)\n",
    "\n",
    "    def _handle_single(self, factory, insert, *args):\n",
    "        elem = factory(*args)\n",
    "        if insert:\n",
    "            self._flush()\n",
    "            self._last = elem\n",
    "            if self._elem:\n",
    "                self._elem[-1].append(elem)\n",
    "            self._tail = 1\n",
    "        return elem"
   ]
  },
  {
   "cell_type": "code",
   "execution_count": 6,
   "metadata": {},
   "outputs": [],
   "source": [
    "parser = XMLParser(target=None)\n",
    "parser.parser.buffer_text = False\n",
    "tree_builder = MyTreeBuilder(parser=parser, element_factory=MyElement)"
   ]
  },
  {
   "cell_type": "code",
   "execution_count": 7,
   "metadata": {},
   "outputs": [],
   "source": [
    "parser.__init__(target=tree_builder)\n",
    "parser.parser.buffer_text = False"
   ]
  },
  {
   "cell_type": "code",
   "execution_count": 8,
   "metadata": {},
   "outputs": [],
   "source": [
    "doc = parse(xml_file_obj, parser)"
   ]
  },
  {
   "cell_type": "markdown",
   "metadata": {},
   "source": [
    "### Find the Course element, and get it's start, end and text_start"
   ]
  },
  {
   "cell_type": "code",
   "execution_count": 9,
   "metadata": {
    "scrolled": true
   },
   "outputs": [],
   "source": [
    "el = doc.find(\".//course\")"
   ]
  },
  {
   "cell_type": "code",
   "execution_count": 10,
   "metadata": {},
   "outputs": [
    {
     "name": "stdout",
     "output_type": "stream",
     "text": [
      "Whole element: <course test_attrib=\"blah\">268.7\n"
     ]
    }
   ],
   "source": [
    "print(\"Whole element: \" + xml_string[el.start:el.end])"
   ]
  },
  {
   "cell_type": "markdown",
   "metadata": {},
   "source": [
    "Note, the way the currentByteIndex variable works is that it gives the start of the element that triggered it - therefore we get the text from the start of the opening tag, to the start of the closing tag."
   ]
  },
  {
   "cell_type": "code",
   "execution_count": 11,
   "metadata": {},
   "outputs": [
    {
     "name": "stdout",
     "output_type": "stream",
     "text": [
      "Just text content: 268.7\n"
     ]
    }
   ],
   "source": [
    "print(\"Just text content: \" + xml_string[el.text_start:el.end])"
   ]
  },
  {
   "cell_type": "markdown",
   "metadata": {},
   "source": [
    "### Parsing a large file"
   ]
  },
  {
   "cell_type": "code",
   "execution_count": null,
   "metadata": {},
   "outputs": [],
   "source": [
    "def parse_large_file():\n",
    "    parser = XMLParser(target=None)\n",
    "    parser.parser.buffer_text = False\n",
    "    tree_builder = MyTreeBuilder(parser=parser, element_factory=MyElement)\n",
    "    parser.__init__(target=tree_builder)\n",
    "    parser.parser.buffer_text = False\n",
    "    with open('large_gpx.gpx') as f:\n",
    "        doc = parse(f, parser)\n",
    "        \n",
    "    return doc"
   ]
  },
  {
   "cell_type": "code",
   "execution_count": null,
   "metadata": {},
   "outputs": [],
   "source": [
    "#%timeit parse_large_file()"
   ]
  },
  {
   "cell_type": "markdown",
   "metadata": {},
   "source": [
    "### Linking with Highlighting"
   ]
  },
  {
   "cell_type": "code",
   "execution_count": 12,
   "metadata": {},
   "outputs": [],
   "source": [
    "from pepys_import.file.highlighter.highlighter import HighlightedFile\n",
    "from pepys_import.file.highlighter.support.usages import SingleUsage"
   ]
  },
  {
   "cell_type": "code",
   "execution_count": 13,
   "metadata": {},
   "outputs": [
    {
     "name": "stderr",
     "output_type": "stream",
     "text": [
      "100%|██████████| 224/224 [00:00<00:00, 393765.34it/s]\n"
     ]
    }
   ],
   "source": [
    "hf = HighlightedFile('small_gpx.gpx')\n",
    "hf.fill_char_array_if_needed()"
   ]
  },
  {
   "cell_type": "code",
   "execution_count": 14,
   "metadata": {},
   "outputs": [],
   "source": [
    "usage = SingleUsage(\"Tool\", \"Message\")"
   ]
  },
  {
   "cell_type": "code",
   "execution_count": 15,
   "metadata": {},
   "outputs": [],
   "source": [
    "for i in range(el.text_start, el.end):\n",
    "    hf.chars[i].usages.append(usage)"
   ]
  },
  {
   "cell_type": "code",
   "execution_count": 16,
   "metadata": {},
   "outputs": [
    {
     "name": "stderr",
     "output_type": "stream",
     "text": [
      "100%|██████████| 224/224 [00:00<00:00, 347200.33it/s]\n"
     ]
    }
   ],
   "source": [
    "hf.export(\"test_xml_highlight.html\")"
   ]
  },
  {
   "cell_type": "code",
   "execution_count": 18,
   "metadata": {},
   "outputs": [
    {
     "data": {
      "text/html": [
       "<html>\n",
       "    <head>\n",
       "    </head>\n",
       "    <body style=\"font-family: Courier\">\n",
       "    &lt;trk&gt;<br>&lt;trkpt lat=&quot;22.1862861&quot; lon=&quot;-21.6978806&quot;&gt;<br>&lt;ele test_attrib1=&quot;blah&quot; test_attrib2=&quot;blah2&quot;&gt;0.000&lt;/ele&gt;<br>&lt;time&gt;<br>2012-04-27T16:29:38+01:00<br>&lt;/time&gt;<br>&lt;course test_attrib=&quot;blah&quot;&gt;<span title='Tool, Message' style=\"background-color:rgba(128,128,128,0.3)\">268.7</span>&lt;/course&gt;<br>&lt;speed&gt;4.5&lt;/speed&gt;<br>&lt;/trkpt&gt;<br>&lt;/trk&gt;</body>\n",
       "    </html>"
      ],
      "text/plain": [
       "<IPython.core.display.HTML object>"
      ]
     },
     "execution_count": 18,
     "metadata": {},
     "output_type": "execute_result"
    }
   ],
   "source": [
    "from IPython.display import HTML\n",
    "with open('test_xml_highlight.html') as f:\n",
    "    contents = f.read()\n",
    "\n",
    "HTML(contents)"
   ]
  },
  {
   "cell_type": "code",
   "execution_count": null,
   "metadata": {},
   "outputs": [],
   "source": []
  }
 ],
 "metadata": {
  "hide_input": false,
  "kernelspec": {
   "display_name": "Python 3",
   "language": "python",
   "name": "python3"
  },
  "language_info": {
   "codemirror_mode": {
    "name": "ipython",
    "version": 3
   },
   "file_extension": ".py",
   "mimetype": "text/x-python",
   "name": "python",
   "nbconvert_exporter": "python",
   "pygments_lexer": "ipython3",
   "version": "3.7.8"
  }
 },
 "nbformat": 4,
 "nbformat_minor": 4
}
